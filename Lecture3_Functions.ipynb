{
  "nbformat": 4,
  "nbformat_minor": 0,
  "metadata": {
    "colab": {
      "provenance": [],
      "collapsed_sections": [
        "8CrJBKBQlObH",
        "Oeel89GilSjw",
        "V9BtvwZvlVm8",
        "S-R_VieilZHF",
        "8hykAX-Hz9kK",
        "9xGe8CmD1q2j",
        "O1S4Er2L2BHr",
        "OmcQwOMZ4sfR"
      ],
      "include_colab_link": true
    },
    "kernelspec": {
      "name": "python3",
      "display_name": "Python 3"
    },
    "language_info": {
      "name": "python"
    }
  },
  "cells": [
    {
      "cell_type": "markdown",
      "metadata": {
        "id": "view-in-github",
        "colab_type": "text"
      },
      "source": [
        "<a href=\"https://colab.research.google.com/github/PlacementGuide1/PythonCourse/blob/main/Lecture3_Functions.ipynb\" target=\"_parent\"><img src=\"https://colab.research.google.com/assets/colab-badge.svg\" alt=\"Open In Colab\"/></a>"
      ]
    },
    {
      "cell_type": "markdown",
      "source": [
        ">[Function calls](#scrollTo=F2ENDfUDkXS8)\n",
        "\n",
        ">[Built-in functions](#scrollTo=Qeq8nh9Kkwjp)\n",
        "\n",
        ">[Type conversion functions](#scrollTo=ZKESAQL2kzlW)\n",
        "\n",
        ">[Libray function](#scrollTo=DxkLGpjRITGm)\n",
        "\n",
        ">>[How to access Libarary functions](#scrollTo=Y6oNlh-HKK8A)\n",
        "\n",
        ">>[Use of as](#scrollTo=TVbav9NLKseD)\n",
        "\n",
        ">>[Import single function from libray](#scrollTo=1W7Jz4kDL3nl)\n",
        "\n",
        ">[Adding new functions](#scrollTo=JOvEZEcDlF25)\n",
        "\n",
        ">>[Definitions and uses](#scrollTo=Mj7gvlb6lJZx)\n",
        "\n",
        ">[Flow of execution](#scrollTo=8CrJBKBQlObH)\n",
        "\n",
        ">[Parameters and arguments](#scrollTo=Oeel89GilSjw)\n",
        "\n",
        ">>[Arbitrary Arguments, *args](#scrollTo=7k5PyonP4I7C)\n",
        "\n",
        ">>[Arbitrary Keyword Arguments, **kwargs](#scrollTo=GCHjVISF4xDj)\n",
        "\n",
        ">>[Default Parameter Value](#scrollTo=aYKYgJ9r5GZJ)\n",
        "\n",
        ">>[How to restrict parameter type in python](#scrollTo=MC6sDSnk5tuA)\n",
        "\n",
        ">[Fruitful functions and void functions](#scrollTo=V9BtvwZvlVm8)\n",
        "\n",
        ">[Why functions?](#scrollTo=S-R_VieilZHF)\n",
        "\n",
        ">[Anonymous Functions](#scrollTo=8hykAX-Hz9kK)\n",
        "\n",
        ">[Recursion](#scrollTo=9xGe8CmD1q2j)\n",
        "\n",
        ">>[Recursive Function](#scrollTo=O1S4Er2L2BHr)\n",
        "\n",
        ">>[Advantages of Recursion](#scrollTo=OmcQwOMZ4sfR)\n",
        "\n",
        ">>[Disadvantages of Recursion](#scrollTo=OmcQwOMZ4sfR)\n",
        "\n"
      ],
      "metadata": {
        "colab_type": "toc",
        "id": "eHIR0Ucalqfy"
      }
    },
    {
      "cell_type": "markdown",
      "source": [
        "#Function calls \n",
        "In the context of programming, a function is a named sequence of statements that performs a computation. When you define a function, you specify the name and the sequence of statements. Later, you can **“call”** the function by name. We have already seen one example of a function call:"
      ],
      "metadata": {
        "id": "F2ENDfUDkXS8"
      }
    },
    {
      "cell_type": "code",
      "source": [
        "type(32)"
      ],
      "metadata": {
        "id": "G1K9i_09CFGq"
      },
      "execution_count": null,
      "outputs": []
    },
    {
      "cell_type": "code",
      "source": [
        "len(\"Divanshu verma\")"
      ],
      "metadata": {
        "id": "YADkw0eQCKkH"
      },
      "execution_count": null,
      "outputs": []
    },
    {
      "cell_type": "code",
      "source": [
        "print(\"divanshu verma\")"
      ],
      "metadata": {
        "id": "Q8z8SbvVCKsl"
      },
      "execution_count": null,
      "outputs": []
    },
    {
      "cell_type": "code",
      "source": [
        "input()"
      ],
      "metadata": {
        "id": "odKBC-jlIGmB"
      },
      "execution_count": null,
      "outputs": []
    },
    {
      "cell_type": "markdown",
      "source": [
        "**type()** :\n",
        "\n",
        "The **name of the function** is **type**. The **expression in parentheses** is called the\n",
        "**argument** of the function. The argument is a **value or variable** that we are passing\n",
        "into the function as input to the function. The **result**, for the type function, is the\n",
        "**type of the argument**.\n",
        "It is common to say that a function **takes** an argument and **returns** a result.\n",
        "The result is called the return value."
      ],
      "metadata": {
        "id": "_ZWk5g3sClD5"
      }
    },
    {
      "cell_type": "markdown",
      "source": [
        "#Built-in functions\n",
        "\n",
        "Python provides a number of important built-in functions that we can use without\n",
        "needing to provide the function definition. The creators of Python wrote a set of\n",
        "functions to solve common problems and included them in Python for us to use.\n",
        "The **max** and **min** functions give us the largest and smallest values in a list, respectively:"
      ],
      "metadata": {
        "id": "Qeq8nh9Kkwjp"
      }
    },
    {
      "cell_type": "code",
      "source": [
        "max(2,4,5,11,0,10,-1)"
      ],
      "metadata": {
        "colab": {
          "base_uri": "https://localhost:8080/"
        },
        "id": "DEISfWOLFDVH",
        "outputId": "45cd7490-6bad-4562-d5b8-fc804a46bda9"
      },
      "execution_count": null,
      "outputs": [
        {
          "output_type": "execute_result",
          "data": {
            "text/plain": [
              "11"
            ]
          },
          "metadata": {},
          "execution_count": 1
        }
      ]
    },
    {
      "cell_type": "code",
      "source": [
        "min(2,4,5,1,0,10,-1)"
      ],
      "metadata": {
        "id": "9SA90PuvFGWz"
      },
      "execution_count": null,
      "outputs": []
    },
    {
      "cell_type": "markdown",
      "source": [
        "The max function tells us the **largest number** in the list (which turns out to\n",
        "be the letter **10**) and the min function shows us the **smallest number** (which\n",
        "turns out to be a **-1**)."
      ],
      "metadata": {
        "id": "lYnorLyUFqtG"
      }
    },
    {
      "cell_type": "code",
      "source": [
        "len('Hello world')"
      ],
      "metadata": {
        "id": "ttHT_wAdGVlQ"
      },
      "execution_count": null,
      "outputs": []
    },
    {
      "cell_type": "markdown",
      "source": [
        "Another very common built-in function is the **len** function which tells us how many items are in its **argument**. \n",
        "\n",
        "***Example*** If the argument to len is a string, it **returns** the number\n",
        "of characters in the string. These functions are not limited to looking at strings. They can operate on any set of values, as we will see in later classes."
      ],
      "metadata": {
        "id": "E1te4QFXGW4E"
      }
    },
    {
      "cell_type": "markdown",
      "source": [
        "#Type conversion functions\n",
        "\n",
        "Python also provides built-in functions that convert values from one type to another. The **int** function takes any value and converts it to an integer, if it can, or complains otherwise:"
      ],
      "metadata": {
        "id": "ZKESAQL2kzlW"
      }
    },
    {
      "cell_type": "code",
      "source": [
        "int('32')"
      ],
      "metadata": {
        "id": "EOKTDVcIGrx0",
        "colab": {
          "base_uri": "https://localhost:8080/"
        },
        "outputId": "acee4376-8e87-4df7-bb8e-fc13b81682d0"
      },
      "execution_count": null,
      "outputs": [
        {
          "output_type": "execute_result",
          "data": {
            "text/plain": [
              "int"
            ]
          },
          "metadata": {},
          "execution_count": 3
        }
      ]
    },
    {
      "cell_type": "code",
      "source": [
        "int('Hello')"
      ],
      "metadata": {
        "id": "H09Bs1nOHS3E",
        "colab": {
          "base_uri": "https://localhost:8080/",
          "height": 166
        },
        "outputId": "cdc2d511-b4ad-4106-8948-86b5750b9716"
      },
      "execution_count": null,
      "outputs": [
        {
          "output_type": "error",
          "ename": "ValueError",
          "evalue": "ignored",
          "traceback": [
            "\u001b[0;31m---------------------------------------------------------------------------\u001b[0m",
            "\u001b[0;31mValueError\u001b[0m                                Traceback (most recent call last)",
            "\u001b[0;32m<ipython-input-4-6765ce49acfe>\u001b[0m in \u001b[0;36m<module>\u001b[0;34m\u001b[0m\n\u001b[0;32m----> 1\u001b[0;31m \u001b[0mint\u001b[0m\u001b[0;34m(\u001b[0m\u001b[0;34m'Hello'\u001b[0m\u001b[0;34m)\u001b[0m\u001b[0;34m\u001b[0m\u001b[0;34m\u001b[0m\u001b[0m\n\u001b[0m",
            "\u001b[0;31mValueError\u001b[0m: invalid literal for int() with base 10: 'Hello'"
          ]
        }
      ]
    },
    {
      "cell_type": "markdown",
      "source": [
        "int can convert floating-point values to integers, but it doesn’t round off; it chops\n",
        "off the fraction part:"
      ],
      "metadata": {
        "id": "nKzOzowSHcLf"
      }
    },
    {
      "cell_type": "code",
      "source": [
        "int(3.9999)"
      ],
      "metadata": {
        "id": "6SBFh0yxHhre",
        "colab": {
          "base_uri": "https://localhost:8080/"
        },
        "outputId": "0d416860-fd0b-4902-87a1-44536cb58473"
      },
      "execution_count": null,
      "outputs": [
        {
          "output_type": "execute_result",
          "data": {
            "text/plain": [
              "3"
            ]
          },
          "metadata": {},
          "execution_count": 5
        }
      ]
    },
    {
      "cell_type": "code",
      "source": [
        "int(-2.3)"
      ],
      "metadata": {
        "colab": {
          "base_uri": "https://localhost:8080/"
        },
        "id": "V8w6tjETHkTl",
        "outputId": "42afaca0-c0d7-494d-f3ab-39faf4c4f1f1"
      },
      "execution_count": null,
      "outputs": [
        {
          "output_type": "execute_result",
          "data": {
            "text/plain": [
              "-2"
            ]
          },
          "metadata": {},
          "execution_count": 6
        }
      ]
    },
    {
      "cell_type": "markdown",
      "source": [
        "other functions:\n",
        "\n",
        ">float()\n",
        "\n",
        ">str()\n",
        "\n",
        ">bool()\n",
        "\n",
        ">complex()"
      ],
      "metadata": {
        "id": "Svq-x84tHyIJ"
      }
    },
    {
      "cell_type": "markdown",
      "source": [
        "#Libray function\n",
        "\n",
        "These functions are provided by libarary. These libraries we need to **import** in our code and then we can use these functions.\n",
        "\n",
        "**syntax** : import [Library Name]\n",
        "\n",
        "**Example** : import math"
      ],
      "metadata": {
        "id": "DxkLGpjRITGm"
      }
    },
    {
      "cell_type": "code",
      "source": [
        "import math \n",
        "\n",
        "print(math)"
      ],
      "metadata": {
        "colab": {
          "base_uri": "https://localhost:8080/"
        },
        "id": "Dj6hpHyLIrF7",
        "outputId": "a6c275b1-75c6-4886-fcba-2616899b3898"
      },
      "execution_count": null,
      "outputs": [
        {
          "output_type": "stream",
          "name": "stdout",
          "text": [
            "<module 'math' (built-in)>\n"
          ]
        }
      ]
    },
    {
      "cell_type": "markdown",
      "source": [
        "This statement creates a module object named math. If you print the module\n",
        "object, you get some information about it."
      ],
      "metadata": {
        "id": "qE-IoWoNJhup"
      }
    },
    {
      "cell_type": "markdown",
      "source": [
        "##How to access Libarary functions\n",
        "\n",
        "The module object contains the functions and variables defined in the module. To\n",
        "access one of the functions, you have to specify the name of the module and the\n",
        "name of the function, separated by a dot (also known as a period). This format is\n",
        "called dot notation"
      ],
      "metadata": {
        "id": "Y6oNlh-HKK8A"
      }
    },
    {
      "cell_type": "code",
      "source": [
        "import math\n",
        "\n",
        "ratio = 10\n",
        "decibels = 10 * math.log10(ratio)\n",
        "print(decibels)"
      ],
      "metadata": {
        "id": "QEXJl9Z5KeCC",
        "colab": {
          "base_uri": "https://localhost:8080/"
        },
        "outputId": "328bdcfb-0fbb-42cb-b8a5-5dd7f2c6ddb9"
      },
      "execution_count": null,
      "outputs": [
        {
          "output_type": "stream",
          "name": "stdout",
          "text": [
            "10.0\n"
          ]
        }
      ]
    },
    {
      "cell_type": "markdown",
      "source": [
        "## Use of `as`\n",
        "\n",
        "If we want to define library object with some other name like math library object will be define as m.We can use `as` key word"
      ],
      "metadata": {
        "id": "TVbav9NLKseD"
      }
    },
    {
      "cell_type": "code",
      "source": [
        "#https://docs.python.org/3/library/math.html\n",
        "import math as m\n",
        "\n",
        "ratio = 10\n",
        "decibels = 10 * m.log10(ratio)\n",
        "print(decibels)"
      ],
      "metadata": {
        "id": "BxJDVIvFLZlj"
      },
      "execution_count": null,
      "outputs": []
    },
    {
      "cell_type": "markdown",
      "source": [
        "##Import single function from libray"
      ],
      "metadata": {
        "id": "1W7Jz4kDL3nl"
      }
    },
    {
      "cell_type": "code",
      "source": [
        "from math import log10 as log\n",
        "\n",
        "ratio = 10\n",
        "decibels = 10 * log(ratio)\n",
        "print(decibels)"
      ],
      "metadata": {
        "colab": {
          "base_uri": "https://localhost:8080/"
        },
        "id": "hO3omLLXNGnI",
        "outputId": "68d713b9-1646-455f-b0c2-3f207656436f"
      },
      "execution_count": null,
      "outputs": [
        {
          "output_type": "stream",
          "name": "stdout",
          "text": [
            "10.0\n"
          ]
        }
      ]
    },
    {
      "cell_type": "code",
      "source": [
        "# random library\n",
        "import random\n",
        "\n",
        "random.randrange(0, 100, 1)"
      ],
      "metadata": {
        "colab": {
          "base_uri": "https://localhost:8080/"
        },
        "id": "VBkZD9MoHjkC",
        "outputId": "fc775ed9-f36d-4d73-f37c-ceb88fb3c58c"
      },
      "execution_count": null,
      "outputs": [
        {
          "output_type": "execute_result",
          "data": {
            "text/plain": [
              "65"
            ]
          },
          "metadata": {},
          "execution_count": 16
        }
      ]
    },
    {
      "cell_type": "markdown",
      "source": [
        "#Adding new functions\n",
        "\n",
        "So far, we have only been using the functions that come with Python, but it is also\n",
        "possible to add new functions. A function definition specifies the name of a new\n",
        "function and the sequence of statements that execute when the function is called.\n",
        "Once we define a function, we can reuse the function over and over throughout our\n",
        "program"
      ],
      "metadata": {
        "id": "JOvEZEcDlF25"
      }
    },
    {
      "cell_type": "code",
      "source": [
        "def print_lyrics():\n",
        "  print(\"I'm a lumberjack, and I'm okay.\")\n",
        "  print('I sleep all night and I work all day.')\n",
        "\n",
        "print_lyrics()"
      ],
      "metadata": {
        "id": "t0N4gD1zOrjy",
        "colab": {
          "base_uri": "https://localhost:8080/"
        },
        "outputId": "4bf749fa-c13d-4d05-8c1d-fd259f9642e3"
      },
      "execution_count": null,
      "outputs": [
        {
          "output_type": "stream",
          "name": "stdout",
          "text": [
            "I'm a lumberjack, and I'm okay.\n",
            "I sleep all night and I work all day.\n"
          ]
        }
      ]
    },
    {
      "cell_type": "markdown",
      "source": [
        "**def** is a keyword that indicates that this is a function definition. The name of\n",
        "the function is **print_lyrics**. \n",
        "\n",
        ">The rules for function names are the same as for variable names: \n",
        "1. letters, numbers and some punctuation marks are legal, \n",
        "1.but the first character can’t be a number. \n",
        "1. You can’t use a keyword as the name of a\n",
        "function, and \n",
        "1. you should avoid having a variable and a function with the same\n",
        "name.\n",
        "\n",
        "The **empty parentheses** after the name indicate that this function doesn’t take any arguments. (Later we will build functions that take arguments as their inputs.)\n",
        "\n",
        "The first line of the function definition is called the **header**. The header has to end with a colon(`:`)\n",
        "\n",
        "The rest is called the **body**. The body has to be indented.\n",
        "By convention, the indentation is always four spaces. The body can contain any number of statements.\n",
        "\n",
        "If you type a function definition in interactive mode, the interpreter prints ellipses (. . .) to let you know that the definition isn’t complete:"
      ],
      "metadata": {
        "id": "6KUZivvEO_5V"
      }
    },
    {
      "cell_type": "markdown",
      "source": [
        "To end the function, you have to enter an empty line (this is not necessary in a\n",
        "script).\n",
        "Defining a function creates a variable with the same name."
      ],
      "metadata": {
        "id": "Yuo93C-zXGc0"
      }
    },
    {
      "cell_type": "code",
      "source": [
        "print(print_lyrics)"
      ],
      "metadata": {
        "id": "ty2jkKa5XI9k"
      },
      "execution_count": null,
      "outputs": []
    },
    {
      "cell_type": "code",
      "source": [
        "def my_add(a, b):\n",
        "   return a+b\n",
        "\n",
        "my_add(4,5)"
      ],
      "metadata": {
        "id": "tYgGi6eCaHVK"
      },
      "execution_count": null,
      "outputs": []
    },
    {
      "cell_type": "code",
      "source": [
        "print(type(print_lyrics))"
      ],
      "metadata": {
        "id": "gSFAlVZzXOkf",
        "colab": {
          "base_uri": "https://localhost:8080/"
        },
        "outputId": "7bc8c66d-54f5-4b15-e7a7-231f640219a5"
      },
      "execution_count": null,
      "outputs": [
        {
          "output_type": "stream",
          "name": "stdout",
          "text": [
            "<class 'function'>\n"
          ]
        }
      ]
    },
    {
      "cell_type": "markdown",
      "source": [
        "The value of print_lyrics is a function object, which has type **“function”**.\n",
        "The **syntax for calling** the new function is the same as for built-in functions:"
      ],
      "metadata": {
        "id": "1BzaZrRcXYCj"
      }
    },
    {
      "cell_type": "code",
      "source": [
        "print_lyrics()"
      ],
      "metadata": {
        "id": "Y_NxZLWsXcy7"
      },
      "execution_count": null,
      "outputs": []
    },
    {
      "cell_type": "markdown",
      "source": [
        "Once you have defined a function, you can use it inside another function. For example, to repeat the previous refrain, we could write a function called repeat_lyrics:\n"
      ],
      "metadata": {
        "id": "IWAjSbLZXhf2"
      }
    },
    {
      "cell_type": "code",
      "source": [
        "def repeat_lyrics():\n",
        "  print_lyrics()\n",
        "  print_lyrics()"
      ],
      "metadata": {
        "id": "3z3SwAHUXlJf"
      },
      "execution_count": null,
      "outputs": []
    },
    {
      "cell_type": "code",
      "source": [
        "repeat_lyrics()"
      ],
      "metadata": {
        "id": "ra_Fa6WPXtMx",
        "colab": {
          "base_uri": "https://localhost:8080/"
        },
        "outputId": "c3d79bcf-9108-4b29-827f-2941df637225"
      },
      "execution_count": null,
      "outputs": [
        {
          "output_type": "stream",
          "name": "stdout",
          "text": [
            "I'm a lumberjack, and I'm okay.\n",
            "I sleep all night and I work all day.\n",
            "I'm a lumberjack, and I'm okay.\n",
            "I sleep all night and I work all day.\n"
          ]
        }
      ]
    },
    {
      "cell_type": "markdown",
      "source": [
        "##Definitions and uses\n",
        "\n",
        "Pulling together the code fragments from the previous section, the whole program\n",
        "looks like this:"
      ],
      "metadata": {
        "id": "Mj7gvlb6lJZx"
      }
    },
    {
      "cell_type": "code",
      "source": [
        "def print_divanshu():\n",
        "  print(\"divanshu\")\n",
        "\n",
        "def print_lyrics_new():\n",
        "  print(\"I'm a lumberjack, and I'm okay.\")\n",
        "  print('I sleep all night and I work all day.')\n",
        "\n",
        "def repeat_lyrics_new():\n",
        "  print_divanshu()\n",
        "  print_lyrics_new()\n",
        "\n",
        "repeat_lyrics_new()"
      ],
      "metadata": {
        "colab": {
          "base_uri": "https://localhost:8080/"
        },
        "id": "Ni5njNeHX-yN",
        "outputId": "74bec9ce-2d69-4fa4-e982-8425c4b4ca4a"
      },
      "execution_count": null,
      "outputs": [
        {
          "output_type": "stream",
          "name": "stdout",
          "text": [
            "divanshu\n",
            "I'm a lumberjack, and I'm okay.\n",
            "I sleep all night and I work all day.\n"
          ]
        }
      ]
    },
    {
      "cell_type": "markdown",
      "source": [
        "This program contains two function definitions: **print_lyrics_new** and **repeat_lyrics_new**.\n",
        "Function definitions get executed just like other statements, but the effect is to\n",
        "create function objects. The statements inside the function do not get executed\n",
        "until the function is called, and the function definition generates no output.\n",
        "As you might expect, you have to create a function before you can execute it. In\n",
        "other words, the function definition has to be executed before the first time it is\n",
        "called."
      ],
      "metadata": {
        "id": "8QFqb2aAY4FV"
      }
    },
    {
      "cell_type": "markdown",
      "source": [
        "#Flow of execution\n",
        "\n",
        "In order to ensure that a function is defined before its first use, you have to know the order in which statements are executed, which is called the **Flow of execution**.\n",
        "\n",
        "Execution always begins at the first statement of the program. Statements are executed one at a time, in order from top to bottom.\n",
        "\n",
        "Function definitions do not alter the flow of execution of the program, but remember that statements inside the function are not executed until the function is called.\n",
        "\n",
        "A function call is like a detour in the flow of execution. Instead of going to the next statement, the flow jumps to the body of the function, executes all the statements there, and then comes back to pick up where it left off.\n",
        "\n",
        "That sounds simple enough, until you remember that one function can call another.\n",
        "\n",
        "While in the middle of one function, the program might have to execute the statements in another function. But while executing that new function, the program might have to execute yet another function!\n",
        "\n",
        "Fortunately, Python is good at keeping track of where it is, so each time a function completes, the program picks up where it left off in the function that called it. When it gets to the end of the program, it terminates.\n",
        "\n",
        "**What’s the moral of this sordid tale?** \n",
        "\n",
        "When you read a program, you don’t always want to read from top to bottom. Sometimes it makes more sense if you follow the **flow of execution**."
      ],
      "metadata": {
        "id": "8CrJBKBQlObH"
      }
    },
    {
      "cell_type": "markdown",
      "source": [
        "#Parameters and arguments\n",
        "\n",
        "Some of the built-in functions we have seen require arguments.\n",
        "\n",
        "**Example**, when you call **math.sin** you pass a number as an argument. \n",
        "\n",
        "Some functions take more than one argument: **math.pow** takes two, the **base** and the **exponent**.\n",
        "\n",
        "Inside the function, the arguments are assigned to variables called parameters.\n",
        "\n",
        "Here is an example of a user-defined function that takes an argument:"
      ],
      "metadata": {
        "id": "Oeel89GilSjw"
      }
    },
    {
      "cell_type": "code",
      "source": [
        "def print_twice(a, b=\"madhu\", c=\"harshul\"):\n",
        "  print(a)\n",
        "  print(b)\n",
        "  print(c)\n",
        "\n",
        "type(print_twice(\"diavnshu verma\", \"ankita\", \"himani\"))"
      ],
      "metadata": {
        "id": "qV3Mr5nYaeIv",
        "colab": {
          "base_uri": "https://localhost:8080/"
        },
        "outputId": "855912e9-aecc-401a-d6e0-5a2ebb25b5f5"
      },
      "execution_count": null,
      "outputs": [
        {
          "output_type": "stream",
          "name": "stdout",
          "text": [
            "diavnshu verma\n",
            "ankita\n",
            "himani\n"
          ]
        },
        {
          "output_type": "execute_result",
          "data": {
            "text/plain": [
              "NoneType"
            ]
          },
          "metadata": {},
          "execution_count": 28
        }
      ]
    },
    {
      "cell_type": "markdown",
      "source": [
        "This function assigns the argument to a parameter named bruce. When the function is called, it prints the value of the parameter (whatever it is) twice.\n",
        "This function works with any value that can be printed."
      ],
      "metadata": {
        "id": "Za1ZAYzQarZf"
      }
    },
    {
      "cell_type": "markdown",
      "source": [
        "##Arbitrary Arguments, *args\n",
        "\n",
        "If you do not know how many arguments that will be passed into your function, add a * before the parameter name in the function definition.\n",
        "\n",
        "This way the function will receive a tuple of arguments, and can access the items accordingly:\n",
        "\n",
        "If the number of arguments is unknown, add a * before the parameter name:"
      ],
      "metadata": {
        "id": "7k5PyonP4I7C"
      }
    },
    {
      "cell_type": "code",
      "source": [
        "def my_function(*kids):\n",
        "  print(\"The youngest child is \" + kids[2])\n",
        "\n",
        "my_function(\"Emil\", \"Tobias\", \"Linus\")"
      ],
      "metadata": {
        "id": "uhxp9r6F4VLt"
      },
      "execution_count": null,
      "outputs": []
    },
    {
      "cell_type": "markdown",
      "source": [
        "##Arbitrary Keyword Arguments, **kwargs\n",
        "\n",
        "If you do not know how many keyword arguments that will be passed into your function, add two asterisk: ** before the parameter name in the function definition.\n",
        "\n",
        "This way the function will receive a dictionary of arguments, and can access the items accordingly:\n",
        "\n",
        "**Example**\n",
        "If the number of keyword arguments is unknown, add a double ** before the parameter name:"
      ],
      "metadata": {
        "id": "GCHjVISF4xDj"
      }
    },
    {
      "cell_type": "code",
      "source": [
        "def my_function(**kid):\n",
        "  print(\"His last name is \" + kid[\"lname\"])\n",
        "\n",
        "my_function(fname = \"Tobias\", lname = \"Refsnes\")"
      ],
      "metadata": {
        "id": "XgsUwibU48zT"
      },
      "execution_count": null,
      "outputs": []
    },
    {
      "cell_type": "markdown",
      "source": [
        "##Default Parameter Value\n",
        "\n",
        "The following example shows how to use a default parameter value.\n",
        "If we call the function without argument, it uses the default value:"
      ],
      "metadata": {
        "id": "aYKYgJ9r5GZJ"
      }
    },
    {
      "cell_type": "code",
      "source": [
        "def my_function(country = \"Norway\"):\n",
        "  print(\"I am from \" + country)\n",
        "\n",
        "my_function(\"Sweden\")\n",
        "my_function(\"India\")\n",
        "my_function()\n",
        "my_function(\"Brazil\")"
      ],
      "metadata": {
        "id": "Ar4am8uA5Qli"
      },
      "execution_count": null,
      "outputs": []
    },
    {
      "cell_type": "markdown",
      "source": [
        "## How to restrict parameter type in python\n",
        "\n",
        "In python we cant restrict the type in function. We can only define the preference which will provide the IDE error as mention in below example:"
      ],
      "metadata": {
        "id": "MC6sDSnk5tuA"
      }
    },
    {
      "cell_type": "code",
      "source": [
        "def country(country:str):\n",
        "  print(country)\n",
        "\n",
        "country(1)"
      ],
      "metadata": {
        "colab": {
          "base_uri": "https://localhost:8080/"
        },
        "id": "W-1W-Ali51rX",
        "outputId": "c783846c-88ab-4894-c771-647935929f17"
      },
      "execution_count": null,
      "outputs": [
        {
          "output_type": "stream",
          "name": "stdout",
          "text": [
            "1\n"
          ]
        }
      ]
    },
    {
      "cell_type": "markdown",
      "source": [
        "#Fruitful functions and void functions\n",
        "\n",
        "Some of the functions we are using, such as the math functions, yield **results**\n",
        "\n",
        "For lack of a better name, I call them **fruitful functions**. Other functions, like\n",
        "**print_twice**, perform an action but don’t return a value. They are called **void functions**.\n",
        "\n",
        "When you call a fruitful function, you almost always want to do something with the result; for example, you might assign it to a variable or use it"
      ],
      "metadata": {
        "id": "V9BtvwZvlVm8"
      }
    },
    {
      "cell_type": "code",
      "source": [
        "radians = 1\n",
        "x = math.cos(radians)\n",
        "golden = (math.sqrt(5) + 1) / 2"
      ],
      "metadata": {
        "id": "qNvvO2jXbK9g"
      },
      "execution_count": null,
      "outputs": []
    },
    {
      "cell_type": "markdown",
      "source": [
        "But in a script, if you call a fruitful function and do not store the result of the\n",
        "function in a variable, the return value vanishes into the mist!"
      ],
      "metadata": {
        "id": "8sSYctqwbzQp"
      }
    },
    {
      "cell_type": "code",
      "source": [
        "math.sqrt(5)"
      ],
      "metadata": {
        "id": "qSRn4e6Vb2IL",
        "colab": {
          "base_uri": "https://localhost:8080/"
        },
        "outputId": "08b2fd58-ed64-4e7a-8a02-75207dc3633a"
      },
      "execution_count": null,
      "outputs": [
        {
          "output_type": "execute_result",
          "data": {
            "text/plain": [
              "2.23606797749979"
            ]
          },
          "metadata": {},
          "execution_count": 52
        }
      ]
    },
    {
      "cell_type": "markdown",
      "source": [
        "When you call a function in interactive mode, Python displays the result"
      ],
      "metadata": {
        "id": "NrN-OFTabbrr"
      }
    },
    {
      "cell_type": "code",
      "source": [
        "math.sqrt(5)"
      ],
      "metadata": {
        "id": "xmCwiJZTbmli"
      },
      "execution_count": null,
      "outputs": []
    },
    {
      "cell_type": "markdown",
      "source": [
        "This script computes the square root of 5, but since it doesn’t store the result in\n",
        "a variable or display the result, it is not very useful."
      ],
      "metadata": {
        "id": "Ru8pUwiCb96r"
      }
    },
    {
      "cell_type": "markdown",
      "source": [
        "**Void functions** might display something on the screen or have some other effect,\n",
        "but they don’t have a return value. If you try to assign the result to a variable,\n",
        "you get a special value called None."
      ],
      "metadata": {
        "id": "axv_cBTpcJLZ"
      }
    },
    {
      "cell_type": "code",
      "source": [
        "result = print_twice('Bing')\n",
        "print(result)"
      ],
      "metadata": {
        "id": "aY03CdY4ckS9"
      },
      "execution_count": null,
      "outputs": []
    },
    {
      "cell_type": "markdown",
      "source": [
        "The value None is not the same as the string “None”. It is a special value that has its own type:"
      ],
      "metadata": {
        "id": "QZyDGoUHdCFV"
      }
    },
    {
      "cell_type": "code",
      "source": [
        "print(type(None))"
      ],
      "metadata": {
        "id": "EG_KhXrLdOSa"
      },
      "execution_count": null,
      "outputs": []
    },
    {
      "cell_type": "markdown",
      "source": [
        "To return a result from a function, we use the return statement in our function.\n",
        "For example, we could make a very simple function called add that adds two\n",
        "numbers together and returns a result."
      ],
      "metadata": {
        "id": "SJ_cp4fldtbm"
      }
    },
    {
      "cell_type": "code",
      "source": [
        "def addtwo(a, b):\n",
        "  added = a + b\n",
        "  return added\n",
        "x = addtwo(3, 5)\n",
        "print(x)"
      ],
      "metadata": {
        "id": "Zpw66X5xd6TM"
      },
      "execution_count": null,
      "outputs": []
    },
    {
      "cell_type": "markdown",
      "source": [
        "#Why functions?\n",
        "\n",
        "It may not be clear why it is worth the trouble to divide a program into functions.There are several reasons:\n",
        "\n",
        "1. Creating a new function gives you an opportunity to name a group of statements, which makes your program easier to read, understand, and debug.\n",
        "1. Functions can make a program smaller by eliminating repetitive code. Later,\n",
        "if you make a change, you only have to make it in one place.\n",
        "1. Dividing a long program into functions allows you to debug the parts one at\n",
        "a time and then assemble them into a working whole.\n",
        "1. Well-designed functions are often useful for many programs. Once you write\n",
        "and debug one, you can reuse it.\n",
        "\n",
        "Throughout the rest of the cource, often we will use a function definition to explain\n",
        "a concept. Part of the skill of creating and using functions is to have a function\n",
        "properly capture an idea such as “find the smallest value in a list of values”. \n",
        "\n",
        "Later we will show you code that finds the smallest in a list of values and we will present it to you as a function named min which takes a list of values as its argument and returns the smallest value in the list."
      ],
      "metadata": {
        "id": "S-R_VieilZHF"
      }
    },
    {
      "cell_type": "code",
      "source": [
        "import sys\n",
        "\n",
        "def My_max(myList):\n",
        "  return max(myList)\n",
        "\n",
        "def My_min(myList):\n",
        "  return min(myList)\n",
        "\n",
        "def main():\n",
        "  myList = [1,2,3,-14,5,6]\n",
        "  print(My_max(myList))\n",
        "  print(My_min(myList))\n",
        "\n",
        "main()"
      ],
      "metadata": {
        "colab": {
          "base_uri": "https://localhost:8080/"
        },
        "id": "uB2dVobpSkY4",
        "outputId": "e2f65b3e-75aa-44d3-dae1-267217c446ba"
      },
      "execution_count": null,
      "outputs": [
        {
          "output_type": "stream",
          "name": "stdout",
          "text": [
            "6\n",
            "-14\n"
          ]
        }
      ]
    },
    {
      "cell_type": "markdown",
      "source": [
        "#Anonymous Functions\n",
        "\n",
        "In Python, an anonymous function is a function that is defined without a name.\n",
        "\n",
        "While normal functions are defined using the def keyword in Python, anonymous functions are defined using the lambda keyword.\n",
        "\n",
        "Hence, anonymous functions are also called lambda functions."
      ],
      "metadata": {
        "id": "8hykAX-Hz9kK"
      }
    },
    {
      "cell_type": "markdown",
      "source": [
        "**Syntax of Lambda Function in python**\n",
        "\n",
        "lambda arguments: expression\n",
        "\n",
        "Lambda functions can have any number of arguments but only one expression. The expression is evaluated and returned. Lambda functions can be used wherever function objects are required.\n"
      ],
      "metadata": {
        "id": "jUrtk7I00XeP"
      }
    },
    {
      "cell_type": "code",
      "source": [
        "#Example of Lambda Function in python\n",
        "double = lambda x,y: x * y\n",
        "\n",
        "print(double(5,4))"
      ],
      "metadata": {
        "id": "GheE1-v90vX2",
        "colab": {
          "base_uri": "https://localhost:8080/"
        },
        "outputId": "63edd14a-1dbb-4d5a-ee82-8bdf38fa212c"
      },
      "execution_count": null,
      "outputs": [
        {
          "output_type": "stream",
          "name": "stdout",
          "text": [
            "20\n"
          ]
        }
      ]
    },
    {
      "cell_type": "code",
      "source": [
        "#Some experiment\n",
        "print(type(lambda x: x * 2))"
      ],
      "metadata": {
        "colab": {
          "base_uri": "https://localhost:8080/"
        },
        "id": "z11Sy3SN0_Dz",
        "outputId": "9bde0042-c654-4145-989e-0c7cabc9945b"
      },
      "execution_count": null,
      "outputs": [
        {
          "output_type": "stream",
          "name": "stdout",
          "text": [
            "<class 'function'>\n"
          ]
        }
      ]
    },
    {
      "cell_type": "markdown",
      "source": [
        "#Recursion\n",
        "\n",
        "Recursion is the process of defining something in terms of itself.\n",
        "\n",
        "A physical world example would be to place two parallel mirrors facing each other. Any object in between them would be reflected recursively."
      ],
      "metadata": {
        "id": "9xGe8CmD1q2j"
      }
    },
    {
      "cell_type": "markdown",
      "source": [
        "##Recursive Function\n",
        "\n",
        "In Python, we know that a function can call other functions. It is even possible for the function to call itself. These types of construct are termed as recursive functions.\n",
        "\n",
        "The following image shows the working of a recursive function called recurse.\n",
        "\n",
        "![image.png](data:image/png;base64,iVBORw0KGgoAAAANSUhEUgAAAegAAAEQCAYAAAB7ked4AAAgAElEQVR4nO3dTXAbZ34m8Of/NmRLQ88YzkEq52JoqI+4bM000VCNbwNau8fVwDmtN6FFVnlvSUhW7WbG9oHUYezYkyqS40rVVsVVpKya0m3Fca4rk745JQLqsew4siwLPjnSIYNJrBEls9//HrobbIIACYAg2aSe38X86G68eCnj6fezASIiIiIiIiIiIiIiIiIiIiIiIiIiIiIiIiIiIiIiIiIiIiIiIiIiIiIiIiIiIiIiIiIiIiIiIiIiIiIiIiIiIiIiIiIiIiIiIiIiIiIiIiIiIiIiIiIiIiKiHXL1ehFXr0/udjGI9rrMbheg0VTxWxdwskBQG198wt+519UssOzCIFf/oUUVOOiPL0ptp8pBtGddvV6E40xAtQjVxd0uDtFel7qAdpzMZQFyogfmAIzsxGu+e2Z5FHgwCUh2bWEA4MEigMGdKAfRnnTtWg72sQkAw1Dd7dIQ7RupC+idFrbYMQ0AqqiJYFFUaiqaBZBTxW93t4S0H+Tz+QkRmVTVmrV20Pf9DXuHCoXCpKpOAKgGQTDo+351h4ravmvXssDBUdhgDEB20+OJqCOPfEAfcA6MKhSA1AJrB8YXD6Xvg5D2tEQ4V6Nw3vTf2NLS0mShUICqTjiOs+C6bnpCek0w2ywgu10ion3pkQ9oQF0AUAQfjS9+Lx0fgLRvxOEMANbalzoJ2aWlpUnP87IARlMT0uXPhmExAdjchsEsUkT5M/Z3035VhTGTGHj2wna+iNnOi+8FNuqaM+r8frfLQvuL67rFOJxFZHyzbu1mgiCYBOADyDmOc7nXZWzb1etFVP5lAcAskJhISfRoysHa6e1+kV1rQU8V7+dQ/x+9u5nS4czre7lw1nfn1wnPf9Dpy26r0qRmceBeDiZ6Tw8O+vOT7b2n0i+/dbs5b8PXt0Ft/o2dm02/rjxdvqc153V4botrVOdf62z4w3Gc2ehLf2lpqav/mX3frxUKhXFVXQDg5vP5yUql0vESJtd1hwHUfN+f76YcEM1CGcxECds+72LHB4+miveLGUemALhrCyJz3wWPjR9wHiwo4IrK3F99+HjTWdxTxfu5jCOzAIqNvwuvY883G0ueKn7rZpzMhAKuhJW7YQULUP2rKwePdvQG21R6634ORm4DUpv/+eNPlSY1i76Ho1AdgzaWS8/P//xQ0w/lDc8TLCLQkXaCpfTW/SIcmYCur9NW11p9DwCsjsy/dmhu4/fa+rjS28u3AeSwsjIw/8YTfumd5VEAk83e0/zfHmw6q37jOgQA8QFZxP0D51uFdRv1eX7+tUObLiHK5/PDIjILAEEQHN1q17TneXMAzgGoRddr+2Yjn89PisgEAKjq+W4Cvq782TAgE4AyrIm857Y1Q3e0Bf3umQclQOvddApUBaiqwoXocCbz0N1slUYYsrKAKFyT1xBBVqHDBxwpThXvD64P6cegsNGYM2oAahK14lVRg6DxQ28Hxvs0W5rULA49XIBVt+khtnk5wuB7sAAbtWwENVj4EGQBuFAUYeT2S28/HL7888dajpWU3n4wAegk1tZ9FYJsPaRaBXevGcctvf3gZ1BtHiLW/qHZj5vWhaIKRQ0Gbvg+1AU0Oz8p402v0fh3iK8RiuuzuFl9AkAciAAWezFuHATBtOM45wBkjTFjANoOWRH5abOvu+I9NwdgbtOgVl1E4XkuT6T9ZYfnVexYQE8V7+cEOqUAVFEVoyN/8/9WWyK/fnF5TKBTm13jgCOXFcgC4q8E9qVkCL975l4J6syqIG5hr/mAGF98zAewpkX86zPLtwXIGcj8X11p3mLfdt97OAVVF4oZqE7HrdTSO9+6CBwXQPMWmyOzUbdjNWqZ1o+LWq0LAHIKnS69df+jZi3p0jvLo4kwrMLqSLI7OAytPxZhTbbTLt6uOHIu3OgCi1A9H5elXg41rVqORcRDJlYHG1u5pXe+daGmiMBp/R7iv4OghkBfalKflwG4CjvXqj6BcOwZ9Rs/7ckkEt/3fc/zFgEUReQcOghoVf1IROIbrN/1ojzwnpvDtc8XsRIMw5iJzU8gok7tWECbDIY1GsMSqyN//eHaD9C/+fDg9Ltn/pgDzGiraxxwzIRCc6qoBnZtOAPAX1/pm//1i/ezgrD7+93i/eJfL27eHbnrVIcBjM//4uCaccr5v33CRzhBaJ3SW/eH663ahnAGgPnXDlVLb90fDLuWNQuDYTR8qJemfp/FQ4xF31ajYFtTp1FQdzdu2Q1FESpz879Ye7PURjnCuhAsNuuC3qgugaiLP/w7AIGON63Pqd8P4rtDt6HIQswEWmykY4wpxV9ba3tWd6r62yhocwMDA89cu3bt63bOq1Qqk57n+aqarVQqTYchujLwbBXAJK59PocgmER440BEPbJjs7gdlZ9FX/qtQnMlyGzy4aFFADAii63WKwd2uf6BaB0pNTsmdQSL8z8/2NkkImN+Fp3rtxoTjcI2CqUmH54PH0u2Os/vSAu5HWrPd3yOaNiyVnFLb93vfHzUMXH9VFuNpc+PP1WDSljXgpb/tkTkx9GXfidjxZsxxtRvMESko+7jcrk839NwThp4torC88Mw5ih61GNARDsY0BpNCrPAR62OGV98zIeuGwcGAEwVH7oadxtipeXuXuOLT9U0Gjs2wI9bHZcqgbask5ZEo9Zz6/oMf69xl+b60FJZHVd+cHDnWskbCVvAnd8oqETl1yyMLJR+9WCio6DWaNxZ7cZdwBp8Hb/On/+9PtP8UvVx2bZauO1aWVlJ1kv6JmnFQW3tIETScbNHtIftSBd3tKQqpLphi0IFNWkyuzrjfJeLNscG4Fx+98xybwu5uzr6MIu6psM6EoyW3l5uOSyQ9Od/r8/83/8lidAw8Q1MtZslWdvCdvfBPv/aocXSm8vjcDAKIAerkzAyWXpneRGBXmjVKk6IJoaZn5XeXt7SRBARif+993Rtve/7Vc/zennJ7XH61CJazZsgorbtmY1KVA33+o0tH2RdNDH/+sFpWB2E1QuIb3rCmdezpbeXb5feuj+8uyXsKf4bINrn9uZWn4EO7onJX9vl4HINDw+FX4djx92taxWpATuwasA6WRi7/a+D+rj7MBBNpBM5B4lmeBuZLf3qwTPz//vx1mPcTSaodaGGbQhQ13WT10xHjwcRbZsdaUEnJ3Q5ME3H7WLSdIMJILBOfYKMmhSOv+2g+fGnVtdsy8b1uaHVNcW50qRuX4vMBLvS2pt/7dDc/C8ODsLqUcQtaquTLd5r+Huz9Q04dHUYp/m69u4ly8aAJtrndqyLW6LZxCotNuNAOBEs2mRjneQEMpH6jPBHl41mZ28wm7gNq70Qjy93HiYHl1dDwkjrEDat/+Y7Yf61Q1WsmJfqP3h8eX2dqQ0nHqq4W71ZUa1P+uvpjaTjOPXrJWd0E9H+tGMBHYjGM6/dd4v3m+5KdSBjN1xHaY3ORF+W/uG/frurH/q7TjXqptVs6VcPutso4uDyfL0lbmS202Ba25LHBjdNrde27wpj17c+k7PA+7qsz4iIxOGZLRQKvdyBrV7HS0tLHQ3xuK477Lru3lh2SEQAdjCg7crydL0F7MjsmpndAN49szyqWt80o+U1NNp60doDC79+8f5w+MCLVVPF+7lfv/jHsXfPLC/0+j2kyfxrhxahUQvY6mTp7YdTjcuKSm/dz5XefFAq/d2D2dIv19/QzI8/VcMK4vHYHA49uFZ6a+3NU2lSs6W37hdLv3ow0XRZURDdeCmKpbeXx9ad+87yZezAkqDS3z2YLb11f7jZ0qrwASB2dZc6u771GdanDW8ALcZK7zyYXVefk5otvfmgVHr74VTp7Xstw85aO5f4upcBHV+r5TLDZvL5/KTjOLOO41zO5/Pd78PdrqvXi7h6fftfh2if27FJYuOLT9V+/eL9cYHMKpDLOHL73f/yIPygDNeNZgHxrbW/M6b5jkTji0/Vpor3Bx0jCyKaE5HZjPNg9tdnlqsAIPUgeEQeIP/4/Zfw8NACABewYzAyVnpnuRbdCEV1EU0CM07TDSTmXz84XXrrfhZGJhBOpFoovb0M1PfifpAFBLAKOGi2VGkSgp9Fe3ZPld5ZngDgh1uQPsiFL6/nITLa/AEWPSJahEg4Oeyd5RriDVrWlCMsS6t11vO/+N5Y6e37WUDOQXUYRobr9Vmvi/CisKblemnf92uJbTlHXded3uqGJfl8fhjR31REOtrUpqd7cW/k6vUiHGci3KpVH91JnEQ9sqPLrP7mw0NzQPBS3AoO95/W8AEZoudXgscGRXTDsbXxxUPVwOogoBfi6wiQk7WttEWIdr4b1R4zP/5Ubf7nBwdgdQSry4qyWFsXVVg9jw3WWs+/dmgSVkfqLfJQrh6o4UMjFu23WPegivnXDlUR6ED9XEU22oI0F3V/j8///NBk4qET22Pt0qqwDJrYn1uxCKuDrZ4KFpv/+aHhqD7jgA/rc/XmogqLGWyyzldE4n9/8cMttiTx8A2/0+7txJg40Ku9uJOuXcuh/NksjFmA6s48VIXoEbBrTc1/KH7r2oyTNStB7SH6qt08Dzp5HQDY6rX2utKkZuuTvZyghj/2dbwByZprhNp+DnLDuR0/P7kX1pW/y3pYdy0nqCFwap28J8/zpgGMInxE5EC3T7XK5/MTIjIJdP/oSs/zSj3fi/vatSxwcBQ2GAMaJgnyaVa0HzU+zWqbHzf5iPQFE+0813Wzxphr0c5ifhAEg512dbuu6zqOcw0IW+VLS0u7P7a7UTDHGNC0HzGgifYP13VzxpiFKKTnyuVy25uguK6bcxxnAUAuNeFc/mwYQDhfIZ2qMGYSA8/yoR3Uezsc0Htmq0+ivcj3/aq1dlBVqwCGPc+bbee81IXz1etFVP5lAcAs0hvOAJCDtZ09GY4opRjQRNssEdIjqvqR67rtBJyr4Vr3l3Y9nAFANAtNdTAncZ9y2hfYxU1E7St/NgzIBLD1LVG31TZ3PdIjimPQRJR6mwX1Tk8S2+EPTnpEcQyaiFLPe24ORgZh7b7fb4BotzCgiag7A89WcfrUJIw5ClXOmibqMQY0EW3NwLNVFJ4fZlA/Gvr7hw4fOTLUt9vleBQwoImoN+KgtnYQIju+ixxtv+PHXxk1GfPeD5407x0/PvKT3S7PfrdjD8sgokfE6VOL2GSvctp7+vuHnoeRMwAAQZ+I/Z8A/nl3S7W/sQVNRESbymRwL/l9YPXb3SrLo4IBTUREm7px4+JtCC4BABT3MkZndrlI+x67uImIqC03//XCJSAKadp2DGgiog309w8d/vZb3Ltz5+K9xt8dOTLUd/AgDmcy6FtZwb2vv754u51rdnveVh05MtT3xBPou3Xr4t00lCdtZUgb7rZDRHtfD3Z4Only5EULOwYAAtwNVuzr4sioiJwCgJs3LpxdPXboaKDyavy7mAB3obj0xRcXrjR7jSNHhvq+/6S8bCBnVNCXPE8trty8eWFN67SxTF/cuPBq8vfHj78yGk/cUtXrX37x/htAeFNhMua9+LiHy3b0wOOr5bXGvn7r84ufHjky1PeDrLwqKi+0U54TJ879owqOAIAoZr744sKVYyeGfymip1qVMSrP8yZj3oy/D3Rl5qsvfnNlszqxqh//5x/0UrObo13BncSIiHafkzFvNgYwAJw48RdnLMxMs98pcFgFo8dOvNIspA4/mTUzInI2GUTxeTB4+fjJ4entWGOcDOekJ7NmBg3BmCzPsWPnzjae00idoB7iChzuf3bo+cZjTCaa/Q1A1d6VwFwHNq8TETn7ZNbMPKrrrhnQREQNFDiswOHGn/f3Dx1WyYzWj1O9rgjeUwTvAfpV/HMROdsYbk7GvJm8piruqMp1Vb2TeOUffv9JGUWPNQvnY88Ov7C2PPoBHPtLEf24fp7By5uF463PL36afA8SyMvJ3/f3Dx0GVgNaRK7HXexr6kRxT1U/sDDTgNZ7IBQ4/P0n5fWO3vA+wTFoIqImVO1ddTCNA7iL78IQMZnV8BHRj2/eeP/NxCkfnPizV15XlReAMNwAfADUu6rrYSjOyszNf/lNPYROPPvKq2rlbHhdeaH/2aHnb31+8dOeviHBJfuYvZJ5gL7/+HfczWblJxarPbYa6AdffnHx7o9+NPTp/ftSH/994gn03bmDjbuYxf4T4Lwalf/UkSNDfXG3dCaTed7C1g+1K3oJWFsnqvauBng9MTb+4bGT524LUL/mttRJyjGgiYiaUAfTiUC4CwDRWC0AwFrc7e8feXHNSTa4W5/ZI+iLQyVQPSP10Uq98kUinAHg4AG9dP8Btq0bV1U/+PLG+2vGk5/4k6G7xq52ojoZ8+bxk69cX16WT621Vxonkm3ke4/LleVlvBx3U//gB+bsnTvhbG+F/R+JktSvm6wTY+SrIHCe7+8fWT1yBd9KZjXYzYo5BYABTUT0SFPca2ythd3biUlMImeTARKetnbOkBOYIwA+NdDDcVtVA1k3O/mTTy7eA7Bt64rVWe22jt36/OKnx04MX48neIVdzXJGBWdMxuDYiVeua6Az7QT1J59cvHf8+LkPIAh7GARnAVzq7x96PtmNbs1q17Uj+kRce6rygsnYFzZ8EaPrhhz2OwY0EVEDkU26dAEA+pWq2fA4K6KNPzOmnWv32EM0DdnvHQzeXP5OXtZAzqBhkpaInBJHZp45OfT61zc2X/J06JD94P4DEwd0X/+zQ88bm5wcpteTNz2q+F58PxOOYZtNbgQ0HTO5dxADmoioDbduXbx74sS5e3Er2hp979bnc211uVrIXYEeCb/WFwGsW4Z1/OQrq5PDrPPxzZuza/a5VuBwcmwXAIyRH65tw3cmarm/B+C9/meHnherP4RmfhK3qiHoewxyFm207j/55OK94yeH/hkwPwEAY51XAf1h/S0h+HDN+xFbBUy0ZEs+vHlzjhugNGBAExG1yUK+EoThZazzan//0JvJLuDjx8+9rIL6uPR//sGO3blz8R5k5Z8BJ1wrLHLq2LFzZ7/88sIH8XEnTrzyqiZmOlu7cgkAVszKmnHi73/fnLlzJ5x4duzkX561wNFu38uJEyOvWtjoiVR6+8vP338T4RjvB8dPDr0RB63q+tnsrViD3xqL+Jr1cFa1d+N1z/WfQa8LomMFZ585OfRxsqUerjU39dnboua9xpuW/Y4BTUTUJkeC9yxM1JrUHzqOmTl24pXrIrinisMQnFodhdYrcWv3e4/LlT8u638TkbDF6ODVEyfPnbWqdwzkh2vXAK9OpOo7gNvLy6i32sXBq8dOvPITEdOXDMBuWOfhp2Iz0VIwOXL85CujdkWvGJPpE9ijcd+8SPPu8WYax7XrrwW7rnW8pk4EfY+hXpd3VXHYQk5JvQvc3r1588IjFc4A10ETEbXtxo2Lty3sdPy9CvpE5AVAziTXGqvq9f+oaX0nr08+uXhPA30juV442ojjVEM4f9V4npW1e1+HrxOFs3Y/nv3l57/5OLneGJAzJmPehLFvJNcmx8ui2pXcuARYuzFJUrM6Cd9bY12GS7A6KcN+wYAmIurArRsXP7Qr9lVVWRc6UNyD4NKXX7z/RuP2lLduXbyrgb6xNhTXnvcfNV133pc3LnwAwaXGMFbVD6DrZ2d34uaN92cguLR2s5T69a8bsa93stwKCFvRkihrcmOSdce2USf/+QeMdlqG/YJ7cRPR3rfDeyTHjhwZ6nviT6Jx4AO4e+uT9oMk3hIzY3HvRhuzpJOv9e2/43av96c+eXLo6IpBX8biXq2Gu7ux/3WndbLjdvjfGQOaiPa+XQpoesTwYRlERETEgCYiIkohBjQREVEKMaCJiIhSiAFNRESUQgzoHnFdN+e6bnar1+hFObZ6DSIi2n0M6B7wPO+y4zi3Hcf5fT6fH+v0fNd1c57n3XYc57bnebcLhUJxq9dgUBMR7W0M6C1yXdcFUIq/F5HRDQ5vynEcF0AcqDlV7TjkjTFjyWsYY0obHU9EROnGgE4BVW3sGn+yB5fdUnc7ERHtLgb01lVVtZr4frHTC1hr5wHU4u9V9UKn1zDGzCe/FxG/02sQEVF6cDu8HnBdN2eMKQJApVKZ28o1jDHVpaWljkMeAAqFQtFam9vKNYj2JG71STuBe3ETEXWIAU07gXtxExEREQOaiIgohRjQREREKcSAJiIiSiEGNBERUQoxoImIiFIos9sFICJ6VB0//soojJwJv9MrN2+8PwMA/f1Dz5uMeTM+7uaNC2d3p4S0m9iCJiIiSiEGNBERUQoxoImIiFKIAU1ERJRCnCRGRNTEkSNDfQcP4nAmg76VFdz7+uuLt9s575lnho5mMugDcPfWrYt3t7mYtI8xoImIEk6eHDoaqLwqIqfinz2WAU6cPHcXiktffHHhSrPzjp38y7NGnZdV0Ff/2YlXrmugl5Izsu2KfZXBTe1gFzcRUeTEib84Y2FmkuEcU+CwCkaPHz/3cuPvjh8/97LAeTUZzgAgIqccx7yxnWWm/YsBTUQEoL9/6LBKZnTtT/UrVbm+5kcGLx87dq6+LvnkyZEXYfByq/MaQ5uoXeziJiICYDJSD1lVe1cdTN/6/OKnQBjeJiOvA/JDAJAwkD8Ij7Y/S57nCH5540Y4Xt3fP3RYHPmliBzZwbdC+wRb0EREAIB4Ry/Awl6KwxkAbt26eNdAZwC9AugViH7c3z90+Ec/GuqzwNHkeXE4x+epozM79x5oP2ELmogeef39Q4eT3wcPzFeNx0TBuyZswy05V7+/9wfzceN5tz6/+OmJE+fusaubOsWAJtqE53nnAEwDyBpjRq5evTq30fGFQmFSVScA1ACMlMvl+Z0oJ/VOJoN7u10GIgY00QaicJ4DgHbCGQCWlpYm8/l8VURmAVz2PG+4XC5f2O6yUvf6+nBveRn1Vq4x5gyAS8ljonHo+ji1XdFLfX24ff/B6jHf/745c+dOPDYdOnly6KgFW8/UOY5BE7XgeV4JUTiLyHg74RyrVCpzInI++nbu9OnT7naUkXrjk08u3rOQ1W5twdlkt3d//9BhJ2PeDMep5Yyqnrp16+LdTz65eC85y9s4689TcJkVdYctaKImXNfNAZiKvp1ZWlqa7vQaS0tLk57n/RhAyVp72XXdAd/3az0tKPWMI8F7quZNFfRB0Gcy5r1jJ165LmL6RPWIJlrBFrbeulYnuCTWnALCtdIbnUfUCQZ0j7mu6wLIRt/67X4gR4GQi76t+r5f7eK1s9E1sokft12GXmt4TzXf9/0uzgO6eA/dvnbMcZwJADlVrVprJzs5NykIghHHcYoAco7jzAJ4qdtr0fa6cePi7f6TQ/9oYMbin4UblihUEgcKLn114zf13cRufX7x0+N/du4SdHUt9JrzFPfACWLUBQZ0lzzPUwCw1uauXbv2ted5owAmsTYc4XnefLlcbvmhvMF5VVU9X6lUNu1WdV3XdRxnCkDy5iB5LR/A+cbJSvl8/raI5ADMlcvlkc3ea1SedWE1MDAwZ4w5p6ojlUplznXdYqI8a95TEAQtW5H5fH5CRMZavIcqgMUgCMY3Cuse1WcRwHD07fmt3OD4vl/L5/MzIjIBoFQoFIpLS0uL3V6PttetGxc/7O8f+lQcZ1REG3YTk68C/e6fkuEcu/mvFy71nxy5Ixq8nFzzrKrrtvokahcDeoscxzmaz+eHEYZCMy0/3PP5/CyiIFDVmojErWYXQE5EZvP5/DOVSuV8q2skJzHFVLUKICsicUi5QRB03CLvQi4at73c7JeqilZh53neAoBidFxcFzVVdaP3kQNQAjDe6sV7UZ9AvfUMVa22E+ibsdZOO44zCiAbze5mQKdYtE/2G0eODPU98SfRGucDuHvrk433z751Y/ZDAB+ePDl0dMWgr+Gcs83OuXnz/Rk0LN2KyvBpq3Po0cGA3roJESkCmBeRmbh15LpuzhhTdBynaddqPp+fEpFhIJyAVC6X62OcruvmohZoSUQmC4XCR81aXVE37hwQBpIxZmZlZWU6DkHXdbOZTMYFUOy0i7cbIvJTAKMAfBEZX1lZ8X3fryXKsa5lHJWziCicReR8uVyebPh9zhhTNMbkNml91+szCIK5RD3kHMeZBHBORCY9z/tdq6VPUZ0Wo29/23ElNBG1oi+IyGj4Em6WY9Hpd+fOxXt37uDTzY9cK7lRCdFWMKC3SFWLInJ+aWlpTahEY8hNW1+u6+airlyIyHjjBCTf96uu68Zjly1bXY7j1Fuq1tqBSqVSbbhOLTpvp1psxWjMdjAZQIlyNGWMiQOx1liP0fkt6xKo1+ckEAZ8s/oEMBxN2HIR3kQ0DWjHcerd8saYnq1fNsbMq+oogGz0d+XaaCLaEJdZbZGqVpuFykaMMfH4Zq3V7GDf92uqGq+dLUYTwOqiyWhxmMx1M6lsOxhjRrpoHcZlz3azHCkR8FhZWWkZ5Kr6UfRlcWBg4JkWx9Sv1cux4pWVlXoPRvI1iIhaYUBvkYj8rotzfhp9uVm3czLokrOa14SSiKRlE4xaN6FmrZ1H9F6ttdc8z5uNuprbIiLxwwr8TW5U6vVtjBloca0fR1/29IYnummpRa/xZC+vTUT7E7u4tyiakNXpOTkRAYBiPEN6M5lMpnH8tv59snW2y7oKNd/3a6dPnx4MguByNKt82HGcYc/zFlX1QhsTteqT4dqtT1VtOh6e0PMeiWjiWjzhjYhoQwzordutyT71gEnRhKOuy3H16lUfQDwjfiIK6qKIFD3Pm1DVmUql0nQ4IHHDs39d+/wcbDANyGY3FkS0TzCgd9dvy+Vyqctz62G4n2YFR63luUKhUFTVYQDnEC6RmvI878fN1muLSPze/XK53LTrugvpauVaO8lwJnq0cAx6FyTW5zadqNSmluPTvdQ4OW2nLC0tLZbL5eEgCI5idcbzcKFQWDfBylobzwPYcj1Ya7+Ovuz5+456BTTFJcQAAA7cSURBVKCqHc9bADbtkqc6ScWESaKtYkDvgsRsYrfbALTW1idjGWO6bYW3Y1cf8uD7fjUIghGsTiJbF9AiEo/BZ5sFeCeS12o107sb0az7WBcBIuMMng3VovqpASsbbkRDtFewi3sXWGvn4t2qMpnMBDbYHasV3/d9z/MWEY7Tjrqu2/FSq6glH+/Q1XSrT8dxznVatl7zfb/meV7L3yfqc8s7dRljfNVwnpmIDGKD9dcdXrd+45C8uWqb99xcr8pCRHsDW9C7wPf9avwoQlUdi5YVrWmpuq6bdV23WCgUpqLtM9dJPM4w6zjOQj6fH262Xjqfz080a1kmWvLZfD4/0fj6+Xx+Cqt7Um8bz/Nm8/n8WGMdNJQjCwDGmHXhFq0Zj+ui6Hne5Y3qM5/PjzVeIxYtE4uXQ/Xs5iReCqaq1Z3Y1Y2I9j62oHdJ9CjCLMJdreJlRbXEUpwsEO5f3WrMcmlpabFQKJyPWo05EZl1HGc2n89XgdUxTwCw1q5rIVtrp40x50QkF22BOQbAj2ZFx+fOAPgptrerOyciw47jwPO8GqL1yg3lAMLHPjZtfVYqlelCoRC3oEuO45Q8z4OqVhvrE8CGXaCqGj/coui6bm6rm8A0bB/K7lciagtb0LuoXC6PqeoIVrtks1EgxWFSAzCzUZfo0tLSZMNEKkSBmwy2xWZ7gvu+X7PWDgKINzrJIuwyz0U3CuejMn7UeG6PzWB1E5EswjArJt6DH+1X3rLlC4R1gfBxjvX6alKfc9HGKC1Za6cRtaLjoYitSD58Y7PXJiKK7fPFo3tH4oESAIBMJlP9+OOPO265JbuyRaT23XffVdtZgpV8fRGpReuSd5TrutkDBw7k4k1EOil/s2ttpT7z+fyYiExF5RjsdtvPfD4/LCKzABA/jrOb6xBRCpQ/W7sRkvfctmYoA5qoBc/z5hCuw64GQTDYaVd39BStBYQT8WY26wEgopTb4YBmFzdRC0EQjCHses85jnO5kyVxDeHsM5yJqFMMaKIWfN+vBUEwiDCkXcdxFtoJadd1c5lM5jLCcF6MrkFE1BHO4ibaQDT+PeB5XikaG3ex+TrrnLV2BqhvXUpE1DGOQRMREbWDY9BERETEgCYiIkohBjQREVEKMaCJiIhSiAFNRESUQgxoIiKiFGJAExERpRADmoiIKIUY0ERERCnEgCYiIkohBjQREVEKMaCJiIhSiAFNRESUQgxoIiKiFGJAExERpRADmoiIKIUY0ERERCnEgCYiIkohBjQREVEKMaCJiIhSiAFNRESUQgxoIiKiFGJAExERpRADmoiIKIUY0ERERCnEgCYiIkohBjQREVEKMaCJiIhSiAFNRESUQgzoHnFdN+e6bnar1+hFObZ6DSIi2n2y2wXYDzzPuwygBACqOl6pVKY7Od913ZzjOAsAcgCqIjKytLS0uJVrBEEw6Pt+tZNrEBHRBsqf6Zrvvee2NUPZgt4i13VdROEMACIy2uk1HMdxEQYrAORUdazTaxhjxpLXMMaUNjqeiIjSjQGdAqra2DX+ZA8uu6XudiIi2l0M6K2rqmqyK7mjrmkAsNbOA6jF36vqhU6vYYyZT34vIn6n1yAiovTgGHQPuK6bM8YUAaBSqcxt5RrGmGqn48+xQqFQtNbmtnINIiJqYYfHoBnQRERE7eAkMSIiImJAExERpRADmoiIKIUY0ERERCnEgCYiIkohBjQREVEKMaCJiIhSiAFNRESUQgxoIiKiFGJAExERpRADmoiIKIUY0ERERCnEgCYiIkohBjQREVEKMaCJiIhSiAFNRESUQgxoIiKiFGJAExERpRADmoiIKIUY0ERERCnEgCYiIkohBjQREVEKMaCJiIhSiAFNRESUQgxoIiKiFGJAExERpRADmoiIKIUY0ERERCnEgCYiIkohBjQREVEKMaCJiIhSiAFNRESUQgxoIiKiFGJAExERpRADmoiIKIUY0ERERCnEgCYiIkohBjQREVEKMaCJiIhSiAFNRESUQgxoIiKiFGJAExERpRADmoiIKIUY0ERERCnEgCYiIkohBjQREVEKMaCJiIhSiAFNRESUQgxoIiKiFGJAExERpRADmoiIKIUY0ERERCnEgCYiIkohBjQREVEKMaCJiIhSiAFNRESUQgxoIiKiFGJAExERpVBmtwtA+5PrulnHcWYBlAD4QRC85Pt+dYPjc47jXAbgAliMjq/tVHmJiNKGLWjqOdd1s5lMZgGr4Ty4UTgDgO/71SAIBgH4AIqO4yy4rpvdifISEaURA5p6znGcWVV1VbXaSUvY9/1aEASDqloF4EYtaiKiRxIDmnoqn89PIGw5w1q7acu5ke/7NWvtIIAagGKhUJjahmISEaWe7HYBgLBLFOHYIwDUfN/3OzgvByDuCvW7GbdseP2OytBr3b6nJud1/B62Wp/ROPJtABCR80tLS5OdvH5SPp8fE5Gp6FqDS0tLi91ei4ioJ8qf6Zrvvee2NUN3NKDz+fywiMwC+G25XC5FH+izAIoNh9ZE5KVWH8obnAcAc0EQnG+n5RaVZxRrw7leBgCL5XL5pRbvAdba3LVr177e4Notj0uEWa1cLj/lum7WGDMqImNYDUgAG4ed67qu4zhTaF4XALAIYKZcLs+3+H1clrjl2zju23Z9ep43C2BYVauVSuXoZsdvJp/P3xaRHMK/w+BWr0dEtCU7HNC71cX9TBQKC2geLNmVlZWmgRAF0rX4vGi8clFV45becDTBKNfqxV3XzXqetxAFaD2cVbWauE4W68NqO2TjSVUiMtnsNa21repiTR3GdYFwolWsCOBnrV48cY1hANlEfcavuWl9xteJrgEA5zc6tgMz0X+LhUKh1Q0IEdG+tFvLrLKO4yyoatYYcz6Tycx9/PHHVQAoFApFa22uWYstsRQniyZLdzzPKwGYBRC3sJu2uhpanItRC7XeWj99+rQbBIErIjuyzMcYM6WqLoCZAwcOTMd1EZfDWtu0JyF6j1lVrTYb7y0UCkVVHQ6CoGlgRkuhFgDkVLVqjBkpl8uLyfOttbMikotCeqBVl7cxZiz+ulV5O2WtnYta9llrbQnhzQcR0SNhtwI6p6o1a+1ApVJZEyobjTVGH9a5KJDWrastl8vz+Xw+G7WMi4VCodh4Pdd1i1ht6c03dmEDwNWrV32sbYVuKxEZFpHxpaWl6U7Koao5EQGAC81uaKL33rI+jTHDCMecYa0dbPa3KBQKI6q6ACAXHT/d5FIQkZ9GXy52OjGsFd/3a57n+QCKIvIzAGObnUNEtF/s2ixuY8xcFx/kRQAQkZYhYK2dT3xdavy94zjn4q+DIBjv8PW3y2JjOHciEY6dnjcafdnybxGFfC06fqNuZhcAVPV33ZSllcT1clwXTUSPkt3cSey3nRzsuq6LqLW30bm+79fy+XxVRHIi8uNml4r+27OW3lap6kddnnoBwASAoud5t1X1fKVSmWvnxMSM7U1DVVVrIpIF0Kw+479NrNd1muxByKHdno1rn5+DDaYBYagT0Z60awEdBMHtTo53HCc5Semy53ndvnQcJqkI50hXZalUKpOFQgGqOgEgJyKznudNAZgPguCC7/sbjdnWQ1VEpqLzupUMwZ6O2yfnAWQymfbD1tpJhjMR7WV7ZqMSVe3ph62qNl0etdcsLS1NBkFwFGFrGgjDcthxnAXP8zadfZ12QRB0Gfi9/fdCRLSWbHsjb08+LKMXG1eIyDO9Kk8LOxYQUVf9sOu6k8aYIoCJaP1w0XGc24VCYcP6UtWRdrvGW9i22e6O43RZjzIOyASge/oGhYhSqQas9Go5aUt7JqCttb7jOPHXXX/oqmo1Cq/t/uDe8RZcFNRzAOaijVKmonJMARhoODx597fVsiYDuqf1mpipjpWVlfZvBLzn5hDWBRHRnrRnurijbSvj2cQtN97YTGJClruds4K7nVndK5VKZU5VzwOAqroDAwNregx836/Gm5FspT7ja2H1b9PTnolkPe7W9qtERLthzwQ0AKhqvLNU6fTp082259yU4zhxqyqbyWQmOj3fWlsPCREZaXZMNO6bqp2vVPUPTX4cj1v3YqeuuAt93dK2LarPuu/xdYmIUm1PBbS1djpu9VlrF/L5/HBjK9h13Vw+nx/zPG+h2TWSm3eo6pjnebMNy4Tgum7Wdd1SoVBYF+ANLfnRJucWo925tpXrurmo7KVmPQGu6xYT65ybPvQiWZ+qejmfz481TipzXTfnuu5wq/qMqWq89C3bq205o01l4qVgFzY5nIhoX9kzY9BAuMbZdd1BY8xCtM551nGc2Xw+H3fVtjX+GQTBS1GIughnPA97nhePT9f34I7Ca91EAFU9H4/vOo5zLdrtCqqaFZFctG74JQDb/TzjYcdxhgEgKkMtKkcurotox7Z1u6UBTetzynGcKc/zatF7aHs82Vo7H22hmo2WfW25xRtvKhPtHMcWNBE9UvZUCxoIxzuj5wVfSIyh5hrCZFFEWs6w832/Vi6XB1R1JPFQiDjg43CuiUjTVlulUpluONcF4MZPXrLWDgZBsN2BUkNYB3HL2EXYrV6MbxKisgxstCFLVJ8DInI+8X6yndRndJ1aYghiy13myYdvGGOabmVKRLSfpeJ50Ftx+vRpN14jLSK17777rtrpM6Gjp0nVu6ozmUw1fmBFJ6/fyXm99MILL+RWVlbqgdptPQBbr0/P864hvFnwy+Vy48zxtnmedxvRvuu9eHQlEdFes+cDmtIleuLYNYSt8OmlpaWO9zvP5/MT0aM3EQTBUbaeiehR5Ox2AWh/+bd/+7fan/7pn94A8N8BvPD000//4Ztvvvm43fM9zxsVkb8DAGPMSKVS4dgzET2SGNDUc998882/Pv3001+LSFFESk8//TS++eabTR8I4nneOQD/BwjD+erVq9xohIgeWezipm3jum4u2noU1tr5jcayXdfNGmNK0bE+NyUhIiIiIiIiIiIiIiIiIiIiIiIiIiIiIiIiIiIiIiIiIiIiIiIiIiIiIiIiIiIiIiIiIiIiIiIiIiIiIiIiIiIiIiIiIiIiIiIiIiIiIiIiIiJ6RP1/yE8uPYJWQwYAAAAASUVORK5CYII=)"
      ],
      "metadata": {
        "id": "O1S4Er2L2BHr"
      }
    },
    {
      "cell_type": "markdown",
      "source": [
        "Following is an example of a recursive function to find the factorial of an integer.\n",
        "\n",
        "Factorial of a number is the product of all the integers from 1 to that number. For example, the factorial of 6 (denoted as 6!) is 1*2*3*4*5*6 = 720."
      ],
      "metadata": {
        "id": "ZQxm2Miq2pg2"
      }
    },
    {
      "cell_type": "code",
      "source": [
        "'''\n",
        "Find factorial of a function\n",
        "'''\n",
        "def factorial(x):\n",
        "    \"\"\"This is a recursive function\n",
        "    to find the factorial of an integer\"\"\"\n",
        "\n",
        "    if x == 1:\n",
        "        return 1\n",
        "    else:\n",
        "        return (x * factorial(x-1))\n",
        "\n",
        "\n",
        "num = 3\n",
        "print(\"The factorial of\", num, \"is\", factorial(num))"
      ],
      "metadata": {
        "colab": {
          "base_uri": "https://localhost:8080/"
        },
        "id": "4YliQdeL2H1T",
        "outputId": "ad1ffc40-410d-4473-b60d-849ff0871ac2"
      },
      "execution_count": null,
      "outputs": [
        {
          "output_type": "stream",
          "name": "stdout",
          "text": [
            "The factorial of 3 is 6\n"
          ]
        }
      ]
    },
    {
      "cell_type": "markdown",
      "source": [
        "When we call this function with a positive integer, it will recursively call itself by decreasing the number.\n",
        "\n",
        "Each function multiplies the number with the factorial of the number below it until it is equal to one. This recursive call can be explained in the following steps.\n",
        "\n",
        "```\n",
        "factorial(3)          # 1st call with 3\n",
        "3 * factorial(2)      # 2nd call with 2\n",
        "3 * 2 * factorial(1)  # 3rd call with 1\n",
        "3 * 2 * 1             # return from 3rd call as number=1\n",
        "3 * 2                 # return from 2nd call\n",
        "6                     # return from 1st call\n",
        "```\n",
        "\n",
        "![image.png](data:image/png;base64,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)"
      ],
      "metadata": {
        "id": "W4VPbNES3H_q"
      }
    },
    {
      "cell_type": "markdown",
      "source": [
        "Our recursion ends when the number reduces to 1. This is called the base condition.\n",
        "\n",
        "Every recursive function must have a base condition that stops the recursion or else the function calls itself infinitely.\n",
        "\n",
        "The Python interpreter limits the depths of recursion to help avoid infinite recursions, resulting in stack overflows.\n",
        "\n",
        "By default, the maximum depth of recursion is 1000. If the limit is crossed, it results in RecursionError. Let's look at one such condition."
      ],
      "metadata": {
        "id": "Jc2IB1QJ3vAm"
      }
    },
    {
      "cell_type": "code",
      "source": [
        "def rec_limit(count):\n",
        "  print(count)\n",
        "  rec_limit(count + 1)\n",
        "\n",
        "#rec_limit(1)\n",
        "\n",
        "def rec(count):\n",
        "  #Terminating condition \n",
        "  if(count == 100):\n",
        "    return\n",
        "\n",
        "  # Task \n",
        "  print(count)\n",
        "  rec(count + 1)\n",
        "\n",
        "  # Return\n",
        "  return\n",
        "\n",
        "rec(1)"
      ],
      "metadata": {
        "id": "asq86P9m3fqt"
      },
      "execution_count": null,
      "outputs": []
    },
    {
      "cell_type": "markdown",
      "source": [
        "##Advantages of Recursion\n",
        "\n",
        "1. Recursive functions make the code look clean and elegant.\n",
        "1. A complex task can be broken down into simpler sub-problems using recursion.\n",
        "1. Sequence generation is easier with recursion than using some nested iteration.\n",
        "\n",
        "##Disadvantages of Recursion\n",
        "1. Sometimes the logic behind recursion is hard to follow through.\n",
        "1. Recursive calls are expensive (inefficient) as they take up a lot of memory and time.\n",
        "1. Recursive functions are hard to debug.\n"
      ],
      "metadata": {
        "id": "OmcQwOMZ4sfR"
      }
    }
  ]
}