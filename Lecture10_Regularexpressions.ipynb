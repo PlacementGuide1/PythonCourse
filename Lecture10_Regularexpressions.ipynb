{
  "nbformat": 4,
  "nbformat_minor": 0,
  "metadata": {
    "colab": {
      "provenance": [],
      "collapsed_sections": [],
      "include_colab_link": true
    },
    "kernelspec": {
      "name": "python3",
      "display_name": "Python 3"
    },
    "language_info": {
      "name": "python"
    }
  },
  "cells": [
    {
      "cell_type": "markdown",
      "metadata": {
        "id": "view-in-github",
        "colab_type": "text"
      },
      "source": [
        "<a href=\"https://colab.research.google.com/github/PlacementGuide1/PythonCourse/blob/main/Lecture10_Regularexpressions.ipynb\" target=\"_parent\"><img src=\"https://colab.research.google.com/assets/colab-badge.svg\" alt=\"Open In Colab\"/></a>"
      ]
    },
    {
      "cell_type": "markdown",
      "source": [
        "1. https://learn.microsoft.com/en-us/dotnet/standard/base-types/regular-expression-language-quick-reference\n",
        "\n",
        "2. https://towardsdatascience.com/regular-expressions-clearly-explained-with-examples-822d76b037b4"
      ],
      "metadata": {
        "id": "ApXlWmXVogI0"
      }
    },
    {
      "cell_type": "markdown",
      "source": [
        ">[What is a regular expresion](#scrollTo=Njjv16Mup34a)\n",
        "\n",
        ">[Basic regex characters you need to know](#scrollTo=ejplez5qqUrx)\n",
        "\n",
        ">>[Characters](#scrollTo=o6G0wlEEq2fg)\n",
        "\n",
        ">>[Groupings](#scrollTo=D2sPCV5nq9n5)\n",
        "\n",
        ">>[Quantifiers](#scrollTo=W2qwt99GrBUX)\n",
        "\n",
        ">[Regex examples](#scrollTo=wdLxP9hOr_Ii)\n",
        "\n",
        ">>[Phone number](#scrollTo=p6PP_NywsMmt)\n",
        "\n",
        ">>[Date](#scrollTo=SpxduJFtu9Gj)\n",
        "\n",
        ">>[Names](#scrollTo=pxgo-6ruvdso)\n",
        "\n",
        ">>[URLs](#scrollTo=CHTzN0BlyH4K)\n",
        "\n",
        ">>[Email address](#scrollTo=x77AwulEzWHR)\n",
        "\n",
        ">[Character matching in regular expressions](#scrollTo=s5fuQMMe5s-L)\n",
        "\n",
        ">[Extracting data using regular expressions](#scrollTo=XfQlJU5X6nFJ)\n",
        "\n",
        ">[Combining searching and extracting](#scrollTo=1k1rEL_48C2J)\n",
        "\n",
        ">[Escape character](#scrollTo=ZJaCjCwU9kKU)\n",
        "\n"
      ],
      "metadata": {
        "colab_type": "toc",
        "id": "w1OTK-lPmKm2"
      }
    },
    {
      "cell_type": "markdown",
      "source": [
        "#What is a regular expresion\n",
        "\n",
        "Regular expression is not a library nor is it a programming language. Instead, regular expression is a sequence of characters that specifies a search pattern in any given text (string).\n",
        "\n",
        "A text can consist of pretty much anything from letters to numbers, space characters to special characters. As long as the string follows some sort of pattern, regex is robust enough to be able to capture this pattern and return a specific part of the string."
      ],
      "metadata": {
        "id": "Njjv16Mup34a"
      }
    },
    {
      "cell_type": "markdown",
      "source": [
        "Regular expressions are almost their own little programming language for searching\n",
        "and parsing strings. As a matter of fact, entire books have been written on the\n",
        "topic of regular expressions. In this chapter, we will only cover the basics of regular\n",
        "expressions.\n",
        "\n",
        "\n",
        "The regular expression module re must be imported into your program before you\n",
        "can use it. The simplest use of the regular expression module is the search()\n",
        "function. The following program demonstrates a trivial use of the search function."
      ],
      "metadata": {
        "id": "KKQVYNNBsP33"
      }
    },
    {
      "cell_type": "code",
      "execution_count": null,
      "metadata": {
        "id": "MZK6EavasAvr"
      },
      "outputs": [],
      "source": [
        "# Search for lines that contain 'From'\n",
        "import re\n",
        "hand = open('/content/sample_data/mbox-short.txt')\n",
        "for line in hand:\n",
        "    line = line.rstrip()\n",
        "    if re.search('From:', line):\n",
        "        print(line)"
      ]
    },
    {
      "cell_type": "markdown",
      "source": [
        "#Basic regex characters you need to know\n",
        "\n",
        "Now, before we get into the nitty-gritty, I think it is crucial that we first go over some of the basics of regular expressions.\n",
        "\n",
        "The examples later on in this article will be building off some of the main concepts illustrated here, namely: characters, groupings, and quantifiers.\n"
      ],
      "metadata": {
        "id": "ejplez5qqUrx"
      }
    },
    {
      "cell_type": "markdown",
      "source": [
        "##Characters\n",
        "\n",
        "* Escape character: \\\n",
        "\n",
        "* Any character: .\n",
        "\n",
        "* Digit: \\d\n",
        "\n",
        "* Not a digit: \\D\n",
        "\n",
        "* Word character: \\w\n",
        "\n",
        "* Not a word character: \\W\n",
        "\n",
        "* Whitespace: \\s\n",
        "\n",
        "* Not whitespace: \\S\n",
        "\n",
        "* Word boundary: \\b\n",
        "\n",
        "* Not a word boundary: \\B\n",
        "\n",
        "* Beginning of a string: ^\n",
        "\n",
        "* End of a string: $"
      ],
      "metadata": {
        "id": "o6G0wlEEq2fg"
      }
    },
    {
      "cell_type": "markdown",
      "source": [
        "##Groupings\n",
        "\n",
        "* Matches characters in brackets: [ ]\n",
        "\n",
        "* Matches characters not in brackets: [^ ]\n",
        "\n",
        "* Either or: |\n",
        "\n",
        "* Capturing group: ( )\n"
      ],
      "metadata": {
        "id": "D2sPCV5nq9n5"
      }
    },
    {
      "cell_type": "markdown",
      "source": [
        "##Quantifiers\n",
        "\n",
        "* 0 or more: *\n",
        "\n",
        "* 1 or more: +\n",
        "\n",
        "* 0 or 1: ?\n",
        "\n",
        "* An exact number of characters: { }\n",
        "\n",
        "* Range of number of characters: {Minimum, Maximum}\n",
        "\n",
        "\n",
        "\n",
        "\n"
      ],
      "metadata": {
        "id": "W2qwt99GrBUX"
      }
    },
    {
      "cell_type": "markdown",
      "source": [
        "#Regex examples\n",
        "\n",
        "In this section, we will be focusing on 6 different examples that will hopefully reinforce your understanding of regular expressions. Effectively, we will be looking at:\n",
        "\n",
        "* 2 examples with numbers (phone number and date)\n",
        "* 2 examples with letters (names and URLs)\n",
        "* 2 examples with both numbers and letters (Email address and address)"
      ],
      "metadata": {
        "id": "wdLxP9hOr_Ii"
      }
    },
    {
      "cell_type": "markdown",
      "source": [
        "## Phone number\n",
        "Suppose we have a data frame called phone, containing a list of phone numbers as follows:\n",
        "\n",
        "![image.png](data:image/png;base64,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)\n",
        "\n",
        "We would like to break up these phone numbers into 3 individual components: area code (first 3 digits), exchange (next 3 digits), and line number (last 4 digits).\n",
        "\n",
        "As we can see, the number patterns here are not always consistent i.e. they have inconsistent parentheses, hyphens, and spaces. However, with the help of regular expressions, we can easily capture the number groups.\n",
        "\n",
        "First, we will need to define a regex pattern."
      ],
      "metadata": {
        "id": "p6PP_NywsMmt"
      }
    },
    {
      "cell_type": "code",
      "source": [
        "import re\n",
        "\n",
        "phone_pattern = \".?(\\\\d{3}).*(\\\\d{3}).*(\\\\d{4})\"\n",
        "x = \"8208239980\"\n",
        "\n",
        "print(re.fullmatch(phone_pattern, x))"
      ],
      "metadata": {
        "colab": {
          "base_uri": "https://localhost:8080/"
        },
        "id": "zvTN0yk-sVJN",
        "outputId": "5b4051c2-fe21-413b-9f6f-f615304faf05"
      },
      "execution_count": null,
      "outputs": [
        {
          "output_type": "stream",
          "name": "stdout",
          "text": [
            "None\n"
          ]
        }
      ]
    },
    {
      "cell_type": "markdown",
      "source": [
        "How exactly do we interpret this? Well, let’s take this step by step, going from left to right:\n",
        "\n",
        "* .? 0 or 1 character to account for the optional open parenthesis\n",
        "(\\\\d{3}) 3 digit characters (first capture group i.e. first 3 digits)\n",
        "* .* 0 or more characters to account for the optional closing parenthesis, hyphen, and space characters\n",
        "(\\\\d{3}) 3 digit characters (second capture group i.e. next 3 digits)\n",
        "* .* 0 or more characters to account for the optional hyphen and space characters\n",
        "(\\\\d{4}) 4 digit characters (third capture group i.e. last 4 digits)"
      ],
      "metadata": {
        "id": "P_yZgIEzuRZJ"
      }
    },
    {
      "cell_type": "markdown",
      "source": [
        "##Date\n",
        "\n",
        "Suppose we have another data frame called date, which consists of dates with inconsistent delimiters and we want to extract the days, months, and years.\n",
        "\n",
        "![image.png](data:image/png;base64,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)\n",
        "\n",
        "Using a very similar approach to the one we just saw with phone numbers, we need to first define a regex pattern, then match the pattern to the original date column, and finally create a new column for each capture group.\n",
        "\n",
        "First, define the regex pattern for dates."
      ],
      "metadata": {
        "id": "SpxduJFtu9Gj"
      }
    },
    {
      "cell_type": "code",
      "source": [
        "date_pattern = \"(\\\\d{2}).(\\\\d{2}).(\\\\d{4})\""
      ],
      "metadata": {
        "id": "qmMaKhMIvJNA"
      },
      "execution_count": null,
      "outputs": []
    },
    {
      "cell_type": "markdown",
      "source": [
        "Here’s the code explanation:\n",
        "\n",
        "* (\\\\d{2}) 2 digit characters (first capture group i.e. day)\n",
        ". a single character to account for all special characters\n",
        "* (\\\\d{2}) 2 digit characters (second capture group i.e. month)\n",
        ". a single character to account for all special characters\n",
        "* (\\\\d{4}) 4 digit characters (third capture group i.e. year)\n",
        "Now, we can match the pattern and create individual columns for day, month and year."
      ],
      "metadata": {
        "id": "umpJwA5BvQyZ"
      }
    },
    {
      "cell_type": "markdown",
      "source": [
        "##Names\n",
        "\n",
        "So far, we have explored two examples of strings that contain only digits and special characters. Let’s now learn how to capture words and letters.\n",
        "\n",
        "Here I have a data frame called names, with people’s family names, titles, and given names.\n",
        "\n",
        "![image.png](data:image/png;base64,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)\n",
        "\n",
        "Let’s break them up so that they each have their own individual columns."
      ],
      "metadata": {
        "id": "pxgo-6ruvdso"
      }
    },
    {
      "cell_type": "code",
      "source": [
        "name_pattern = \"(\\\\w+),\\\\s(Mr|Ms|Mrs|Dr).?\\\\s(\\\\w+)\""
      ],
      "metadata": {
        "id": "1xE8URhgvw39"
      },
      "execution_count": null,
      "outputs": []
    },
    {
      "cell_type": "markdown",
      "source": [
        "* (\\\\w+) 1 or more word characters (first capture group i.e. family name)\n",
        "* , comma character\n",
        "* \\\\s a single whitespace character\n",
        "* (Mr|Ms|Mrs|Dr) Mr, Ms, Mrs or Dr (second capture group i.e. title)\n",
        "* .? 0 or 1 full stop character after title\n",
        "* \\\\s a single whitespace character\n",
        "* (\\\\w+) 1 or more word characters (third capture group i.e. given name)"
      ],
      "metadata": {
        "id": "1X7J9e-Hv233"
      }
    },
    {
      "cell_type": "markdown",
      "source": [
        "##URLs\n",
        "\n",
        "Let’s look at another example of strings with words and letters.\n",
        "\n",
        "![image.png](data:image/png;base64,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)\n",
        "\n"
      ],
      "metadata": {
        "id": "CHTzN0BlyH4K"
      }
    },
    {
      "cell_type": "code",
      "source": [
        "url_pattern = \"(https?)://(www)?.?(\\\\w+).(\\\\w+)/?(\\\\w+)?\""
      ],
      "metadata": {
        "id": "q3dIWoCv7xDn"
      },
      "execution_count": null,
      "outputs": []
    },
    {
      "cell_type": "markdown",
      "source": [
        "The interpretation:\n",
        "\n",
        "* (https?) http or https (first capture group i.e. schema)\n",
        "* :// specific special character string\n",
        "* (www)? optional www (second capture group i.e. subdomain)\n",
        "* .? 0 or 1 full stop character\n",
        "* (\\\\w+) 1 or more word characters (third capture group i.e. second-level domain)\n",
        "* . a single full stop character\n",
        "* (\\\\w+)1 or more word characters (fourth capture group i.e. top-level domain)\n",
        "* /? 0 or 1 backslash character\n",
        "* (\\\\w+)? optional 1 or more word characters (fifth capture group i.e. subdirectory)"
      ],
      "metadata": {
        "id": "ckdfT4RW7tZ0"
      }
    },
    {
      "cell_type": "code",
      "source": [],
      "metadata": {
        "id": "wa9BQ2Cmyp2X"
      },
      "execution_count": null,
      "outputs": []
    },
    {
      "cell_type": "markdown",
      "source": [
        "##Email address\n",
        "\n",
        "Using the knowledge that we have gained so far about regular expressions, let us now look at two final string examples that contain both letters and numbers.\n",
        "\n",
        "Suppose we have a list of emails in a data frame called email:\n",
        "\n",
        "![image.png](data:image/png;base64,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)\n",
        "\n",
        "Now, generate a regex pattern to match the username, domain name, and domain."
      ],
      "metadata": {
        "id": "x77AwulEzWHR"
      }
    },
    {
      "cell_type": "code",
      "source": [
        "email_pattern = \"([a-zA-Z0-9\\\\_\\\\-\\\\.]+)@([a-zA-Z]+).(.+)\""
      ],
      "metadata": {
        "id": "syAtwR4O7UWB"
      },
      "execution_count": null,
      "outputs": []
    },
    {
      "cell_type": "markdown",
      "source": [
        "Let’s have a closer look at the regex and decipher its meaning.\n",
        "\n",
        "* ([a-zA-Z0-9\\\\_\\\\-\\\\.]+) 1 or more lowercase letters, uppercase letters, digits, and special characters including underscore, hyphen, and full stop (first capture group i.e. username)\n",
        "* @ at symbol\n",
        "* ([a-zA-Z]+) 1 or more lowercase and uppercase letters (second capture group i.e. domain name)\n",
        "* . a single full stop character\n",
        "* (.+) 1 or more characters (third capture group i.e. domain)"
      ],
      "metadata": {
        "id": "9GiO0f1r7aVH"
      }
    },
    {
      "cell_type": "markdown",
      "source": [
        "##Address\n",
        "I have made up a data frame called address, with hypothetical addresses. The goal is to retrieve the house number, street name, suburb, state, and postcode.\n",
        "\n",
        "![image.png](data:image/png;base64,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)"
      ],
      "metadata": {
        "id": "hSUOecdF79J7"
      }
    },
    {
      "cell_type": "code",
      "source": [
        "address_pattern = \"(\\\\d*)\\\\s?(.+),\\\\s(.+)\\\\s([A-Z]{2,3})\\\\s(\\\\d{4})\""
      ],
      "metadata": {
        "id": "WrVuXx1y8ZGW"
      },
      "execution_count": null,
      "outputs": []
    },
    {
      "cell_type": "markdown",
      "source": [
        "And the code explanation:\n",
        "\n",
        "* (\\\\d*) 0 or more digit characters because some addresses do not have house numbers (first capture group i.e. house number)\n",
        "* \\\\s? 0 or 1 whitespace character\n",
        "* (.+) 1 or more characters (second capture group i.e. street name)\n",
        "* , comma\n",
        "* \\\\s a single whitespace character\n",
        "* (.+) 1 or more characters (third capture group i.e. suburb)\n",
        "* \\\\s a single whitespace character\n",
        "* ([A-Z]{2,3}) 2 or 3 uppercase letters (fourth capture group i.e. state)\n",
        "* \\\\s a single whitespace character\n",
        "* (\\\\d{4}) 4 digit characters (fifth capture group i.e. postcode)"
      ],
      "metadata": {
        "id": "T4YavfFN8dqy"
      }
    },
    {
      "cell_type": "markdown",
      "source": [
        "# Character matching in regular expressions\n",
        "\n",
        "\n",
        "There are a number of other special characters that let us build even more powerful\n",
        "regular expressions. The most commonly used special character is the period or\n",
        "full stop, which matches any character.\n",
        "\n",
        "\n",
        "In the following example, the regular expression F..m: would match any of the\n",
        "strings “From:”, “Fxxm:”, “F12m:”, or “F!@m:” since the period characters in the\n",
        "regular expression match any character."
      ],
      "metadata": {
        "id": "s5fuQMMe5s-L"
      }
    },
    {
      "cell_type": "code",
      "source": [
        "import re\n",
        "hand = open('/content/sample_data/mbox-short.txt')\n",
        "for line in hand:\n",
        "    line = line.rstrip()\n",
        "    if re.search('^F..m:', line):\n",
        "        print(line)\n"
      ],
      "metadata": {
        "id": "lAYWI_or53bz"
      },
      "execution_count": null,
      "outputs": []
    },
    {
      "cell_type": "markdown",
      "source": [
        "#Extracting data using regular expressions\n",
        "\n",
        "If we want to extract data from a string in Python we can use the findall()\n",
        "method to extract all of the substrings which match a regular expression.\n",
        "\n",
        " Let’s use the example of wanting to extract anything that looks like an email address from any line regardless of format. For example, we want to pull the email addresses from each of the following lines:\n",
        "\n",
        "We don’t want to write code for each of the types of lines, splitting and slicing differently for each line. This following program uses findall() to find the lines with email addresses in them and extract one or more addresses from each of those lines\n",
        "\n",
        "\n"
      ],
      "metadata": {
        "id": "XfQlJU5X6nFJ"
      }
    },
    {
      "cell_type": "code",
      "source": [
        "import re\n",
        "s = 'A message from csev@umich.edu to cwen@iupui.edu about meeting @2PM'\n",
        "lst = re.findall('\\S+@\\S+', s)\n",
        "print(lst)\n"
      ],
      "metadata": {
        "colab": {
          "base_uri": "https://localhost:8080/"
        },
        "id": "xZk9twBk67wB",
        "outputId": "cc158709-330f-4b81-ae8f-d653bf192eb5"
      },
      "execution_count": null,
      "outputs": [
        {
          "output_type": "stream",
          "name": "stdout",
          "text": [
            "['csev@umich.edu', 'cwen@iupui.edu']\n"
          ]
        }
      ]
    },
    {
      "cell_type": "markdown",
      "source": [
        "The findall() method searches the string in the second argument and returns a\n",
        "list of all of the strings that look like email addresses. We are using a two-character\n",
        "sequence that matches a non-whitespace character (\\S).\n",
        "The output of the program would be:\n",
        "\n",
        "['csev@umich.edu', 'cwen@iupui.edu']\n",
        "\n",
        "\n",
        "Translating the regular expression, we are looking for substrings that have at least\n",
        "one non-whitespace character, followed by an at-sign, followed by at least one more\n",
        "non-whitespace character. The \\S+ matches as many non-whitespace characters\n",
        "as possible.\n",
        "\n",
        "\n",
        "The regular expression would match twice (csev@umich.edu and cwen@iupui.edu),\n",
        "but it would not match the string “@2PM” because there are no non-blank char\u0002acters before the at-sign. We can use this regular expression in a program to read\n",
        "all the lines in a file and print out anything that looks like an email address as\n",
        "follows:"
      ],
      "metadata": {
        "id": "RcT0OjJC7NJd"
      }
    },
    {
      "cell_type": "code",
      "source": [
        "import re\n",
        "hand = open('/content/sample_data/mbox-short.txt')\n",
        "for line in hand:\n",
        "    line = line.rstrip()\n",
        "    x = re.findall('\\S+@\\S+', line)\n",
        "    if len(x) > 0:\n",
        "        print(x)\n"
      ],
      "metadata": {
        "id": "Qa6NrHJ-7XBP"
      },
      "execution_count": null,
      "outputs": []
    },
    {
      "cell_type": "markdown",
      "source": [
        "This is getting a little complicated and you can begin to see why regular expressions\n",
        "are their own little language unto themselves. Translating this regular expression,\n",
        "we are looking for substrings that start with a single lowercase letter, uppercase\n",
        "letter, or number “[a-zA-Z0-9]”, followed by zero or more non-blank characters\n",
        "(\\S*), followed by an at-sign, followed by zero or more non-blank characters (\\S*),\n",
        "followed by an uppercase or lowercase letter. Note that we switched from + to *\n",
        "to indicate zero or more non-blank characters since [a-zA-Z0-9] is already one\n",
        "non-blank character. Remember that the * or + applies to the single character\n",
        "immediately to the left of the plus or asterisk.\n",
        "\n",
        "\n",
        "If we use this expression in our program, our data is much cleaner"
      ],
      "metadata": {
        "id": "zKA_tPPJ7n6F"
      }
    },
    {
      "cell_type": "code",
      "source": [
        "import re\n",
        "hand = open('/content/sample_data/mbox-short.txtmbox-short.txt')\n",
        "for line in hand:\n",
        "    line = line.rstrip()\n",
        "    x = re.findall('[a-zA-Z0-9]\\S*@\\S*[a-zA-Z]', line)\n",
        "    if len(x) > 0:\n",
        "        print(x)"
      ],
      "metadata": {
        "id": "ZMX7h_jW7w77"
      },
      "execution_count": null,
      "outputs": []
    },
    {
      "cell_type": "markdown",
      "source": [
        "#Combining searching and extracting\n",
        "\n",
        "If we want to find numbers on lines that start with the string “X-” such as:\n",
        "\n",
        "X-DSPAM-Confidence: 0.8475\n",
        "X-DSPAM-Probability: 0.0000\n",
        "\n",
        "we don’t just want any floating-point numbers from any lines. We only want to\n",
        "extract numbers from lines that have the above syntax.\n",
        "We can construct the following regular expression to select the lines:\n",
        "\n",
        "^X-.*: [0-9.]+\n",
        "\n",
        "Translating this, we are saying, we want lines that start with X-, followed by zero\n",
        "or more characters (.*), followed by a colon (:) and then a space. After the\n",
        "space we are looking for one or more characters that are either a digit (0-9) or\n",
        "a period [0-9.]+. Note that inside the square brackets, the period matches an\n",
        "actual period (i.e., it is not a wildcard between the square brackets).\n",
        "This is a very tight expression that will pretty much match only the lines we are\n",
        "interested in as follows:"
      ],
      "metadata": {
        "id": "1k1rEL_48C2J"
      }
    },
    {
      "cell_type": "code",
      "source": [
        "import re\n",
        "hand = open('/content/sample_data/mbox-short.txt')\n",
        "for line in hand:\n",
        "    line = line.rstrip()\n",
        "    if re.search('^X\\S*: [0-9.]+', line):\n",
        "        print(line)\n"
      ],
      "metadata": {
        "id": "kEzxV63U8CMo"
      },
      "execution_count": null,
      "outputs": []
    },
    {
      "cell_type": "markdown",
      "source": [
        "When we run the program, we see the data nicely filtered to show only the lines\n",
        "we are looking for.\n",
        "\n",
        "X-DSPAM-Confidence: 0.8475\n",
        "X-DSPAM-Probability: 0.0000\n",
        "X-DSPAM-Confidence: 0.6178\n",
        "X-DSPAM-Probability: 0.0000\n",
        "...\n",
        "But now we have to solve the problem of extracting the numbers. While it would\n",
        "be simple enough to use split, we can use another feature of regular expressions\n",
        "to both search and parse the line at the same time.\n",
        "\n",
        "Parentheses are another special character in regular expressions. When you add\n",
        "parentheses to a regular expression, they are ignored when matching the string.\n",
        "But when you are using findall(), parentheses indicate that while you want the\n",
        "whole expression to match, you only are interested in extracting a portion of the\n",
        "substring that matches the regular expression.\n",
        "\n",
        "\n",
        "So we make the following change to our program:"
      ],
      "metadata": {
        "id": "TqvcLg3u8iwM"
      }
    },
    {
      "cell_type": "code",
      "source": [
        "import re\n",
        "hand = open('/content/sample_data/mbox-short.txt')\n",
        "for line in hand:\n",
        "    line = line.rstrip()\n",
        "    x= re.findall('^X\\S*: ([0-9.]+)', line)\n",
        "    if len(x) > 0:\n",
        "        print(x)\n"
      ],
      "metadata": {
        "id": "4ObzAR_18q4Q"
      },
      "execution_count": null,
      "outputs": []
    },
    {
      "cell_type": "markdown",
      "source": [
        "Details: http://source.sakaiproject.org/viewsvn/?view=rev&rev=39772\n",
        "\n",
        "\n",
        "If we wanted to extract all of the revision numbers (the integer number at the end\n",
        "of these lines) using the same technique as above, we could write the following\n",
        "program:"
      ],
      "metadata": {
        "id": "zLWt0jpB82uj"
      }
    },
    {
      "cell_type": "code",
      "source": [
        "import re\n",
        "hand = open('/content/sample_data/mbox-short.txt')\n",
        "for line in hand:\n",
        "    line = line.rstrip()\n",
        "    x = re.findall('^Details:.*rev=([0-9]+)', line)\n",
        "    if len(x) > 0:\n",
        "        print(x)\n"
      ],
      "metadata": {
        "id": "HAkvgmia9Cp8"
      },
      "execution_count": null,
      "outputs": []
    },
    {
      "cell_type": "markdown",
      "source": [
        "The translation of this regular expression is that we are looking for lines that start\n",
        "with From (note the space), followed by any number of characters (.*), followed by\n",
        "a space, followed by two digits [0-9][0-9], followed by a colon character. This is\n",
        "the definition of the kinds of lines we are looking for.\n",
        "\n",
        "\n",
        "In order to pull out only the hour using findall(), we add parentheses around\n",
        "the two digits as follows:"
      ],
      "metadata": {
        "id": "-Ue26clE9R9O"
      }
    },
    {
      "cell_type": "code",
      "source": [
        "import re\n",
        "hand = open('/content/sample_data/mbox-short.txt')\n",
        "for line in hand:\n",
        "    line = line.rstrip()\n",
        "    x = re.findall('^From .* ([0-9][0-9]):', line)\n",
        "    if len(x) > 0: \n",
        "       print(x)\n"
      ],
      "metadata": {
        "id": "hP-_FJTc9Ri8"
      },
      "execution_count": null,
      "outputs": []
    },
    {
      "cell_type": "markdown",
      "source": [
        "#Escape character\n",
        "\n",
        "Since we use special characters in regular expressions to match the beginning or\n",
        "end of a line or specify wild cards, we need a way to indicate that these characters\n",
        "are “normal” and we want to match the actual character such as a dollar sign or\n",
        "caret.\n",
        "\n",
        "\n",
        "We can indicate that we want to simply match a character by prefixing that charac\u0002ter with a backslash. For example, we can find money amounts with the following\n",
        "regular expression"
      ],
      "metadata": {
        "id": "ZJaCjCwU9kKU"
      }
    },
    {
      "cell_type": "code",
      "source": [
        "import re\n",
        "x = 'We just received $10.00 for cookies.'\n",
        "y = re.findall('\\$[0-9.]+',x)\n"
      ],
      "metadata": {
        "id": "cHQgIyu89qEK"
      },
      "execution_count": null,
      "outputs": []
    }
  ]
}