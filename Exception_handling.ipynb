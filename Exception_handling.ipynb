{
  "nbformat": 4,
  "nbformat_minor": 0,
  "metadata": {
    "colab": {
      "provenance": [],
      "collapsed_sections": [],
      "include_colab_link": true
    },
    "kernelspec": {
      "name": "python3",
      "display_name": "Python 3"
    },
    "language_info": {
      "name": "python"
    }
  },
  "cells": [
    {
      "cell_type": "markdown",
      "metadata": {
        "id": "view-in-github",
        "colab_type": "text"
      },
      "source": [
        "<a href=\"https://colab.research.google.com/github/PlacementGuide1/PythonCourse/blob/main/Exception_handling.ipynb\" target=\"_parent\"><img src=\"https://colab.research.google.com/assets/colab-badge.svg\" alt=\"Open In Colab\"/></a>"
      ]
    },
    {
      "cell_type": "markdown",
      "source": [
        ">[Exception handeling](#folderId=1DZm0B70mGL8AgAg5dqcU94I89VgJW_Ww&updateTitle=true&scrollTo=9vit-sgtezqg)\n",
        "\n",
        ">>[try](#folderId=1DZm0B70mGL8AgAg5dqcU94I89VgJW_Ww&updateTitle=true&scrollTo=Zgf8UoRFfEGt)\n",
        "\n",
        ">>[Many Exceptions](#folderId=1DZm0B70mGL8AgAg5dqcU94I89VgJW_Ww&updateTitle=true&scrollTo=yszAh-Scfe0E)\n",
        "\n",
        ">>[Else](#folderId=1DZm0B70mGL8AgAg5dqcU94I89VgJW_Ww&updateTitle=true&scrollTo=u6_wS-lHfyvI)\n",
        "\n",
        ">>[Finally](#folderId=1DZm0B70mGL8AgAg5dqcU94I89VgJW_Ww&updateTitle=true&scrollTo=49T-phAVf4Lu)\n",
        "\n",
        ">[Raise an exception](#folderId=1DZm0B70mGL8AgAg5dqcU94I89VgJW_Ww&updateTitle=true&scrollTo=2nDwo56wgmMA)\n",
        "\n",
        ">[with](#folderId=1DZm0B70mGL8AgAg5dqcU94I89VgJW_Ww&updateTitle=true&scrollTo=8YjYgJXrhrow)\n",
        "\n"
      ],
      "metadata": {
        "colab_type": "toc",
        "id": "PdPhbwXThUC5"
      }
    },
    {
      "cell_type": "markdown",
      "source": [
        "#Exception handeling\n",
        "\n",
        "The **try** block lets you test a block of code for errors.\n",
        "\n",
        "The **except** block lets you handle the error.\n",
        "\n",
        "The **else** block lets you execute code when there is no error.\n",
        "\n",
        "The **finally** block lets you execute code, regardless of the result of the try- and except blocks.\n",
        "\n",
        "\n"
      ],
      "metadata": {
        "id": "9vit-sgtezqg"
      }
    },
    {
      "cell_type": "markdown",
      "source": [
        "##try\n",
        "\n",
        "When an error occurs, or exception as we call it, Python will normally stop and generate an error message.\n",
        "\n",
        "These exceptions can be handled using the try statement:"
      ],
      "metadata": {
        "id": "Zgf8UoRFfEGt"
      }
    },
    {
      "cell_type": "code",
      "source": [
        "try:\n",
        "  print(x)\n",
        "except:\n",
        "  print(\"An exception occurred\")"
      ],
      "metadata": {
        "id": "glVyEM4qfW6Q"
      },
      "execution_count": null,
      "outputs": []
    },
    {
      "cell_type": "markdown",
      "source": [
        "Since the try block raises an error, the except block will be executed.\n",
        "\n",
        "Without the try block, the program will crash and raise an error:"
      ],
      "metadata": {
        "id": "YOxKY8ULfLnf"
      }
    },
    {
      "cell_type": "code",
      "source": [
        "print(x)"
      ],
      "metadata": {
        "id": "iRP8ZchzfYcE"
      },
      "execution_count": null,
      "outputs": []
    },
    {
      "cell_type": "markdown",
      "source": [
        "##Many Exceptions\n",
        "\n",
        "You can define as many exception blocks as you want, e.g. if you want to execute a special block of code for a special kind of error:\n",
        "\n",
        "Print one message if the try block raises a NameError and another for other errors:"
      ],
      "metadata": {
        "id": "yszAh-Scfe0E"
      }
    },
    {
      "cell_type": "code",
      "source": [
        "try:\n",
        "  print(int(\"hello\"))\n",
        "except NameError:\n",
        "  print(\"Variable x is not defined\")\n",
        "except:\n",
        "  print(\"Something else went wrong\")"
      ],
      "metadata": {
        "id": "eDMV0WUrfjqI",
        "colab": {
          "base_uri": "https://localhost:8080/"
        },
        "outputId": "c72dc42e-da2f-41ae-e80b-98750caa660a"
      },
      "execution_count": null,
      "outputs": [
        {
          "output_type": "stream",
          "name": "stdout",
          "text": [
            "Something else went wrong\n"
          ]
        }
      ]
    },
    {
      "cell_type": "markdown",
      "source": [
        "##Else\n",
        "\n",
        "You can use the else keyword to define a block of code to be executed if no errors were raised:\n",
        "\n",
        "In this example, the try block does not generate any error:"
      ],
      "metadata": {
        "id": "u6_wS-lHfyvI"
      }
    },
    {
      "cell_type": "code",
      "source": [
        "try:\n",
        "  print(\"Hello\")\n",
        "except:\n",
        "  print(\"Something went wrong\")\n",
        "else:\n",
        "  print(\"Nothing went wrong\")"
      ],
      "metadata": {
        "id": "HAUTsdCdf_MX"
      },
      "execution_count": null,
      "outputs": []
    },
    {
      "cell_type": "markdown",
      "source": [
        "##Finally\n",
        "\n",
        "The finally block, if specified, will be executed regardless if the try block raises an error or not."
      ],
      "metadata": {
        "id": "49T-phAVf4Lu"
      }
    },
    {
      "cell_type": "code",
      "source": [
        "try:\n",
        "  print(\"hello\")\n",
        "except:\n",
        "  print(\"Something went wrong\")\n",
        "finally:\n",
        "  print(\"The 'try except' is finished\")"
      ],
      "metadata": {
        "id": "5dqOMofugKIy",
        "colab": {
          "base_uri": "https://localhost:8080/"
        },
        "outputId": "a44c2c85-a107-4576-ea5e-e620ff21688d"
      },
      "execution_count": null,
      "outputs": [
        {
          "output_type": "stream",
          "name": "stdout",
          "text": [
            "hello\n",
            "The 'try except' is finished\n"
          ]
        }
      ]
    },
    {
      "cell_type": "markdown",
      "source": [
        "This can be useful to close objects and clean up resources:"
      ],
      "metadata": {
        "id": "WFdp240BgLr0"
      }
    },
    {
      "cell_type": "code",
      "source": [
        "try:\n",
        "  f = open(\"/content/sample_data/README.md\")\n",
        "  try:\n",
        "    f.write(\"Lorum Ipsum\")\n",
        "  except:\n",
        "    print(\"Something went wrong when writing to the file\")\n",
        "  finally:\n",
        "    f.close()\n",
        "except:\n",
        "  print(\"Something went wrong when opening the file\")\n"
      ],
      "metadata": {
        "id": "ckwPrZrUgSwh",
        "colab": {
          "base_uri": "https://localhost:8080/"
        },
        "outputId": "8cecbaf7-1471-4e33-a8ce-da1acfddd1b2"
      },
      "execution_count": null,
      "outputs": [
        {
          "output_type": "stream",
          "name": "stdout",
          "text": [
            "Something went wrong when writing to the file\n"
          ]
        }
      ]
    },
    {
      "cell_type": "markdown",
      "source": [
        "The program can continue, without leaving the file object open."
      ],
      "metadata": {
        "id": "5Owu-VHrgiPz"
      }
    },
    {
      "cell_type": "markdown",
      "source": [
        "#Raise an exception\n",
        "\n",
        "As a Python developer you can choose to throw an exception if a condition occurs.\n",
        "\n",
        "To throw (or raise) an exception, use the raise keyword.\n",
        "\n",
        "**Example**\n",
        "\n",
        "Raise an error and stop the program if x is lower than 0:"
      ],
      "metadata": {
        "id": "2nDwo56wgmMA"
      }
    },
    {
      "cell_type": "code",
      "source": [
        "x = -1\n",
        "\n",
        "if x < 0:\n",
        "  raise Exception(\"Sorry, no numbers below zero\")"
      ],
      "metadata": {
        "id": "acATAJ5yg2Bh",
        "colab": {
          "base_uri": "https://localhost:8080/",
          "height": 201
        },
        "outputId": "3db28ebf-9bc0-43f8-bbb3-596d92d8a43a"
      },
      "execution_count": null,
      "outputs": [
        {
          "output_type": "error",
          "ename": "Exception",
          "evalue": "ignored",
          "traceback": [
            "\u001b[0;31m---------------------------------------------------------------------------\u001b[0m",
            "\u001b[0;31mException\u001b[0m                                 Traceback (most recent call last)",
            "\u001b[0;32m<ipython-input-7-2edc57024fbc>\u001b[0m in \u001b[0;36m<module>\u001b[0;34m\u001b[0m\n\u001b[1;32m      2\u001b[0m \u001b[0;34m\u001b[0m\u001b[0m\n\u001b[1;32m      3\u001b[0m \u001b[0;32mif\u001b[0m \u001b[0mx\u001b[0m \u001b[0;34m<\u001b[0m \u001b[0;36m0\u001b[0m\u001b[0;34m:\u001b[0m\u001b[0;34m\u001b[0m\u001b[0;34m\u001b[0m\u001b[0m\n\u001b[0;32m----> 4\u001b[0;31m   \u001b[0;32mraise\u001b[0m \u001b[0mException\u001b[0m\u001b[0;34m(\u001b[0m\u001b[0;34m\"Sorry, no numbers below zero\"\u001b[0m\u001b[0;34m)\u001b[0m\u001b[0;34m\u001b[0m\u001b[0;34m\u001b[0m\u001b[0m\n\u001b[0m",
            "\u001b[0;31mException\u001b[0m: Sorry, no numbers below zero"
          ]
        }
      ]
    },
    {
      "cell_type": "markdown",
      "source": [
        "The raise keyword is used to raise an exception.\n",
        "\n",
        "You can define what kind of error to raise, and the text to print to the user.\n",
        "\n",
        "**Example**\n",
        "Raise a TypeError if x is not an integer:"
      ],
      "metadata": {
        "id": "oaVTS51dg7sl"
      }
    },
    {
      "cell_type": "code",
      "source": [
        "x = \"hello\"\n",
        "\n",
        "if not type(x) is int:\n",
        "  raise TypeError(\"Only integers are allowed\")"
      ],
      "metadata": {
        "id": "D4jdq0GThDEa",
        "colab": {
          "base_uri": "https://localhost:8080/",
          "height": 201
        },
        "outputId": "1b38ef5a-27b3-47c6-dd01-682c6b11f2e1"
      },
      "execution_count": null,
      "outputs": [
        {
          "output_type": "error",
          "ename": "TypeError",
          "evalue": "ignored",
          "traceback": [
            "\u001b[0;31m---------------------------------------------------------------------------\u001b[0m",
            "\u001b[0;31mTypeError\u001b[0m                                 Traceback (most recent call last)",
            "\u001b[0;32m<ipython-input-8-bc91768a6271>\u001b[0m in \u001b[0;36m<module>\u001b[0;34m\u001b[0m\n\u001b[1;32m      2\u001b[0m \u001b[0;34m\u001b[0m\u001b[0m\n\u001b[1;32m      3\u001b[0m \u001b[0;32mif\u001b[0m \u001b[0;32mnot\u001b[0m \u001b[0mtype\u001b[0m\u001b[0;34m(\u001b[0m\u001b[0mx\u001b[0m\u001b[0;34m)\u001b[0m \u001b[0;32mis\u001b[0m \u001b[0mint\u001b[0m\u001b[0;34m:\u001b[0m\u001b[0;34m\u001b[0m\u001b[0;34m\u001b[0m\u001b[0m\n\u001b[0;32m----> 4\u001b[0;31m   \u001b[0;32mraise\u001b[0m \u001b[0mTypeError\u001b[0m\u001b[0;34m(\u001b[0m\u001b[0;34m\"Only integers are allowed\"\u001b[0m\u001b[0;34m)\u001b[0m\u001b[0;34m\u001b[0m\u001b[0;34m\u001b[0m\u001b[0m\n\u001b[0m",
            "\u001b[0;31mTypeError\u001b[0m: Only integers are allowed"
          ]
        }
      ]
    },
    {
      "cell_type": "markdown",
      "source": [
        "#with\n",
        "\n",
        "**with** statement in Python is used in exception handling to make the code cleaner and much more readable. It simplifies the management of common resources like file streams. Observe the following code example on how the use of with statement makes code cleaner."
      ],
      "metadata": {
        "id": "8YjYgJXrhrow"
      }
    },
    {
      "cell_type": "code",
      "source": [
        "# 1) without using with statement\n",
        "file = open('file_path', 'w')\n",
        "file.write('hello world !')\n",
        "file.close()\n",
        "  \n",
        "# 2) without using with statement\n",
        "file = open('file_path', 'w')\n",
        "try:\n",
        "    file.write('hello world')\n",
        "finally:\n",
        "    file.close()"
      ],
      "metadata": {
        "id": "orj6c3xDh7v2"
      },
      "execution_count": null,
      "outputs": []
    },
    {
      "cell_type": "code",
      "source": [
        "# using with statement\n",
        "with open('file_path', 'w') as file:\n",
        "    file.write('hello world !')"
      ],
      "metadata": {
        "id": "CH8fpQrUiAgZ"
      },
      "execution_count": null,
      "outputs": []
    },
    {
      "cell_type": "markdown",
      "source": [
        "Notice that unlike the first two implementations, there is no need to call file.close() when using with statement. The with statement itself ensures proper acquisition and release of resources. An exception during the file.write() call in the first implementation can prevent the file from closing properly which may introduce several bugs in the code, i.e. many changes in files do not go into effect until the file is properly closed.\n",
        "\n",
        "The second approach in the above example takes care of all the exceptions but using the with statement makes the code compact and much more readable. Thus, with statement helps avoiding bugs and leaks by ensuring that a resource is properly released when the code using the resource is completely executed. The with statement is popularly used with file streams, as shown above and with Locks, sockets, subprocesses and telnets etc."
      ],
      "metadata": {
        "id": "StYMDNvQiQYY"
      }
    }
  ]
}