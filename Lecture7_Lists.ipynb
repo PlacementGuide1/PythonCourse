{
  "nbformat": 4,
  "nbformat_minor": 0,
  "metadata": {
    "colab": {
      "provenance": [],
      "collapsed_sections": [],
      "include_colab_link": true
    },
    "kernelspec": {
      "name": "python3",
      "display_name": "Python 3"
    },
    "language_info": {
      "name": "python"
    }
  },
  "cells": [
    {
      "cell_type": "markdown",
      "metadata": {
        "id": "view-in-github",
        "colab_type": "text"
      },
      "source": [
        "<a href=\"https://colab.research.google.com/github/PlacementGuide1/PythonCourse/blob/main/Lecture7_Lists.ipynb\" target=\"_parent\"><img src=\"https://colab.research.google.com/assets/colab-badge.svg\" alt=\"Open In Colab\"/></a>"
      ]
    },
    {
      "cell_type": "markdown",
      "source": [
        ">[A list is a sequence](#scrollTo=YDfGccPxmr2a)\n",
        "\n",
        ">[Nested List](#scrollTo=7IZoeHcVmwu6)\n",
        "\n",
        ">[Lists are mutable](#scrollTo=2wnabyUbpI-Q)\n",
        "\n",
        ">[Traversing a list](#scrollTo=3y1LTzM3wCCi)\n",
        "\n",
        ">[List Operation](#scrollTo=8xgxUZWawwU1)\n",
        "\n",
        ">>[addition operations](#scrollTo=ZwVD5Ep6yjga)\n",
        "\n",
        ">>[multiplication opration](#scrollTo=raKj5zxMzH4M)\n",
        "\n",
        ">[List slices](#scrollTo=wq89pXNK0RWd)\n",
        "\n",
        ">[List methods](#scrollTo=h_rn8Te-3AP2)\n",
        "\n",
        ">>[Add elements](#scrollTo=rxnka2S7pKlZ)\n",
        "\n",
        ">>[Deleting elements](#scrollTo=Jy5KghLr3rnF)\n",
        "\n",
        ">>[Find element](#scrollTo=O81EkHYZrMoY)\n",
        "\n",
        ">>[Comprehension](#scrollTo=XBQVduhoveeN)\n",
        "\n",
        ">[Lists and functions](#scrollTo=DnEfSSJvIwzQ)\n",
        "\n",
        ">[Lists and strings](#scrollTo=1c_MO5UaHRNw)\n",
        "\n",
        ">[Parsing lines](#scrollTo=CJbqMmGKJ5Vw)\n",
        "\n",
        ">[Objects and values](#scrollTo=k8_RRUDDfI45)\n",
        "\n",
        ">[Aliasing](#scrollTo=pKjFy_zmf5eL)\n",
        "\n",
        ">[List arguments](#scrollTo=KHciCnHuhP-o)\n",
        "\n"
      ],
      "metadata": {
        "colab_type": "toc",
        "id": "uP-kiopdpSmA"
      }
    },
    {
      "cell_type": "markdown",
      "source": [
        "#A list is a sequence\n",
        "\n",
        "\n",
        "Like a string, a list is a sequence of values. In a string, the values are characters;\n",
        "in a list, they can be any type. The values in list are called elements or sometimes\n",
        "items.\n",
        "There are several ways to create a new list; the simplest is to enclose the elements\n",
        "in square brackets (“[\" and “]”):"
      ],
      "metadata": {
        "id": "YDfGccPxmr2a"
      }
    },
    {
      "cell_type": "code",
      "execution_count": null,
      "metadata": {
        "colab": {
          "base_uri": "https://localhost:8080/"
        },
        "id": "55Mw81OImdrb",
        "outputId": "1e42515b-d0c5-44d8-acb1-be598321288f"
      },
      "outputs": [
        {
          "output_type": "stream",
          "name": "stdout",
          "text": [
            "[10, 20, 30, 40]\n",
            "['crunchy frog', 'ram bladder', 'lark vomit']\n"
          ]
        }
      ],
      "source": [
        "list_of_int = [10, 20, 30, 40]\n",
        "list_of_string = ['crunchy frog', 'ram bladder', 'lark vomit']\n",
        "\n",
        "print(list_of_int)\n",
        "print(list_of_string)\n"
      ]
    },
    {
      "cell_type": "markdown",
      "source": [
        "The first example is a list of four integers. The second is a list of three strings.\n",
        "The elements of a list don’t have to be the same type. The following list contains\n",
        "\n",
        "1. a string\n",
        "1. a float\n",
        "1. an integer\n",
        "1. another list"
      ],
      "metadata": {
        "id": "w48ZNb-tocyq"
      }
    },
    {
      "cell_type": "code",
      "source": [
        "cheeses = ['Cheddar', 'Edam', 'Gouda']\n",
        "numbers = [17, 123]\n",
        "empty = []\n",
        "print(cheeses, numbers, empty)"
      ],
      "metadata": {
        "colab": {
          "base_uri": "https://localhost:8080/"
        },
        "id": "POEHjDk2nbvG",
        "outputId": "6c68a678-dd8a-4846-f9a8-811c27852596"
      },
      "execution_count": null,
      "outputs": [
        {
          "output_type": "stream",
          "name": "stdout",
          "text": [
            "['Cheddar', 'Edam', 'Gouda'] [17, 123] []\n"
          ]
        }
      ]
    },
    {
      "cell_type": "markdown",
      "source": [
        "#Nested List\n",
        "\n",
        "A list within another list is nested.\n",
        "A list that contains no elements is called an empty list; you can create one with\n",
        "empty brackets, [].\n",
        "As you might expect, you can assign list values to variables:"
      ],
      "metadata": {
        "id": "7IZoeHcVmwu6"
      }
    },
    {
      "cell_type": "code",
      "source": [
        "def parseList(list) :\n",
        "  for data in list:\n",
        "    print(type(data))\n",
        "    if(type(data) == type()):\n",
        "      parseList(data)\n",
        "    else:\n",
        "      print(data)\n",
        "\n",
        "list_of_list = ['spam', 2.0, 5, [10, 20, [1,2,3]]]\n",
        "\n",
        "parseList(list_of_list)\n"
      ],
      "metadata": {
        "colab": {
          "base_uri": "https://localhost:8080/",
          "height": 339
        },
        "id": "rk5lgTHzomK5",
        "outputId": "70ab0c0f-c60b-4c5c-dd4e-bac0db5dccda"
      },
      "execution_count": null,
      "outputs": [
        {
          "output_type": "stream",
          "name": "stdout",
          "text": [
            "<class 'str'>\n"
          ]
        },
        {
          "output_type": "error",
          "ename": "TypeError",
          "evalue": "ignored",
          "traceback": [
            "\u001b[0;31m---------------------------------------------------------------------------\u001b[0m",
            "\u001b[0;31mTypeError\u001b[0m                                 Traceback (most recent call last)",
            "\u001b[0;32m<ipython-input-7-1af044b7a04b>\u001b[0m in \u001b[0;36m<module>\u001b[0;34m\u001b[0m\n\u001b[1;32m      9\u001b[0m \u001b[0mlist_of_list\u001b[0m \u001b[0;34m=\u001b[0m \u001b[0;34m[\u001b[0m\u001b[0;34m'spam'\u001b[0m\u001b[0;34m,\u001b[0m \u001b[0;36m2.0\u001b[0m\u001b[0;34m,\u001b[0m \u001b[0;36m5\u001b[0m\u001b[0;34m,\u001b[0m \u001b[0;34m[\u001b[0m\u001b[0;36m10\u001b[0m\u001b[0;34m,\u001b[0m \u001b[0;36m20\u001b[0m\u001b[0;34m,\u001b[0m \u001b[0;34m[\u001b[0m\u001b[0;36m1\u001b[0m\u001b[0;34m,\u001b[0m\u001b[0;36m2\u001b[0m\u001b[0;34m,\u001b[0m\u001b[0;36m3\u001b[0m\u001b[0;34m]\u001b[0m\u001b[0;34m]\u001b[0m\u001b[0;34m]\u001b[0m\u001b[0;34m\u001b[0m\u001b[0;34m\u001b[0m\u001b[0m\n\u001b[1;32m     10\u001b[0m \u001b[0;34m\u001b[0m\u001b[0m\n\u001b[0;32m---> 11\u001b[0;31m \u001b[0mparseList\u001b[0m\u001b[0;34m(\u001b[0m\u001b[0mlist_of_list\u001b[0m\u001b[0;34m)\u001b[0m\u001b[0;34m\u001b[0m\u001b[0;34m\u001b[0m\u001b[0m\n\u001b[0m",
            "\u001b[0;32m<ipython-input-7-1af044b7a04b>\u001b[0m in \u001b[0;36mparseList\u001b[0;34m(list)\u001b[0m\n\u001b[1;32m      2\u001b[0m   \u001b[0;32mfor\u001b[0m \u001b[0mdata\u001b[0m \u001b[0;32min\u001b[0m \u001b[0mlist\u001b[0m\u001b[0;34m:\u001b[0m\u001b[0;34m\u001b[0m\u001b[0;34m\u001b[0m\u001b[0m\n\u001b[1;32m      3\u001b[0m     \u001b[0mprint\u001b[0m\u001b[0;34m(\u001b[0m\u001b[0mtype\u001b[0m\u001b[0;34m(\u001b[0m\u001b[0mdata\u001b[0m\u001b[0;34m)\u001b[0m\u001b[0;34m)\u001b[0m\u001b[0;34m\u001b[0m\u001b[0;34m\u001b[0m\u001b[0m\n\u001b[0;32m----> 4\u001b[0;31m     \u001b[0;32mif\u001b[0m\u001b[0;34m(\u001b[0m\u001b[0mtype\u001b[0m\u001b[0;34m(\u001b[0m\u001b[0mdata\u001b[0m\u001b[0;34m)\u001b[0m \u001b[0;34m==\u001b[0m \u001b[0mtype\u001b[0m\u001b[0;34m(\u001b[0m\u001b[0mlist\u001b[0m\u001b[0;34m(\u001b[0m\u001b[0;34m)\u001b[0m\u001b[0;34m)\u001b[0m\u001b[0;34m)\u001b[0m\u001b[0;34m:\u001b[0m\u001b[0;34m\u001b[0m\u001b[0;34m\u001b[0m\u001b[0m\n\u001b[0m\u001b[1;32m      5\u001b[0m       \u001b[0mparseList\u001b[0m\u001b[0;34m(\u001b[0m\u001b[0mdata\u001b[0m\u001b[0;34m)\u001b[0m\u001b[0;34m\u001b[0m\u001b[0;34m\u001b[0m\u001b[0m\n\u001b[1;32m      6\u001b[0m     \u001b[0;32melse\u001b[0m\u001b[0;34m:\u001b[0m\u001b[0;34m\u001b[0m\u001b[0;34m\u001b[0m\u001b[0m\n",
            "\u001b[0;31mTypeError\u001b[0m: 'list' object is not callable"
          ]
        }
      ]
    },
    {
      "cell_type": "markdown",
      "source": [
        "#Lists are mutable\n",
        "\n",
        "The syntax for accessing the elements of a list is the same as for accessing the\n",
        "characters of a string: the bracket operator. The expression inside the brackets\n",
        "specifies the index. Remember that the indices start at 0:\n",
        "\n",
        "Unlike strings, lists are mutable because you can change the order of items in a\n",
        "list or reassign an item in a list. When the bracket operator appears on the left\n",
        "side of an assignment, it identifies the element of the list that will be assigned."
      ],
      "metadata": {
        "id": "2wnabyUbpI-Q"
      }
    },
    {
      "cell_type": "code",
      "source": [
        "print(cheeses[0])\n",
        "\n",
        "numbers = [17, 123]\n",
        "numbers[1] = 5\n",
        "print(numbers)"
      ],
      "metadata": {
        "colab": {
          "base_uri": "https://localhost:8080/"
        },
        "id": "Hr7JniLUpUo5",
        "outputId": "e9e40186-2a82-493e-eda5-d27bf0a65c2e"
      },
      "execution_count": null,
      "outputs": [
        {
          "output_type": "stream",
          "name": "stdout",
          "text": [
            "Cheddar\n",
            "[17, 5]\n"
          ]
        }
      ]
    },
    {
      "cell_type": "markdown",
      "source": [
        "The one-th element of numbers, which used to be 123, is now 5.\n",
        "You can think of a list as a relationship between indices and elements.\n",
        "This rela\u0002tionship is called a mapping; each index “maps to” one of the elements.\n",
        "List indices work the same way as string indices:\n",
        "\n",
        ">• Any integer expression can be used as an index.\n",
        "\n",
        ">• If you try to read or write an element that does not exist, you get an\n",
        "IndexError.\n",
        "\n",
        ">• If an index has a negative value, it counts backward from the end of the list.\n",
        "\n",
        ">• The in operator also works on lists.\n"
      ],
      "metadata": {
        "id": "4EoRVrgjvYuy"
      }
    },
    {
      "cell_type": "code",
      "source": [
        "cheeses = ['Cheddar', 'Edam', 'Gouda']\n",
        "'Edam' in cheeses\n",
        "\n",
        "'Brie' in cheeses\n"
      ],
      "metadata": {
        "colab": {
          "base_uri": "https://localhost:8080/"
        },
        "id": "Z7GqRyY8vuEI",
        "outputId": "1acdd060-2e1f-42f6-f8d8-8011df59d656"
      },
      "execution_count": null,
      "outputs": [
        {
          "output_type": "execute_result",
          "data": {
            "text/plain": [
              "False"
            ]
          },
          "metadata": {},
          "execution_count": 6
        }
      ]
    },
    {
      "cell_type": "markdown",
      "source": [
        "#Traversing a list\n",
        "\n",
        "The most common way to traverse the elements of a list is with a for loop. The\n",
        "syntax is the same as for strings:\n",
        "\n"
      ],
      "metadata": {
        "id": "3y1LTzM3wCCi"
      }
    },
    {
      "cell_type": "code",
      "source": [
        "#using while loop\n",
        "cheeses = ['Cheddar', 'Edam', 'Gouda']\n",
        "\n",
        "start_index =0;\n",
        "end_index = len(cheeses) - 1\n",
        "\n",
        "while start_index <= end_index:\n",
        "  print(cheeses[start_index])\n",
        "  start_index+=1"
      ],
      "metadata": {
        "colab": {
          "base_uri": "https://localhost:8080/"
        },
        "id": "fEYrfcoRkiSb",
        "outputId": "c5f4a519-78ff-4e53-cab2-dc5124268680"
      },
      "execution_count": null,
      "outputs": [
        {
          "output_type": "stream",
          "name": "stdout",
          "text": [
            "Cheddar\n",
            "Edam\n",
            "Gouda\n"
          ]
        }
      ]
    },
    {
      "cell_type": "code",
      "source": [
        "cheeses = ['Cheddar', 'Edam', 'Gouda']\n",
        "for cheese in cheeses:\n",
        "    print(cheese)\n"
      ],
      "metadata": {
        "colab": {
          "base_uri": "https://localhost:8080/"
        },
        "id": "nk5EV5PDwMR4",
        "outputId": "c80f0759-e452-4dad-fd74-c3516695f63b"
      },
      "execution_count": null,
      "outputs": [
        {
          "output_type": "stream",
          "name": "stdout",
          "text": [
            "Cheddar\n",
            "Edam\n",
            "Gouda\n"
          ]
        }
      ]
    },
    {
      "cell_type": "markdown",
      "source": [
        "#List Operation\n",
        "\n",
        "This works well if you only need to read the elements of the list. But if you want\n",
        "to write or update the elements, you need the indices. A common way to do that\n",
        "is to combine the functions range and len:\n",
        "\n",
        "\n",
        "This loop traverses the list and updates each element. len returns the number of\n",
        "elements in the list. range returns a list of indices from 0 to n − 1, where n is\n",
        "the length of the list. Each time through the loop, i gets the index of the next\n",
        "element. The assignment statement in the body uses i to read the old value of the\n",
        "element and to assign the new value.\n"
      ],
      "metadata": {
        "id": "8xgxUZWawwU1"
      }
    },
    {
      "cell_type": "code",
      "source": [
        "for i in range(len(numbers)):\n",
        "    numbers[i] = numbers[i] * 2\n",
        "\n",
        "print(numbers)\n",
        "\n",
        "for x in empty:\n",
        "  print('This never happens.')\n",
        "\n",
        "print(empty)\n"
      ],
      "metadata": {
        "colab": {
          "base_uri": "https://localhost:8080/"
        },
        "id": "7Gd_wVzWw_Nx",
        "outputId": "639d2efd-eca7-4af8-dea5-7f03bf5094ef"
      },
      "execution_count": null,
      "outputs": [
        {
          "output_type": "stream",
          "name": "stdout",
          "text": [
            "[1088, 320]\n",
            "[]\n"
          ]
        }
      ]
    },
    {
      "cell_type": "markdown",
      "source": [
        "##addition operations\n",
        "\n",
        " The + operator concatenates lists:"
      ],
      "metadata": {
        "id": "ZwVD5Ep6yjga"
      }
    },
    {
      "cell_type": "code",
      "source": [
        "a = [1, 2, 3]\n",
        "b = [4, 5, 6]\n",
        "c = a + b\n",
        "print(c)"
      ],
      "metadata": {
        "colab": {
          "base_uri": "https://localhost:8080/"
        },
        "id": "B2CRXGtyy6lQ",
        "outputId": "465cc74d-1b52-40e7-e903-34163fb2c6f5"
      },
      "execution_count": null,
      "outputs": [
        {
          "output_type": "stream",
          "name": "stdout",
          "text": [
            "[1, 2, 3, 4, 5, 6]\n"
          ]
        }
      ]
    },
    {
      "cell_type": "markdown",
      "source": [
        "##multiplication opration\n",
        "\n",
        "Similarly, the * operator repeats a list a given number of times:\n",
        "\n",
        "The first example repeats four times. The second example repeats the list three\n",
        "times"
      ],
      "metadata": {
        "id": "raKj5zxMzH4M"
      }
    },
    {
      "cell_type": "code",
      "source": [
        "a = [1, 2, 3]\n",
        "b = [4, 5, 6]\n",
        "\n",
        "print([0] * 4)\n",
        "\n",
        "print([1, 2, 3] * 3)"
      ],
      "metadata": {
        "colab": {
          "base_uri": "https://localhost:8080/"
        },
        "id": "h9kUA-YezOh8",
        "outputId": "31fcf652-1746-48af-a4bb-00b175db0378"
      },
      "execution_count": null,
      "outputs": [
        {
          "output_type": "stream",
          "name": "stdout",
          "text": [
            "[0, 0, 0, 0]\n",
            "[1, 2, 3, 1, 2, 3, 1, 2, 3]\n"
          ]
        }
      ]
    },
    {
      "cell_type": "markdown",
      "source": [
        "#List slices\n",
        "\n",
        "The slice operator also works on lists:\n",
        ":\n",
        "\n",
        "If you omit the first index, the slice starts at the beginning. If you omit the second,\n",
        "the slice goes to the end. So if you omit both, the slice is a copy of the whole list.\n",
        "\n",
        "Since lists are mutable, it is often useful to make a copy before performing opera\u0002tions that fold, spindle, or mutilate lists.\n",
        "A slice operator on the left side of an assignment can update multiple elements:\n"
      ],
      "metadata": {
        "id": "wq89pXNK0RWd"
      }
    },
    {
      "cell_type": "code",
      "source": [
        "t = ['a', 'b', 'c', 'd', 'e', 'f']\n",
        "print(t[1:3])\n",
        "print(t[:4])\n",
        "print(t[3:])\n",
        "print(t[:],\"\\n\")\n",
        "\n",
        "t = ['a', 'b', 'c', 'd', 'e', 'f']\n",
        "t[1:3] = ['x', 'y']\n",
        "print(t)\n",
        "\n",
        "t = ['a', 'b', 'c', 'd', 'e', 'f']\n",
        "print(t[0:5:2])\n"
      ],
      "metadata": {
        "colab": {
          "base_uri": "https://localhost:8080/"
        },
        "id": "fb8QtPAd0xLZ",
        "outputId": "4bbf03ed-c95d-4f9c-c4cf-24d6aae6e48b"
      },
      "execution_count": null,
      "outputs": [
        {
          "output_type": "stream",
          "name": "stdout",
          "text": [
            "['b', 'c']\n",
            "['a', 'b', 'c', 'd']\n",
            "['d', 'e', 'f']\n",
            "['a', 'b', 'c', 'd', 'e', 'f'] \n",
            "\n",
            "['a', 'x', 'y', 'd', 'e', 'f']\n",
            "['a', 'c', 'e']\n"
          ]
        }
      ]
    },
    {
      "cell_type": "markdown",
      "source": [
        "#List methods\n",
        "\n",
        "Python provides methods that operate on lists. For example, \n",
        "\n",
        "extend takes a list as an argument and appends all of the elements:\n",
        "\n",
        "This example leaves t2 unmodified.\n",
        "sort arranges the elements of the list from low to high:\n"
      ],
      "metadata": {
        "id": "h_rn8Te-3AP2"
      }
    },
    {
      "cell_type": "markdown",
      "source": [
        "##Add elements\n",
        "\n",
        "**insert** add a new element at the index of list.\n",
        "\n",
        "**append** adds a new element to the end of a list.\n",
        "\n",
        "**extend** append two list."
      ],
      "metadata": {
        "id": "rxnka2S7pKlZ"
      }
    },
    {
      "cell_type": "code",
      "source": [
        "t = ['a', 'b', 'c']\n",
        "t.insert(0, 'x')\n",
        "print(t,\"\\n\")\n",
        "\n",
        "#append\n",
        "t.append('d')\n",
        "print(t,\"\\n\")\n",
        "\n",
        "t1 = ['a', 'b', 'c']\n",
        "t2 = ['d', 'e']\n",
        "t1.extend(t2)\n",
        "print(t1)"
      ],
      "metadata": {
        "colab": {
          "base_uri": "https://localhost:8080/"
        },
        "id": "xOOFg51p3NyE",
        "outputId": "f75efbd9-61c4-4b27-9e30-1dd5161cadd8"
      },
      "execution_count": null,
      "outputs": [
        {
          "output_type": "stream",
          "name": "stdout",
          "text": [
            "['x', 'a', 'b', 'c', 'd'] \n",
            "\n",
            "['a', 'b', 'c', 'd', 'e']\n"
          ]
        }
      ]
    },
    {
      "cell_type": "markdown",
      "source": [
        "##Deleting elements\n",
        "\n",
        "There are several ways to delete elements from a list. If you know the index of the\n",
        "element you want, you can use pop:\n",
        "\n",
        "pop modifies the list and returns the element that was removed. If you don’t\n",
        "provide an index, it deletes and returns the last element\n",
        "\n"
      ],
      "metadata": {
        "id": "Jy5KghLr3rnF"
      }
    },
    {
      "cell_type": "code",
      "source": [
        "t = ['a', 'b', 'c']\n",
        "x = t.pop(1)\n",
        "print(t)\n"
      ],
      "metadata": {
        "colab": {
          "base_uri": "https://localhost:8080/"
        },
        "id": "fxYVuYDk4Jf7",
        "outputId": "d1ca7b02-294d-4ab9-86e8-5b8276c98283"
      },
      "execution_count": null,
      "outputs": [
        {
          "output_type": "stream",
          "name": "stdout",
          "text": [
            "['a', 'c']\n"
          ]
        }
      ]
    },
    {
      "cell_type": "markdown",
      "source": [
        "if you don’t need the removed value, you can use the del statement:\n",
        "\n",
        "If you know the element you want to remove (but not the index), you can use\n",
        "remove:"
      ],
      "metadata": {
        "id": "YbqVPfyd4cWh"
      }
    },
    {
      "cell_type": "code",
      "source": [
        "t = ['a', 'b', 'c']\n",
        "t.remove('b')\n",
        "print(t,\"\\n\")\n",
        "\n",
        "p = ['a', 'b', 'c', 'd', 'e', 'f']\n",
        "del p[1:3]\n",
        "print(p)"
      ],
      "metadata": {
        "colab": {
          "base_uri": "https://localhost:8080/"
        },
        "id": "hSRWvGaT4808",
        "outputId": "bcb4acf7-fd9b-402b-bb90-36bd3502f695"
      },
      "execution_count": null,
      "outputs": [
        {
          "output_type": "stream",
          "name": "stdout",
          "text": [
            "['a', 'c'] \n",
            "\n",
            "['a', 'd', 'e', 'f']\n"
          ]
        }
      ]
    },
    {
      "cell_type": "markdown",
      "source": [
        "## Find element\n",
        "\n",
        "**index** give the index of an element.\n",
        "\n",
        "**in** is element present in the list."
      ],
      "metadata": {
        "id": "O81EkHYZrMoY"
      }
    },
    {
      "cell_type": "code",
      "source": [
        "t = ['a', 'b', 'c']\n",
        "print(t.index('b'))\n",
        "\n",
        "print('x' in t)\n",
        "print('c' in t)"
      ],
      "metadata": {
        "colab": {
          "base_uri": "https://localhost:8080/"
        },
        "id": "esz_4_L_rRXV",
        "outputId": "30179020-66b2-47aa-91d6-11296bd4cf71"
      },
      "execution_count": null,
      "outputs": [
        {
          "output_type": "stream",
          "name": "stdout",
          "text": [
            "1\n",
            "False\n",
            "True\n"
          ]
        }
      ]
    },
    {
      "cell_type": "markdown",
      "source": [
        "##Comprehension\n",
        "\n",
        "List comprehension offers a shorter syntax when you want to create a new list based on the values of an existing list.\n",
        "\n",
        "**Example**:\n",
        "\n",
        "Based on a list of fruits, you want a new list, containing only the fruits with the letter \"a\" in the name.\n",
        "\n",
        "Without list comprehension you will have to write a for statement with a conditional test inside:"
      ],
      "metadata": {
        "id": "XBQVduhoveeN"
      }
    },
    {
      "cell_type": "code",
      "source": [
        "fruits = [\"apple\", \"banana\", \"cherry\", \"kiwi\", \"mango\"]\n",
        "newlist = []\n",
        "\n",
        "for x in fruits:\n",
        "  if \"a\" in x:\n",
        "    newlist.append(x)\n",
        "\n",
        "print(newlist)"
      ],
      "metadata": {
        "colab": {
          "base_uri": "https://localhost:8080/"
        },
        "id": "UXe5MP42vo4A",
        "outputId": "b294909f-77f2-4af4-9fa1-d23ab231cbcf"
      },
      "execution_count": null,
      "outputs": [
        {
          "output_type": "stream",
          "name": "stdout",
          "text": [
            "['apple', 'banana', 'mango']\n"
          ]
        }
      ]
    },
    {
      "cell_type": "markdown",
      "source": [
        "With list comprehension you can do all that with only one line of code:"
      ],
      "metadata": {
        "id": "zdaP1bnvv4o_"
      }
    },
    {
      "cell_type": "code",
      "source": [
        "fruits = [\"apple\", \"banana\", \"cherry\", \"kiwi\", \"mango\"]\n",
        "\n",
        "newlist = [x for x in fruits if \"a\" in x]\n",
        "\n",
        "print(newlist)"
      ],
      "metadata": {
        "id": "MI27dcd5v0RV"
      },
      "execution_count": null,
      "outputs": []
    },
    {
      "cell_type": "markdown",
      "source": [
        "newlist = [expression for item in iterable if condition == True]\n",
        "\n",
        "The return value is a new list, leaving the old list unchanged.:"
      ],
      "metadata": {
        "id": "piv3Pt0BwWJJ"
      }
    },
    {
      "cell_type": "code",
      "source": [],
      "metadata": {
        "id": "kjUy2pNnwJDs"
      },
      "execution_count": null,
      "outputs": []
    },
    {
      "cell_type": "markdown",
      "source": [
        "#Lists and functions\n",
        "\n",
        "There are a number of built-in functions that can be used on lists that allow you\n",
        "to quickly look through a list without writing your own loops:"
      ],
      "metadata": {
        "id": "DnEfSSJvIwzQ"
      }
    },
    {
      "cell_type": "code",
      "source": [
        "nums = [3, 41, 12, 9, 74, 15]\n",
        "print(len(nums))\n",
        "print(max(nums))\n",
        "print(min(nums))\n",
        "print(sum(nums))\n",
        "print(sum(nums)/len(nums))\n"
      ],
      "metadata": {
        "colab": {
          "base_uri": "https://localhost:8080/"
        },
        "id": "d_1WJ_uaJAN6",
        "outputId": "b47a75dc-7cb1-46ab-8ec1-939c4f4db654"
      },
      "execution_count": null,
      "outputs": [
        {
          "output_type": "stream",
          "name": "stdout",
          "text": [
            "6\n",
            "74\n",
            "3\n",
            "154\n",
            "25.666666666666668\n"
          ]
        }
      ]
    },
    {
      "cell_type": "markdown",
      "source": [
        "The sum() function only works when the list elements are numbers. The other\n",
        "functions (max(), len(), etc.) work with lists of strings and other types that can\n",
        "be comparable.\n",
        "We could rewrite an earlier program that computed the average of a list of numbers\n",
        "entered by the user using a list.\n",
        "First, the program to compute an average without a list:"
      ],
      "metadata": {
        "id": "BeQLh0PgJtKc"
      }
    },
    {
      "cell_type": "code",
      "source": [
        "total = 0\n",
        "count = 0\n",
        "while (True):\n",
        "    inp = input('Enter a number: ')\n",
        "    if inp == 'done': break\n",
        "    value = float(inp)\n",
        "    total = total + value\n",
        "    count = count + 1\n",
        "average = total / count\n",
        "print('Average:', average)\n"
      ],
      "metadata": {
        "colab": {
          "base_uri": "https://localhost:8080/",
          "height": 491
        },
        "id": "w3--dFcQJwFd",
        "outputId": "ebd8851e-9808-4c58-d4fb-ec0be2d4e8da"
      },
      "execution_count": null,
      "outputs": [
        {
          "name": "stdout",
          "output_type": "stream",
          "text": [
            "Enter a number: 88\n",
            "Enter a number: 33\n",
            "Enter a number: 33\n",
            "Enter a number: 22\n",
            "Enter a number: 11\n"
          ]
        },
        {
          "output_type": "error",
          "ename": "KeyboardInterrupt",
          "evalue": "ignored",
          "traceback": [
            "\u001b[0;31m---------------------------------------------------------------------------\u001b[0m",
            "\u001b[0;31mKeyboardInterrupt\u001b[0m                         Traceback (most recent call last)",
            "\u001b[0;32m<ipython-input-6-f7b8aaeca29e>\u001b[0m in \u001b[0;36m<module>\u001b[0;34m\u001b[0m\n\u001b[1;32m      2\u001b[0m \u001b[0mcount\u001b[0m \u001b[0;34m=\u001b[0m \u001b[0;36m0\u001b[0m\u001b[0;34m\u001b[0m\u001b[0;34m\u001b[0m\u001b[0m\n\u001b[1;32m      3\u001b[0m \u001b[0;32mwhile\u001b[0m \u001b[0;34m(\u001b[0m\u001b[0;32mTrue\u001b[0m\u001b[0;34m)\u001b[0m\u001b[0;34m:\u001b[0m\u001b[0;34m\u001b[0m\u001b[0;34m\u001b[0m\u001b[0m\n\u001b[0;32m----> 4\u001b[0;31m     \u001b[0minp\u001b[0m \u001b[0;34m=\u001b[0m \u001b[0minput\u001b[0m\u001b[0;34m(\u001b[0m\u001b[0;34m'Enter a number: '\u001b[0m\u001b[0;34m)\u001b[0m\u001b[0;34m\u001b[0m\u001b[0;34m\u001b[0m\u001b[0m\n\u001b[0m\u001b[1;32m      5\u001b[0m     \u001b[0;32mif\u001b[0m \u001b[0minp\u001b[0m \u001b[0;34m==\u001b[0m \u001b[0;34m'done'\u001b[0m\u001b[0;34m:\u001b[0m \u001b[0;32mbreak\u001b[0m\u001b[0;34m\u001b[0m\u001b[0;34m\u001b[0m\u001b[0m\n\u001b[1;32m      6\u001b[0m     \u001b[0mvalue\u001b[0m \u001b[0;34m=\u001b[0m \u001b[0mfloat\u001b[0m\u001b[0;34m(\u001b[0m\u001b[0minp\u001b[0m\u001b[0;34m)\u001b[0m\u001b[0;34m\u001b[0m\u001b[0;34m\u001b[0m\u001b[0m\n",
            "\u001b[0;32m/usr/local/lib/python3.7/dist-packages/ipykernel/kernelbase.py\u001b[0m in \u001b[0;36mraw_input\u001b[0;34m(self, prompt)\u001b[0m\n\u001b[1;32m    861\u001b[0m             \u001b[0mself\u001b[0m\u001b[0;34m.\u001b[0m\u001b[0m_parent_ident\u001b[0m\u001b[0;34m,\u001b[0m\u001b[0;34m\u001b[0m\u001b[0;34m\u001b[0m\u001b[0m\n\u001b[1;32m    862\u001b[0m             \u001b[0mself\u001b[0m\u001b[0;34m.\u001b[0m\u001b[0m_parent_header\u001b[0m\u001b[0;34m,\u001b[0m\u001b[0;34m\u001b[0m\u001b[0;34m\u001b[0m\u001b[0m\n\u001b[0;32m--> 863\u001b[0;31m             \u001b[0mpassword\u001b[0m\u001b[0;34m=\u001b[0m\u001b[0;32mFalse\u001b[0m\u001b[0;34m,\u001b[0m\u001b[0;34m\u001b[0m\u001b[0;34m\u001b[0m\u001b[0m\n\u001b[0m\u001b[1;32m    864\u001b[0m         )\n\u001b[1;32m    865\u001b[0m \u001b[0;34m\u001b[0m\u001b[0m\n",
            "\u001b[0;32m/usr/local/lib/python3.7/dist-packages/ipykernel/kernelbase.py\u001b[0m in \u001b[0;36m_input_request\u001b[0;34m(self, prompt, ident, parent, password)\u001b[0m\n\u001b[1;32m    902\u001b[0m             \u001b[0;32mexcept\u001b[0m \u001b[0mKeyboardInterrupt\u001b[0m\u001b[0;34m:\u001b[0m\u001b[0;34m\u001b[0m\u001b[0;34m\u001b[0m\u001b[0m\n\u001b[1;32m    903\u001b[0m                 \u001b[0;31m# re-raise KeyboardInterrupt, to truncate traceback\u001b[0m\u001b[0;34m\u001b[0m\u001b[0;34m\u001b[0m\u001b[0;34m\u001b[0m\u001b[0m\n\u001b[0;32m--> 904\u001b[0;31m                 \u001b[0;32mraise\u001b[0m \u001b[0mKeyboardInterrupt\u001b[0m\u001b[0;34m(\u001b[0m\u001b[0;34m\"Interrupted by user\"\u001b[0m\u001b[0;34m)\u001b[0m \u001b[0;32mfrom\u001b[0m \u001b[0;32mNone\u001b[0m\u001b[0;34m\u001b[0m\u001b[0;34m\u001b[0m\u001b[0m\n\u001b[0m\u001b[1;32m    905\u001b[0m             \u001b[0;32mexcept\u001b[0m \u001b[0mException\u001b[0m \u001b[0;32mas\u001b[0m \u001b[0me\u001b[0m\u001b[0;34m:\u001b[0m\u001b[0;34m\u001b[0m\u001b[0;34m\u001b[0m\u001b[0m\n\u001b[1;32m    906\u001b[0m                 \u001b[0mself\u001b[0m\u001b[0;34m.\u001b[0m\u001b[0mlog\u001b[0m\u001b[0;34m.\u001b[0m\u001b[0mwarning\u001b[0m\u001b[0;34m(\u001b[0m\u001b[0;34m\"Invalid Message:\"\u001b[0m\u001b[0;34m,\u001b[0m \u001b[0mexc_info\u001b[0m\u001b[0;34m=\u001b[0m\u001b[0;32mTrue\u001b[0m\u001b[0;34m)\u001b[0m\u001b[0;34m\u001b[0m\u001b[0;34m\u001b[0m\u001b[0m\n",
            "\u001b[0;31mKeyboardInterrupt\u001b[0m: Interrupted by user"
          ]
        }
      ]
    },
    {
      "cell_type": "markdown",
      "source": [
        "#Lists and strings\n",
        "\n",
        "A string is a sequence of characters and a list is a sequence of values, but a list\n",
        "of characters is not the same as a string. To convert from a string to a list of\n",
        "characters, you can use list:"
      ],
      "metadata": {
        "id": "1c_MO5UaHRNw"
      }
    },
    {
      "cell_type": "code",
      "source": [
        "s = 'spam'\n",
        "t = list(s)\n",
        "print(t)\n"
      ],
      "metadata": {
        "colab": {
          "base_uri": "https://localhost:8080/"
        },
        "id": "-f6GYCLhHqTj",
        "outputId": "5d5edb1b-0d68-4d1c-81ab-c32963969f11"
      },
      "execution_count": null,
      "outputs": [
        {
          "output_type": "stream",
          "name": "stdout",
          "text": [
            "['s', 'p', 'a', 'm']\n"
          ]
        }
      ]
    },
    {
      "cell_type": "markdown",
      "source": [
        "Because list is the name of a built-in function, you should avoid using it as\n",
        "a variable name. I also avoid the letter “l” because it looks too much like the\n",
        "number “1”. So that’s why I use “t”.\n",
        "The list function breaks a string into individual letters. If you want to break a\n",
        "string into words, you can use the split method"
      ],
      "metadata": {
        "id": "HgiiTIDCIBEx"
      }
    },
    {
      "cell_type": "code",
      "source": [
        "s = 'pining for the fjords'\n",
        "t = s.split()\n",
        "print(t,'\\n')\n",
        "print(t[2])"
      ],
      "metadata": {
        "colab": {
          "base_uri": "https://localhost:8080/"
        },
        "id": "eENcv4nFIGTH",
        "outputId": "55f54f9e-3fc2-4b98-83b6-979d06a73a3e"
      },
      "execution_count": null,
      "outputs": [
        {
          "output_type": "stream",
          "name": "stdout",
          "text": [
            "['pining', 'for', 'the', 'fjords'] \n",
            "\n",
            "the\n"
          ]
        }
      ]
    },
    {
      "cell_type": "markdown",
      "source": [
        "Once you have used split to break the string into a list of words, you can use the\n",
        "index operator (square bracket) to look at a particular word in the list.\n",
        "You can call split with an optional argument called a delimiter that specifies\n",
        "which characters to use as word boundaries. The following example uses a hyphen\n",
        "as a delimiter:"
      ],
      "metadata": {
        "id": "owC1FjkDIlAX"
      }
    },
    {
      "cell_type": "code",
      "source": [
        "s = 'spam-spam-spam'\n",
        "delimiter = '-'\n",
        "s.split(delimiter)"
      ],
      "metadata": {
        "colab": {
          "base_uri": "https://localhost:8080/"
        },
        "id": "1nF1aNvvImbU",
        "outputId": "f166eb25-01dc-46d2-8d17-35e9e8b11e22"
      },
      "execution_count": null,
      "outputs": [
        {
          "output_type": "execute_result",
          "data": {
            "text/plain": [
              "['spam', 'spam', 'spam']"
            ]
          },
          "metadata": {},
          "execution_count": 7
        }
      ]
    },
    {
      "cell_type": "markdown",
      "source": [
        "join is the inverse of split. It takes a list of strings and concatenates the elements.\n",
        "join is a string method, so you have to invoke it on the delimiter and pass the list\n",
        "as a parameter:"
      ],
      "metadata": {
        "id": "qww0157KJYVQ"
      }
    },
    {
      "cell_type": "code",
      "source": [
        "t = ['pining', 'for', 'the', 'fjords']\n",
        "delimiter = ' '\n",
        "delimiter.join(t)\n"
      ],
      "metadata": {
        "colab": {
          "base_uri": "https://localhost:8080/",
          "height": 36
        },
        "id": "OSikngxKJZJq",
        "outputId": "c22cb9bc-02fb-43a4-bf4b-1260b8f2146f"
      },
      "execution_count": null,
      "outputs": [
        {
          "output_type": "execute_result",
          "data": {
            "text/plain": [
              "'pining for the fjords'"
            ],
            "application/vnd.google.colaboratory.intrinsic+json": {
              "type": "string"
            }
          },
          "metadata": {},
          "execution_count": 8
        }
      ]
    },
    {
      "cell_type": "markdown",
      "source": [
        "#Parsing lines\n",
        "\n",
        "Usually when we are reading a file we want to do something to the lines other than\n",
        "just printing the whole line. Often we want to find the “interesting lines” and then\n",
        "parse the line to find some interesting part of the line. What if we wanted to print\n",
        "out the day of the week from those lines that start with “From”?\n",
        "\n",
        "From stephen.marquard@uct.ac.za Sat Jan 5 09:14:16 2008\n",
        "\n",
        "The split method is very effective when faced with this kind of problem. We can\n",
        "write a small program that looks for lines where the line starts with “From”, split\n",
        "those lines, and then print out the third word in the line:"
      ],
      "metadata": {
        "id": "CJbqMmGKJ5Vw"
      }
    },
    {
      "cell_type": "code",
      "source": [
        "fhand = open('/content/sample_data/mbox-short.txt')\n",
        "for line in fhand:\n",
        "    line = line.rstrip()\n",
        "    if not line.startswith('From '): continue\n",
        "    words = line.split()\n",
        "    print(words[2])\n"
      ],
      "metadata": {
        "id": "qiKSGUVFKN6O"
      },
      "execution_count": null,
      "outputs": []
    },
    {
      "cell_type": "markdown",
      "source": [
        "#Objects and values\n",
        "\n"
      ],
      "metadata": {
        "id": "k8_RRUDDfI45"
      }
    },
    {
      "cell_type": "code",
      "source": [
        "a = [1, 2, 3]\n",
        "b = [1, 2, 3]\n",
        "a is b"
      ],
      "metadata": {
        "colab": {
          "base_uri": "https://localhost:8080/"
        },
        "id": "gf9_ZcaWff_l",
        "outputId": "f0d7dd03-72c0-4af9-eed1-ef49f6259c0e"
      },
      "execution_count": null,
      "outputs": [
        {
          "output_type": "execute_result",
          "data": {
            "text/plain": [
              "False"
            ]
          },
          "metadata": {},
          "execution_count": 2
        }
      ]
    },
    {
      "cell_type": "markdown",
      "source": [
        "In this case we would say that the two lists are equivalent, because they have the\n",
        "same elements, but not identical, because they are not the same object. If two\n",
        "objects are identical, they are also equivalent, but if they are equivalent, they are\n",
        "not necessarily identical.\n",
        "\n",
        "\n",
        "Until now, we have been using “object” and “value” interchangeably, but it is more\n",
        "precise to say that an object has a value. If you execute a = [1,2,3], a refers to\n",
        "a list object whose value is a particular sequence of elements. If another list has\n",
        "the same elements, we would say it has the same value.\n"
      ],
      "metadata": {
        "id": "F1oAlCRsfqCP"
      }
    },
    {
      "cell_type": "markdown",
      "source": [
        "#Aliasing\n",
        "\n",
        "If a refers to an object and you assign b = a, then both variables refer to the same\n",
        "object:\n",
        "\n",
        "\n",
        "The association of a variable with an object is called a reference. In this example,\n",
        "there are two references to the same object.\n",
        "An object with more than one reference has more than one name, so we say that\n",
        "the object is aliased.\n",
        "If the aliased object is mutable, changes made with one alias affect the other\n",
        "\n"
      ],
      "metadata": {
        "id": "pKjFy_zmf5eL"
      }
    },
    {
      "cell_type": "code",
      "source": [
        "a = [1, 2, 3]\n",
        "b = a\n",
        "b is a"
      ],
      "metadata": {
        "colab": {
          "base_uri": "https://localhost:8080/"
        },
        "id": "DXF_Dd7wgFsK",
        "outputId": "1771afac-6eac-4e6d-c0ea-c68eae8b9bc3"
      },
      "execution_count": null,
      "outputs": [
        {
          "output_type": "execute_result",
          "data": {
            "text/plain": [
              "True"
            ]
          },
          "metadata": {},
          "execution_count": 16
        }
      ]
    },
    {
      "cell_type": "markdown",
      "source": [
        "#List arguments\n",
        "\n",
        "The parameter t and the variable letters are aliases for the same object.\n",
        "It is important to distinguish between operations that modify lists and operations\n",
        "that create new lists. For example, the append method modifies a list, but the +\n",
        "operator creates a new list:"
      ],
      "metadata": {
        "id": "KHciCnHuhP-o"
      }
    },
    {
      "cell_type": "code",
      "source": [
        "t1 = [1, 2]\n",
        "t2 = t1.append(3)\n",
        "print(t1)\n",
        "print(t2)\n",
        "\n",
        "t3 = t1 + [3]\n",
        "print(t3)\n",
        "t2 is t3\n",
        "\n"
      ],
      "metadata": {
        "colab": {
          "base_uri": "https://localhost:8080/"
        },
        "id": "kCOft-EChZD9",
        "outputId": "d4f27d32-2f43-43ac-d1e1-bdc541734800"
      },
      "execution_count": null,
      "outputs": [
        {
          "output_type": "stream",
          "name": "stdout",
          "text": [
            "[1, 2, 3]\n",
            "None\n",
            "[1, 2, 3, 3]\n"
          ]
        },
        {
          "output_type": "execute_result",
          "data": {
            "text/plain": [
              "False"
            ]
          },
          "metadata": {},
          "execution_count": 17
        }
      ]
    }
  ]
}