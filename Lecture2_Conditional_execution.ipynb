{
  "nbformat": 4,
  "nbformat_minor": 0,
  "metadata": {
    "colab": {
      "provenance": [],
      "collapsed_sections": [],
      "include_colab_link": true
    },
    "kernelspec": {
      "name": "python3",
      "display_name": "Python 3"
    },
    "language_info": {
      "name": "python"
    }
  },
  "cells": [
    {
      "cell_type": "markdown",
      "metadata": {
        "id": "view-in-github",
        "colab_type": "text"
      },
      "source": [
        "<a href=\"https://colab.research.google.com/github/PlacementGuide1/PythonCourse/blob/main/Lecture_2__Conditional_execution.ipynb\" target=\"_parent\"><img src=\"https://colab.research.google.com/assets/colab-badge.svg\" alt=\"Open In Colab\"/></a>"
      ]
    },
    {
      "cell_type": "markdown",
      "source": [
        ">[Boolean expressions](#scrollTo=KOeolhs8K3x_)\n",
        "\n",
        ">[Logical operators](#scrollTo=7JpSjdqcMJFU)\n",
        "\n",
        ">[Conditional execution](#scrollTo=Gu1qMkmVOGGM)\n",
        "\n",
        ">[Alternative execution](#scrollTo=qlt1lfknQs1r)\n",
        "\n",
        ">[Chained conditionals](#scrollTo=FxmTrINLRdp3)\n",
        "\n",
        ">[Nested conditionals](#scrollTo=xMWOgg5ESkBn)\n",
        "\n",
        ">[Catching exceptions using try and except](#scrollTo=cqnXfMZ6TEFa)\n",
        "\n",
        ">[Short-circuit evaluation of logical expressions](#scrollTo=K5TyWfdbU6cG)\n",
        "\n"
      ],
      "metadata": {
        "colab_type": "toc",
        "id": "YRVXKlc5b1Po"
      }
    },
    {
      "cell_type": "markdown",
      "source": [
        "#Boolean expressions\n",
        "A boolean expression is an expression that is either true or false. The following\n",
        "examples use the operator ==, which compares two operands and produces True if\n",
        "they are equal and False otherwise"
      ],
      "metadata": {
        "id": "KOeolhs8K3x_"
      }
    },
    {
      "cell_type": "code",
      "source": [
        "5==5"
      ],
      "metadata": {
        "colab": {
          "base_uri": "https://localhost:8080/"
        },
        "id": "0eFn9SoQLI2r",
        "outputId": "41cd066c-a352-4b5b-843f-1bdd1b5991e1"
      },
      "execution_count": null,
      "outputs": [
        {
          "output_type": "execute_result",
          "data": {
            "text/plain": [
              "True"
            ]
          },
          "metadata": {},
          "execution_count": 1
        }
      ]
    },
    {
      "cell_type": "code",
      "source": [
        " x = 5\n",
        " y = 5\n",
        "\n",
        " x is y"
      ],
      "metadata": {
        "id": "GWfaFlzILOsC",
        "colab": {
          "base_uri": "https://localhost:8080/"
        },
        "outputId": "e97ebb5d-30f5-439f-c56b-4df706ec2435"
      },
      "execution_count": null,
      "outputs": [
        {
          "output_type": "execute_result",
          "data": {
            "text/plain": [
              "True"
            ]
          },
          "metadata": {},
          "execution_count": 7
        }
      ]
    },
    {
      "cell_type": "markdown",
      "source": [
        "True and False are special values that belong to the class bool; they are not\n",
        "strings:\n"
      ],
      "metadata": {
        "id": "NNkS4-6MLY_p"
      }
    },
    {
      "cell_type": "code",
      "source": [
        "print(type(True))"
      ],
      "metadata": {
        "colab": {
          "base_uri": "https://localhost:8080/"
        },
        "id": "oouu8tYrLjdA",
        "outputId": "dfa24fb3-4caa-4d75-ee9c-95dc5f26b8ee"
      },
      "execution_count": null,
      "outputs": [
        {
          "output_type": "stream",
          "name": "stdout",
          "text": [
            "<class 'bool'>\n"
          ]
        }
      ]
    },
    {
      "cell_type": "markdown",
      "source": [
        "The == operator is one of the comparison operators; the others are:\n",
        "\n",
        "```\n",
        "x != y # x is not equal to y\n",
        "x > y # x is greater than y\n",
        "x < y # x is less than y\n",
        "x >= y # x is greater than or equal to y\n",
        "x <= y # x is less than or equal to y\n",
        "x is y # x is the same as y in data type also.\n",
        "x is not y # x is not the same as y\n",
        "```"
      ],
      "metadata": {
        "id": "9yUXPdZOLzR1"
      }
    },
    {
      "cell_type": "markdown",
      "source": [
        "#Logical operators\n",
        " There are three logical operators: and, or, and not. The semantics (meaning) of\n",
        "these operators is similar to their meaning in English. For example,\n",
        "\n",
        "x > y is false; that is, if x is less than or equal to y.\n",
        "Strictly speaking, the operands of the logical operators should be boolean expressions, but Python is not very strict. Any nonzero number is interpreted as “true.”\n"
      ],
      "metadata": {
        "id": "7JpSjdqcMJFU"
      }
    },
    {
      "cell_type": "markdown",
      "source": [
        "And opration:\n",
        "\n",
        "False and False = False\n",
        "\n",
        "True and False = False\n",
        "\n",
        "False and True = False\n",
        "\n",
        "True and True = True\n",
        "\n",
        "Or opration:\n",
        "\n",
        "False and False = False\n",
        "\n",
        "True and False = True\n",
        "\n",
        "False and True = True\n",
        "\n",
        "True and True = True\n",
        "\n",
        "**Not opration:**\n",
        "\n",
        "not True = False\n",
        "not False = True"
      ],
      "metadata": {
        "id": "s8IuzmEru4RJ"
      }
    },
    {
      "cell_type": "code",
      "source": [
        "#is true only if x is greater than 0 and less than 10.\n",
        "x = int(input(\"Please enter integer value \"))\n",
        "x > 0 and x < 10"
      ],
      "metadata": {
        "id": "ZTlrxL-FMaFi"
      },
      "execution_count": null,
      "outputs": []
    },
    {
      "cell_type": "code",
      "source": [
        "#is true if either of the conditions is true, that is, if the number is divisible by 2 or 3.\n",
        "n = int(input(\"Please enter integer value \"))\n",
        "n%2 == 0 or n%3 == 0"
      ],
      "metadata": {
        "id": "oR1vPxIOMlx4",
        "colab": {
          "base_uri": "https://localhost:8080/"
        },
        "outputId": "6c474090-bccb-44ae-f8ed-9ac40802ef20"
      },
      "execution_count": null,
      "outputs": [
        {
          "name": "stdout",
          "output_type": "stream",
          "text": [
            "Please enter integer value 11\n"
          ]
        },
        {
          "output_type": "execute_result",
          "data": {
            "text/plain": [
              "False"
            ]
          },
          "metadata": {},
          "execution_count": 11
        }
      ]
    },
    {
      "cell_type": "code",
      "source": [
        "#Finally, the not operator negates a boolean expression, so not (x > y) is true if\n",
        "x = int(input(\"Please enter int value of x \"))\n",
        "y = int(input(\"Please enter int value of y \"))\n",
        "not (x > y)"
      ],
      "metadata": {
        "id": "bcWu_IXvNSXa"
      },
      "execution_count": null,
      "outputs": []
    },
    {
      "cell_type": "markdown",
      "source": [
        "#Conditional execution\n",
        "\n",
        "In order to write useful programs, we almost always need the ability to check conditions and change the behavior of the program accordingly. Conditional statements\n",
        "give us this ability. The simplest form is the if statement:"
      ],
      "metadata": {
        "id": "Gu1qMkmVOGGM"
      }
    },
    {
      "cell_type": "code",
      "source": [
        "x = int(input(\"Please enter int value x \"))\n",
        "\n",
        "if x > 0 :\n",
        "  print('x is positive')"
      ],
      "metadata": {
        "colab": {
          "base_uri": "https://localhost:8080/"
        },
        "id": "4TFjxRH6OOON",
        "outputId": "996da6c3-21b4-4a7a-b580-8190979f2c87"
      },
      "execution_count": null,
      "outputs": [
        {
          "output_type": "stream",
          "name": "stdout",
          "text": [
            "Please enter int value x 0\n",
            "xyz\n"
          ]
        }
      ]
    },
    {
      "cell_type": "markdown",
      "source": [
        "**Note**: The boolean expression after the if statement is called the condition. We end the\n",
        "if statement with a colon character (:) and the line(s) after the if statement are\n",
        "indented.\n"
      ],
      "metadata": {
        "id": "00JCD0RhPVHy"
      }
    },
    {
      "cell_type": "code",
      "source": [
        "# If we dont have anything to execute inside if condition we can usee pass key word\n",
        "if x < 0 :\n",
        "  pass "
      ],
      "metadata": {
        "id": "C2acPFXiPaBZ"
      },
      "execution_count": null,
      "outputs": []
    },
    {
      "cell_type": "markdown",
      "source": [
        "#Alternative execution\n",
        "A second form of the if statement is alternative execution, in which there are two\n",
        "possibilities and the condition determines which one gets executed. The syntax\n",
        "looks like this:\n"
      ],
      "metadata": {
        "id": "qlt1lfknQs1r"
      }
    },
    {
      "cell_type": "code",
      "source": [
        "x = int(input(\"Enter number x \"))\n",
        "if x%2 == 0 :\n",
        "  print('x is even')\n",
        "else :\n",
        "  print('x is odd')"
      ],
      "metadata": {
        "colab": {
          "base_uri": "https://localhost:8080/"
        },
        "id": "NaP-o04qQ8Hh",
        "outputId": "5879a6ba-6b51-4bfa-9f3b-8b8a47db44ab"
      },
      "execution_count": null,
      "outputs": [
        {
          "output_type": "stream",
          "name": "stdout",
          "text": [
            "Enter number x 2\n",
            "x is even\n"
          ]
        }
      ]
    },
    {
      "cell_type": "markdown",
      "source": [
        "**Note**: Since the condition must either be true or false, exactly one of the alternatives will\n",
        "be executed. The alternatives are called branches, because they are branches in\n",
        "the flow of execution."
      ],
      "metadata": {
        "id": "6V42EYp-RTv8"
      }
    },
    {
      "cell_type": "markdown",
      "source": [
        "#Chained conditionals\n",
        "\n",
        "Sometimes there are more than two possibilities and we need more than two\n",
        "branches. One way to express a computation like that is a chained conditional:"
      ],
      "metadata": {
        "id": "FxmTrINLRdp3"
      }
    },
    {
      "cell_type": "code",
      "source": [
        "x = int(input(\"Please enter value of x \"))\n",
        "y = int(input(\"Please enter value of y \"))\n",
        "\n",
        "\n",
        "if x < y:\n",
        "  print('x is less than y')\n",
        "elif x > y:\n",
        "  print('x is greater than y')\n",
        "elif x == 3:\n",
        "  print('x is 3')\n",
        "else:\n",
        "  print('x and y are equal')\n",
        "\n",
        "'''\n",
        "if x < y:\n",
        "  print('x is less than y')\n",
        "if x > y:\n",
        "  print('x is greater than y')\n",
        "if x == 3:\n",
        "  print('x is 3')\n",
        "else:\n",
        "  print('x and y are equal')\n",
        "'''"
      ],
      "metadata": {
        "id": "OW_GXMCTRnip",
        "colab": {
          "base_uri": "https://localhost:8080/"
        },
        "outputId": "86872d71-9155-49c9-defc-62c6d5485e03"
      },
      "execution_count": null,
      "outputs": [
        {
          "output_type": "stream",
          "name": "stdout",
          "text": [
            "Please enter value of x 3\n",
            "Please enter value of y 4\n",
            "x is less than y\n",
            "x is 3\n"
          ]
        }
      ]
    },
    {
      "cell_type": "markdown",
      "source": [
        "**elif** is an abbreviation of **“else if.”** \n",
        "\n",
        "Again, exactly one branch will be executed.\n",
        "\n",
        "1. There is no limit on the number of elif statements. If there is an else clause, it\n",
        "has to be at the end, but there doesn’t have to be one.\n",
        "\n",
        "\n",
        "2. Each condition is checked in order. If the first is false, the next is checked, and so\n",
        "on. If one of them is true, the corresponding branch executes, and the statement\n",
        "ends. Even if more than one condition is true, only the first true branch executes."
      ],
      "metadata": {
        "id": "uL1y4kmlSEBd"
      }
    },
    {
      "cell_type": "markdown",
      "source": [
        "#Nested conditionals\n",
        "\n",
        "One conditional can also be nested within another. We could have written the\n",
        "three-branch example like this:"
      ],
      "metadata": {
        "id": "xMWOgg5ESkBn"
      }
    },
    {
      "cell_type": "code",
      "source": [
        "if x == y:\n",
        "  print('x and y are equal')\n",
        "else:\n",
        "  if x < y:\n",
        "    print('x is less than y')\n",
        "  else:\n",
        "    print('x is greater than y')"
      ],
      "metadata": {
        "id": "1NmZV98ySva1"
      },
      "execution_count": null,
      "outputs": []
    },
    {
      "cell_type": "markdown",
      "source": [
        "#Catching exceptions using try and except\n",
        "\n"
      ],
      "metadata": {
        "id": "cqnXfMZ6TEFa"
      }
    },
    {
      "cell_type": "code",
      "source": [
        "inp = input('Enter Fahrenheit Temperature: ')\n",
        "fahr = float(inp)\n",
        "cel = (fahr - 32.0) * 5.0 / 9.0\n",
        "print(cel)"
      ],
      "metadata": {
        "colab": {
          "base_uri": "https://localhost:8080/",
          "height": 235
        },
        "id": "6OhaaLZzTuOp",
        "outputId": "5b6a83a0-ea66-4acb-bd1f-5240eedcf19b"
      },
      "execution_count": null,
      "outputs": [
        {
          "name": "stdout",
          "output_type": "stream",
          "text": [
            "Enter Fahrenheit Temperature: Divanshu\n"
          ]
        },
        {
          "output_type": "error",
          "ename": "ValueError",
          "evalue": "ignored",
          "traceback": [
            "\u001b[0;31m---------------------------------------------------------------------------\u001b[0m",
            "\u001b[0;31mValueError\u001b[0m                                Traceback (most recent call last)",
            "\u001b[0;32m<ipython-input-11-80d6b30e784e>\u001b[0m in \u001b[0;36m<module>\u001b[0;34m\u001b[0m\n\u001b[1;32m      1\u001b[0m \u001b[0minp\u001b[0m \u001b[0;34m=\u001b[0m \u001b[0minput\u001b[0m\u001b[0;34m(\u001b[0m\u001b[0;34m'Enter Fahrenheit Temperature: '\u001b[0m\u001b[0;34m)\u001b[0m\u001b[0;34m\u001b[0m\u001b[0;34m\u001b[0m\u001b[0m\n\u001b[0;32m----> 2\u001b[0;31m \u001b[0mfahr\u001b[0m \u001b[0;34m=\u001b[0m \u001b[0mfloat\u001b[0m\u001b[0;34m(\u001b[0m\u001b[0minp\u001b[0m\u001b[0;34m)\u001b[0m\u001b[0;34m\u001b[0m\u001b[0;34m\u001b[0m\u001b[0m\n\u001b[0m\u001b[1;32m      3\u001b[0m \u001b[0mcel\u001b[0m \u001b[0;34m=\u001b[0m \u001b[0;34m(\u001b[0m\u001b[0mfahr\u001b[0m \u001b[0;34m-\u001b[0m \u001b[0;36m32.0\u001b[0m\u001b[0;34m)\u001b[0m \u001b[0;34m*\u001b[0m \u001b[0;36m5.0\u001b[0m \u001b[0;34m/\u001b[0m \u001b[0;36m9.0\u001b[0m\u001b[0;34m\u001b[0m\u001b[0;34m\u001b[0m\u001b[0m\n\u001b[1;32m      4\u001b[0m \u001b[0mprint\u001b[0m\u001b[0;34m(\u001b[0m\u001b[0mcel\u001b[0m\u001b[0;34m)\u001b[0m\u001b[0;34m\u001b[0m\u001b[0;34m\u001b[0m\u001b[0m\n",
            "\u001b[0;31mValueError\u001b[0m: could not convert string to float: 'Divanshu'"
          ]
        }
      ]
    },
    {
      "cell_type": "markdown",
      "source": [
        "There is a conditional execution structure built into Python to handle these types\n",
        "of expected and unexpected errors called **“try / except”**. The idea of try and\n",
        "except is that you know that some sequence of instruction(s) may have a problem\n",
        "and you want to add some statements to be executed if an error occurs. These\n",
        "extra statements (the except block) are ignored if there is no error.\n",
        "You can think of the try and except feature in Python as an **“insurance policy”**\n",
        "on a sequence of statements.\n",
        "We can rewrite our temperature converter as follows:"
      ],
      "metadata": {
        "id": "32-casJJUDDO"
      }
    },
    {
      "cell_type": "code",
      "source": [
        "inp = input('Enter Fahrenheit Temperature:')\n",
        "try:\n",
        "  fahr = float(inp)\n",
        "  cel = (fahr - 32.0) * 5.0 / 9.0\n",
        "  print(cel)\n",
        "except:\n",
        "  print('Please enter a number')\n"
      ],
      "metadata": {
        "colab": {
          "base_uri": "https://localhost:8080/"
        },
        "id": "mCET9rP8UW7A",
        "outputId": "d92fefa8-a1cc-42aa-8d03-2561c76edb15"
      },
      "execution_count": null,
      "outputs": [
        {
          "output_type": "stream",
          "name": "stdout",
          "text": [
            "Enter Fahrenheit Temperature:98\n",
            "36.666666666666664\n"
          ]
        }
      ]
    },
    {
      "cell_type": "markdown",
      "source": [
        "**Note:** Python starts by executing the sequence of statements in the try block. If all goes\n",
        "well, it skips the except block and proceeds. If an exception occurs in the try\n",
        "block, Python jumps out of the try block and executes the sequence of statements\n",
        "in the except block."
      ],
      "metadata": {
        "id": "tkqrFKlkUt8M"
      }
    },
    {
      "cell_type": "markdown",
      "source": [
        "#Short-circuit evaluation of logical expressions\n",
        "\n",
        "When Python is processing a logical expression such as **x >= 2 and (x/y) > 2**, it\n",
        "evaluates the expression from left to right. Because of the definition of and, if x is\n",
        "less than 2, the expression x >= 2 is False and so the whole expression is False\n",
        "regardless of whether (x/y) > 2 evaluates to True or False.\n",
        "When Python detects that there is nothing to be gained by evaluating the rest\n",
        "of a logical expression, it stops its evaluation and does not do the computations\n",
        "in the rest of the logical expression. When the evaluation of a logical expression\n",
        "stops because the overall value is already known, it is called short-circuiting the\n",
        "evaluation.\n",
        "While this may seem like a fine point, the short-circuit behavior leads to a clever\n",
        "technique called the guardian pattern. Consider the following code sequence in the python interpreter."
      ],
      "metadata": {
        "id": "K5TyWfdbU6cG"
      }
    },
    {
      "cell_type": "code",
      "source": [
        "x = int(input(\"x\"))\n",
        "x >= 2 and {print(\"i am executed\")}"
      ],
      "metadata": {
        "colab": {
          "base_uri": "https://localhost:8080/"
        },
        "id": "nFt0fbm4V-9i",
        "outputId": "d9f74e19-5e4c-4655-fa89-c42b5a1ffc28"
      },
      "execution_count": null,
      "outputs": [
        {
          "output_type": "stream",
          "name": "stdout",
          "text": [
            "x2\n",
            "i am executed\n",
            "{None}\n"
          ]
        }
      ]
    },
    {
      "cell_type": "code",
      "source": [
        "x = 1\n",
        "y = 0\n",
        "x >= 2 and (x/y) > 2"
      ],
      "metadata": {
        "colab": {
          "base_uri": "https://localhost:8080/"
        },
        "id": "QW9HBHHMWujg",
        "outputId": "13986f65-aede-4361-c9a3-5a58afa1353c"
      },
      "execution_count": null,
      "outputs": [
        {
          "output_type": "execute_result",
          "data": {
            "text/plain": [
              "False"
            ]
          },
          "metadata": {},
          "execution_count": 24
        }
      ]
    },
    {
      "cell_type": "code",
      "source": [
        "x = 6\n",
        "y = 0\n",
        "x >= 2 and (x/y) > 2"
      ],
      "metadata": {
        "colab": {
          "base_uri": "https://localhost:8080/",
          "height": 201
        },
        "id": "3UPOju1NWalZ",
        "outputId": "5012319f-c8d2-4875-df17-ef99af8b90fa"
      },
      "execution_count": null,
      "outputs": [
        {
          "output_type": "error",
          "ename": "ZeroDivisionError",
          "evalue": "ignored",
          "traceback": [
            "\u001b[0;31m---------------------------------------------------------------------------\u001b[0m",
            "\u001b[0;31mZeroDivisionError\u001b[0m                         Traceback (most recent call last)",
            "\u001b[0;32m<ipython-input-23-43a82c4c87c1>\u001b[0m in \u001b[0;36m<module>\u001b[0;34m\u001b[0m\n\u001b[1;32m      1\u001b[0m \u001b[0mx\u001b[0m \u001b[0;34m=\u001b[0m \u001b[0;36m6\u001b[0m\u001b[0;34m\u001b[0m\u001b[0;34m\u001b[0m\u001b[0m\n\u001b[1;32m      2\u001b[0m \u001b[0my\u001b[0m \u001b[0;34m=\u001b[0m \u001b[0;36m0\u001b[0m\u001b[0;34m\u001b[0m\u001b[0;34m\u001b[0m\u001b[0m\n\u001b[0;32m----> 3\u001b[0;31m \u001b[0mx\u001b[0m \u001b[0;34m>=\u001b[0m \u001b[0;36m2\u001b[0m \u001b[0;32mand\u001b[0m \u001b[0;34m(\u001b[0m\u001b[0mx\u001b[0m\u001b[0;34m/\u001b[0m\u001b[0my\u001b[0m\u001b[0;34m)\u001b[0m \u001b[0;34m>\u001b[0m \u001b[0;36m2\u001b[0m\u001b[0;34m\u001b[0m\u001b[0;34m\u001b[0m\u001b[0m\n\u001b[0m",
            "\u001b[0;31mZeroDivisionError\u001b[0m: division by zero"
          ]
        }
      ]
    },
    {
      "cell_type": "markdown",
      "source": [
        "**Note**\n",
        "The third calculation failed because Python was evaluating (x/y) and y was zero,\n",
        "which causes a runtime error. But the first and the second examples did not fail\n",
        "because in the first calculation y was non zero and in the second one the first part\n",
        "of these expressions x >= 2 evaluated to False so the (x/y) was not ever executed\n",
        "due to the short-circuit rule and there was no error.\n",
        "We can construct the logical expression to strategically place a guard evaluation\n",
        "just before the evaluation that might cause an error as follows:"
      ],
      "metadata": {
        "id": "yfg3OuncXFep"
      }
    }
  ]
}
