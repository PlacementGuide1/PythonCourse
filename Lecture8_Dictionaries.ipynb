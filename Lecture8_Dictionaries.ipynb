{
  "nbformat": 4,
  "nbformat_minor": 0,
  "metadata": {
    "colab": {
      "provenance": [],
      "collapsed_sections": [],
      "include_colab_link": true
    },
    "kernelspec": {
      "name": "python3",
      "display_name": "Python 3"
    },
    "language_info": {
      "name": "python"
    }
  },
  "cells": [
    {
      "cell_type": "markdown",
      "metadata": {
        "id": "view-in-github",
        "colab_type": "text"
      },
      "source": [
        "<a href=\"https://colab.research.google.com/github/PlacementGuide1/PythonCourse/blob/main/Lecture8_Dictionaries.ipynb\" target=\"_parent\"><img src=\"https://colab.research.google.com/assets/colab-badge.svg\" alt=\"Open In Colab\"/></a>"
      ]
    },
    {
      "cell_type": "markdown",
      "source": [
        ">[Dictionaries](#scrollTo=fMwjKt68Fr-_)\n",
        "\n",
        ">[Accessing Items](#scrollTo=KLCEcYoY1Ei6)\n",
        "\n",
        ">>[Get Keys](#scrollTo=pIfuuAax18ii)\n",
        "\n",
        ">>[Get Items](#scrollTo=l2bX8Q6Gfo1p)\n",
        "\n",
        ">>[Check if Key Exists](#scrollTo=Af66Mr5ngYWe)\n",
        "\n",
        ">[Add or Change Dictionary Items](#scrollTo=8-KnP1hQgpOh)\n",
        "\n",
        ">[Update Dictionary](#scrollTo=vKZBF1Jng4dm)\n",
        "\n",
        ">[Removing Items](#scrollTo=o69wZzQohlG1)\n",
        "\n",
        ">>[pop](#scrollTo=xSof8hMchv2G)\n",
        "\n",
        ">>[popitem](#scrollTo=b--xL7PRh3bn)\n",
        "\n",
        ">>[del](#scrollTo=RCtlb0ISiCnS)\n",
        "\n",
        ">>[clear](#scrollTo=hcSCkI6TiaRH)\n",
        "\n",
        ">[Looping and Dictionaries](#scrollTo=jv13jVCORdDT)\n",
        "\n",
        ">[Copy a Dictionary](#scrollTo=PTviP5XYj09v)\n",
        "\n",
        ">>[Dictionary as a set of counters](#scrollTo=8HDM4uz3981k)\n",
        "\n",
        ">[Dictionaries and files](#scrollTo=SB_mFZBpCJNR)\n",
        "\n",
        ">[Advanced text parsing](#scrollTo=LcCKu8_oH86j)\n",
        "\n",
        ">[Debugging](#scrollTo=nUTv247pNCUE)\n",
        "\n"
      ],
      "metadata": {
        "colab_type": "toc",
        "id": "fDvc6XzTQ5YI"
      }
    },
    {
      "cell_type": "markdown",
      "source": [
        "#Dictionaries\n",
        "A dictionary is like a list, but more general. In a list, the index positions have to\n",
        "be integers; in a dictionary, the indices can be (almost) any type.\n",
        "\n"
      ],
      "metadata": {
        "id": "fMwjKt68Fr-_"
      }
    },
    {
      "cell_type": "code",
      "source": [
        "thisdict = {\n",
        "  \"brand\": \"Ford\",\n",
        "  \"model\": \"Mustang\",\n",
        "  \"year\": 1964\n",
        "}"
      ],
      "metadata": {
        "id": "cQTnRQsnF3U2"
      },
      "execution_count": null,
      "outputs": []
    },
    {
      "cell_type": "markdown",
      "source": [
        "The len function works on dictionaries; it returns the number of key-value pairs:"
      ],
      "metadata": {
        "id": "VU3VDHJ19U3y"
      }
    },
    {
      "cell_type": "code",
      "source": [
        "len(thisdict)"
      ],
      "metadata": {
        "id": "aE4lkLfQ9kyZ",
        "outputId": "017a0fb9-2ff7-40e2-e2d8-62312e6306de",
        "colab": {
          "base_uri": "https://localhost:8080/"
        }
      },
      "execution_count": null,
      "outputs": [
        {
          "output_type": "execute_result",
          "data": {
            "text/plain": [
              "3"
            ]
          },
          "metadata": {},
          "execution_count": 4
        }
      ]
    },
    {
      "cell_type": "markdown",
      "source": [
        "A dictionary is a collection which is ordered*, changeable and do not allow duplicates."
      ],
      "metadata": {
        "id": "IGGly0t2zzx4"
      }
    },
    {
      "cell_type": "code",
      "source": [
        "thisdict = {\n",
        "  \"brand\": \"Ford\",\n",
        "  \"model\": \"Mustang\",\n",
        "  \"year\": 1964,\n",
        "  \"year\": 2021\n",
        "}\n",
        "print(thisdict)"
      ],
      "metadata": {
        "colab": {
          "base_uri": "https://localhost:8080/"
        },
        "id": "vSmmLwlB0TkR",
        "outputId": "d1fd999f-fa0e-4b7e-b4b1-4c6dccc134b5"
      },
      "execution_count": null,
      "outputs": [
        {
          "output_type": "stream",
          "name": "stdout",
          "text": [
            "{'brand': 'Ford', 'model': 'Mustang', 'year': 2021}\n"
          ]
        }
      ]
    },
    {
      "cell_type": "markdown",
      "source": [
        "#Accessing Items\n",
        "\n",
        "You can access the items of a dictionary by referring to its key name, inside square brackets:\n",
        "\n",
        "**Example**\n",
        "\n",
        "Get the value of the \"model\" key:"
      ],
      "metadata": {
        "id": "KLCEcYoY1Ei6"
      }
    },
    {
      "cell_type": "code",
      "source": [
        "thisdict = {\n",
        "  \"brand\": \"Ford\",\n",
        "  \"model\": \"Mustang\",\n",
        "  \"year\": 1964\n",
        "}\n",
        "x = thisdict[\"model\"]\n",
        "print(x)"
      ],
      "metadata": {
        "colab": {
          "base_uri": "https://localhost:8080/"
        },
        "id": "nncTyCz41Xa1",
        "outputId": "0bfba413-3074-4a0a-994b-d1e6eaceab36"
      },
      "execution_count": null,
      "outputs": [
        {
          "output_type": "stream",
          "name": "stdout",
          "text": [
            "Mustang\n"
          ]
        }
      ]
    },
    {
      "cell_type": "markdown",
      "source": [
        "There is also a method called get() that will give you the same result:\n",
        "\n",
        "**Example**\n",
        "\n",
        "Get the value of the \"model\" key:"
      ],
      "metadata": {
        "id": "iPHSmyzU1tIk"
      }
    },
    {
      "cell_type": "code",
      "source": [
        "x = thisdict.get(\"model\")"
      ],
      "metadata": {
        "id": "DZRZzPh91qUM"
      },
      "execution_count": null,
      "outputs": []
    },
    {
      "cell_type": "markdown",
      "source": [
        "##Get Keys\n",
        "\n",
        "The keys() method will return a list of all the keys in the dictionary.\n",
        "\n",
        "**Example**\n",
        "Get a list of the keys:"
      ],
      "metadata": {
        "id": "pIfuuAax18ii"
      }
    },
    {
      "cell_type": "code",
      "source": [
        "x = thisdict.keys()"
      ],
      "metadata": {
        "id": "dMgwPzU32HnW"
      },
      "execution_count": null,
      "outputs": []
    },
    {
      "cell_type": "markdown",
      "source": [
        "##Get Items\n",
        "\n",
        "The items() method will return each item in a dictionary, as tuples in a list.\n",
        "\n",
        "x = thisdict.items()\n",
        "\n",
        "The returned list is a view of the items of the dictionary, meaning that any changes done to the dictionary will be reflected in the items list."
      ],
      "metadata": {
        "id": "l2bX8Q6Gfo1p"
      }
    },
    {
      "cell_type": "code",
      "source": [
        "car = {\n",
        "\"brand\": \"Ford\",\n",
        "\"model\": \"Mustang\",\n",
        "\"year\": 1964\n",
        "}\n",
        "\n",
        "x = car.items()\n",
        "\n",
        "print(x) #before the change\n",
        "\n",
        "car[\"year\"] = 2020\n",
        "\n",
        "print(x) #after the change"
      ],
      "metadata": {
        "colab": {
          "base_uri": "https://localhost:8080/"
        },
        "id": "RwspLxBXgAAL",
        "outputId": "e25ba13c-1835-4a05-b8e2-356b167fa477"
      },
      "execution_count": null,
      "outputs": [
        {
          "output_type": "stream",
          "name": "stdout",
          "text": [
            "dict_items([('brand', 'Ford'), ('model', 'Mustang'), ('year', 1964)])\n",
            "dict_items([('brand', 'Ford'), ('model', 'Mustang'), ('year', 2020)])\n"
          ]
        }
      ]
    },
    {
      "cell_type": "markdown",
      "source": [
        "Add a new item to the original dictionary, and see that the items list gets updated as well:\n"
      ],
      "metadata": {
        "id": "LAhCNawSgN8l"
      }
    },
    {
      "cell_type": "code",
      "source": [
        "car = {\n",
        "\"brand\": \"Ford\",\n",
        "\"model\": \"Mustang\",\n",
        "\"year\": 1964\n",
        "}\n",
        "\n",
        "x = car.items()\n",
        "\n",
        "print(x) #before the change\n",
        "\n",
        "car[\"color\"] = \"red\"\n",
        "\n",
        "print(x) #after the change"
      ],
      "metadata": {
        "id": "Ub0cbs3vgQPT"
      },
      "execution_count": null,
      "outputs": []
    },
    {
      "cell_type": "markdown",
      "source": [
        "##Check if Key Exists\n",
        "To determine if a specified key is present in a dictionary use the in keyword:"
      ],
      "metadata": {
        "id": "Af66Mr5ngYWe"
      }
    },
    {
      "cell_type": "code",
      "source": [
        "thisdict = {\n",
        "  \"brand\": \"Ford\",\n",
        "  \"model\": \"Mustang\",\n",
        "  \"year\": 1964\n",
        "}\n",
        "if \"model\" in thisdict:\n",
        "  print(\"Yes, 'model' is one of the keys in the thisdict dictionary\")"
      ],
      "metadata": {
        "id": "kKWsZ631gdMu"
      },
      "execution_count": null,
      "outputs": []
    },
    {
      "cell_type": "markdown",
      "source": [
        "#Add or Change Dictionary Items\n",
        "\n",
        "You can change the value of a specific item by referring to its key name:"
      ],
      "metadata": {
        "id": "8-KnP1hQgpOh"
      }
    },
    {
      "cell_type": "code",
      "source": [
        "thisdict = {\n",
        "  \"brand\": \"Ford\",\n",
        "  \"model\": \"Mustang\"\n",
        "}\n",
        "thisdict[\"year\"] = 2018\n",
        "\n",
        "print(thisdict)"
      ],
      "metadata": {
        "colab": {
          "base_uri": "https://localhost:8080/"
        },
        "id": "7vlJzao5gzKZ",
        "outputId": "94ea54b4-62bf-4aeb-fa3e-f06ad0a537b8"
      },
      "execution_count": null,
      "outputs": [
        {
          "output_type": "stream",
          "name": "stdout",
          "text": [
            "{'brand': 'Ford', 'model': 'Mustang', 'year': 2018}\n"
          ]
        }
      ]
    },
    {
      "cell_type": "code",
      "source": [
        "thisdict = {\n",
        "  \"brand\": \"Ford\",\n",
        "  \"model\": \"Mustang\",\n",
        "  \"year\": 1964\n",
        "}\n",
        "thisdict[\"year\"] = 2022\n",
        "\n",
        "print(thisdict)"
      ],
      "metadata": {
        "colab": {
          "base_uri": "https://localhost:8080/"
        },
        "id": "UpXE0ubGhJ5n",
        "outputId": "b5a2ae8e-3a7c-45c3-9b49-c1b903ee6df9"
      },
      "execution_count": null,
      "outputs": [
        {
          "output_type": "stream",
          "name": "stdout",
          "text": [
            "{'brand': 'Ford', 'model': 'Mustang', 'year': 2022}\n"
          ]
        }
      ]
    },
    {
      "cell_type": "markdown",
      "source": [
        "#Update Dictionary\n",
        "\n",
        "The update() method will update the dictionary with the items from the given argument.\n",
        "\n",
        "The argument must be a dictionary, or an iterable object with key:value pairs."
      ],
      "metadata": {
        "id": "vKZBF1Jng4dm"
      }
    },
    {
      "cell_type": "code",
      "source": [
        "thisdict = {\n",
        "  \"brand\": \"Ford\",\n",
        "  \"model\": \"Mustang\",\n",
        "  \"year\": 1964\n",
        "}\n",
        "thisdict.update({\"year\": 2020})"
      ],
      "metadata": {
        "id": "zV1XQcuMg_cK"
      },
      "execution_count": null,
      "outputs": []
    },
    {
      "cell_type": "markdown",
      "source": [
        "#Removing Items\n",
        "\n",
        "There are several methods to remove items from a dictionary:"
      ],
      "metadata": {
        "id": "o69wZzQohlG1"
      }
    },
    {
      "cell_type": "markdown",
      "source": [
        "##pop"
      ],
      "metadata": {
        "id": "xSof8hMchv2G"
      }
    },
    {
      "cell_type": "code",
      "source": [
        "thisdict = {\n",
        "  \"brand\": \"Ford\",\n",
        "  \"model\": \"Mustang\",\n",
        "  \"year\": 1964\n",
        "}\n",
        "thisdict.pop(\"model\")\n",
        "print(thisdict)"
      ],
      "metadata": {
        "id": "2Twrowi7hqXj"
      },
      "execution_count": null,
      "outputs": []
    },
    {
      "cell_type": "markdown",
      "source": [
        "##popitem\n",
        "\n",
        "The popitem() method removes the last inserted item (in versions before 3.7, a random item is removed instead):"
      ],
      "metadata": {
        "id": "b--xL7PRh3bn"
      }
    },
    {
      "cell_type": "code",
      "source": [
        "thisdict = {\n",
        "  \"brand\": \"Ford\",\n",
        "  \"model\": \"Mustang\",\n",
        "  \"year\": 1964\n",
        "}\n",
        "thisdict.popitem()\n",
        "print(thisdict)"
      ],
      "metadata": {
        "id": "YYR2CytTh8nA"
      },
      "execution_count": null,
      "outputs": []
    },
    {
      "cell_type": "markdown",
      "source": [
        "##del\n",
        "\n",
        "The del keyword removes the item with the specified key name:"
      ],
      "metadata": {
        "id": "RCtlb0ISiCnS"
      }
    },
    {
      "cell_type": "code",
      "source": [
        "thisdict = {\n",
        "  \"brand\": \"Ford\",\n",
        "  \"model\": \"Mustang\",\n",
        "  \"year\": 1964\n",
        "}\n",
        "del thisdict[\"model\"]\n",
        "print(thisdict)"
      ],
      "metadata": {
        "id": "1gvlFJaqiJtk"
      },
      "execution_count": null,
      "outputs": []
    },
    {
      "cell_type": "markdown",
      "source": [
        "The del keyword can also delete the dictionary completely:"
      ],
      "metadata": {
        "id": "1DbCfA4WiRQ5"
      }
    },
    {
      "cell_type": "code",
      "source": [
        "thisdict = {\n",
        "  \"brand\": \"Ford\",\n",
        "  \"model\": \"Mustang\",\n",
        "  \"year\": 1964\n",
        "}\n",
        "del thisdict\n",
        "print(thisdict) #this will cause an error because \"thisdict\" no longer exists."
      ],
      "metadata": {
        "id": "3LFHtCrmiVj2"
      },
      "execution_count": null,
      "outputs": []
    },
    {
      "cell_type": "markdown",
      "source": [
        "##clear\n",
        "\n"
      ],
      "metadata": {
        "id": "hcSCkI6TiaRH"
      }
    },
    {
      "cell_type": "code",
      "source": [
        "thisdict = {\n",
        "  \"brand\": \"Ford\",\n",
        "  \"model\": \"Mustang\",\n",
        "  \"year\": 1964\n",
        "}\n",
        "thisdict.clear()\n",
        "print(thisdict)"
      ],
      "metadata": {
        "id": "YvhTEzhLjpfK"
      },
      "execution_count": null,
      "outputs": []
    },
    {
      "cell_type": "markdown",
      "source": [
        "#Looping and Dictionaries\n",
        "\n",
        "You can loop through a dictionary by using a for loop.\n",
        "\n",
        "When looping through a dictionary, the return value are the keys of the dictionary, but there are methods to return the values as well.\n",
        "\n",
        "**Example**\n",
        "\n",
        "Print all key names in the dictionary, one by one:\n"
      ],
      "metadata": {
        "id": "jv13jVCORdDT"
      }
    },
    {
      "cell_type": "code",
      "source": [
        "for x in thisdict:\n",
        "  print(x)"
      ],
      "metadata": {
        "id": "F8qGI49Nj-QB"
      },
      "execution_count": null,
      "outputs": []
    },
    {
      "cell_type": "markdown",
      "source": [
        "Print all values in the dictionary, one by one:"
      ],
      "metadata": {
        "id": "oJ2GSdxOkL07"
      }
    },
    {
      "cell_type": "code",
      "source": [
        "for x in thisdict:\n",
        "  print(thisdict[x])"
      ],
      "metadata": {
        "id": "oENoYks7kOzg"
      },
      "execution_count": null,
      "outputs": []
    },
    {
      "cell_type": "code",
      "source": [
        "#You can also use the values() method to return values of a dictionary:\n",
        "\n",
        "for x in thisdict.values():\n",
        "  print(x)"
      ],
      "metadata": {
        "id": "7pMs57EykTK7"
      },
      "execution_count": null,
      "outputs": []
    },
    {
      "cell_type": "markdown",
      "source": [
        "Loop through both keys and values, by using the items() method:"
      ],
      "metadata": {
        "id": "x1FdDjQykcti"
      }
    },
    {
      "cell_type": "code",
      "source": [
        "for x, y in thisdict.items():\n",
        "  print(x, y)"
      ],
      "metadata": {
        "id": "K3j71Nabkgcy"
      },
      "execution_count": null,
      "outputs": []
    },
    {
      "cell_type": "markdown",
      "source": [
        "If you use a dictionary as the sequence in a for statement, it traverses the keys of\n",
        "the dictionary. This loop prints each key and the corresponding value:"
      ],
      "metadata": {
        "id": "POwFA7oGGrw0"
      }
    },
    {
      "cell_type": "code",
      "source": [
        "counts = { 'chuck' : 1 , 'annie' : 42, 'jan': 100}\n",
        "for key in counts:\n",
        "    print(key, counts[key])"
      ],
      "metadata": {
        "colab": {
          "base_uri": "https://localhost:8080/"
        },
        "id": "tvXmLsHLG36c",
        "outputId": "a200d2c6-763a-423f-dee8-03b4d18bd9f3"
      },
      "execution_count": null,
      "outputs": [
        {
          "output_type": "stream",
          "name": "stdout",
          "text": [
            "chuck 1\n",
            "annie 42\n",
            "jan 100\n"
          ]
        }
      ]
    },
    {
      "cell_type": "code",
      "source": [
        "counts = { 'chuck' : 1 , 'annie' : 42, 'jan': 100}\n",
        "for key in counts:\n",
        "   if counts[key] > 10 :\n",
        "       print(key, counts[key])"
      ],
      "metadata": {
        "id": "Gk03Il7tHSPC"
      },
      "execution_count": null,
      "outputs": []
    },
    {
      "cell_type": "markdown",
      "source": [
        "If you want to print the keys in alphabetical order, you first make a list of the keys\n",
        "in the dictionary using the keys method available in dictionary objects, and then\n",
        "sort that list and loop through the sorted list, looking up each key and printing\n",
        "out key-value pairs in sorted order as follows:"
      ],
      "metadata": {
        "id": "WXM5xpHkHqGm"
      }
    },
    {
      "cell_type": "code",
      "source": [
        "counts = { 'chuck' : 1 , 'annie' : 42, 'jan': 100}\n",
        "lst = list(counts.keys())\n",
        "print(lst)\n",
        "lst.sort()\n",
        "for key in lst:\n",
        "    print(key, counts[key])"
      ],
      "metadata": {
        "id": "oaQ63ZxTHt42"
      },
      "execution_count": null,
      "outputs": []
    },
    {
      "cell_type": "markdown",
      "source": [
        "#Copy a Dictionary\n",
        "\n",
        "You cannot copy a dictionary simply by typing dict2 = dict1, because: dict2 will only be a reference to dict1, and changes made in dict1 will automatically also be made in dict2.\n",
        "\n",
        "There are ways to make a copy, one way is to use the built-in Dictionary method copy()."
      ],
      "metadata": {
        "id": "PTviP5XYj09v"
      }
    },
    {
      "cell_type": "code",
      "source": [
        "thisdict = {\n",
        "  \"brand\": \"Ford\",\n",
        "  \"model\": \"Mustang\",\n",
        "  \"year\": 1964\n",
        "}\n",
        "mydict = thisdict.copy()\n",
        "print(mydict)"
      ],
      "metadata": {
        "id": "S80L-O2zoQxc",
        "colab": {
          "base_uri": "https://localhost:8080/"
        },
        "outputId": "37b674ee-c85a-454c-a94e-1ec146f2169a"
      },
      "execution_count": null,
      "outputs": [
        {
          "output_type": "stream",
          "name": "stdout",
          "text": [
            "{'brand': 'Ford', 'model': 'Mustang', 'year': 1964}\n"
          ]
        }
      ]
    },
    {
      "cell_type": "markdown",
      "source": [
        "Another way to make a copy is to use the built-in function dict()."
      ],
      "metadata": {
        "id": "b_g0T5GGoYXL"
      }
    },
    {
      "cell_type": "code",
      "source": [
        "thisdict = {\n",
        "  \"brand\": \"Ford\",\n",
        "  \"model\": \"Mustang\",\n",
        "  \"year\": 1964\n",
        "}\n",
        "mydict = dict(thisdict)\n",
        "print(mydict)"
      ],
      "metadata": {
        "id": "KimTH-nhob_9",
        "colab": {
          "base_uri": "https://localhost:8080/"
        },
        "outputId": "ddf30c3a-ddd6-4fe6-a65e-bb2e4160dff5"
      },
      "execution_count": null,
      "outputs": [
        {
          "output_type": "stream",
          "name": "stdout",
          "text": [
            "{'brand': 'Ford', 'model': 'Mustang', 'year': 1964}\n"
          ]
        }
      ]
    },
    {
      "cell_type": "markdown",
      "source": [
        "##Dictionary as a set of counters"
      ],
      "metadata": {
        "id": "8HDM4uz3981k"
      }
    },
    {
      "cell_type": "markdown",
      "source": [
        "Suppose you are given a string and you want to count how many times each letter\n",
        "appears. There are several ways you could do it:"
      ],
      "metadata": {
        "id": "tjgapwWs-P_t"
      }
    },
    {
      "cell_type": "markdown",
      "source": [
        "1. You could create 26 variables, one for each letter of the alphabet. Then you\n",
        "could traverse the string and, for each character, increment the corresponding\n",
        "counter, probably using a chained conditional.\n",
        "2. You could create a list with 26 elements. Then you could convert each\n",
        "character to a number (using the built-in function ord), use the number as\n",
        "an index into the list, and increment the appropriate counter.\n",
        "3. You could create a dictionary with characters as keys and counters as the\n",
        "corresponding values. The first time you see a character, you would add\n",
        "an item to the dictionary. After that you would increment the value of an\n",
        "existing item."
      ],
      "metadata": {
        "id": "2tMDG9Xy-kUV"
      }
    },
    {
      "cell_type": "markdown",
      "source": [
        "An implementation is a way of performing a computation; some implementations\n",
        "\n",
        "are better than others.\n"
      ],
      "metadata": {
        "id": "3GodsUDR_maw"
      }
    },
    {
      "cell_type": "code",
      "source": [
        "word = 'brontosaurus'\n",
        "d = dict()\n",
        "for c in word:\n",
        "    if c not in d:\n",
        "       d[c] = 1\n",
        "    else:\n",
        "        d[c] = d[c] + 1\n",
        "print(d)"
      ],
      "metadata": {
        "id": "KWr4LwQX_xM7"
      },
      "execution_count": null,
      "outputs": []
    },
    {
      "cell_type": "markdown",
      "source": [
        "Dictionaries have a method called get that takes a key and a default value. If the\n",
        "key appears in the dictionary, get returns the corresponding value; otherwise it\n",
        "returns the default value."
      ],
      "metadata": {
        "id": "cuSm2_AXAbg6"
      }
    },
    {
      "cell_type": "code",
      "source": [
        "counts = { 'chuck' : 1 , 'annie' : 42, 'jan': 100}\n",
        "print(counts.get('jan', 0))"
      ],
      "metadata": {
        "id": "HqgWAKAgAhjl"
      },
      "execution_count": null,
      "outputs": []
    },
    {
      "cell_type": "code",
      "source": [
        "print(counts.get('tim', 0))"
      ],
      "metadata": {
        "id": "hgz0FxvLAsNL"
      },
      "execution_count": null,
      "outputs": []
    },
    {
      "cell_type": "markdown",
      "source": [
        "The get method automatically handles the case where a key is not in a dictionary."
      ],
      "metadata": {
        "id": "nriTrr69BtQY"
      }
    },
    {
      "cell_type": "code",
      "source": [
        "word = 'brontosaurus'\n",
        "d = dict()\n",
        "for c in word:\n",
        "    d[c] = d.get(c,0) + 1\n",
        "print(d)"
      ],
      "metadata": {
        "id": "1FAVqjgIB3WY"
      },
      "execution_count": null,
      "outputs": []
    },
    {
      "cell_type": "markdown",
      "source": [
        "#Dictionaries and files"
      ],
      "metadata": {
        "id": "SB_mFZBpCJNR"
      }
    },
    {
      "cell_type": "markdown",
      "source": [
        "One of the common uses of a dictionary is to count the occurrence of words in a\n",
        "file with some written text."
      ],
      "metadata": {
        "id": "LLFTSH5YCYOv"
      }
    },
    {
      "cell_type": "code",
      "source": [
        "fname = input('Enter the file name: ')\n",
        "try:\n",
        "    fhand = open(fname)\n",
        "except:\n",
        "    print('File cannot be opened:', fname)\n",
        "    exit()\n",
        "counts = dict()\n",
        "for line in fhand:\n",
        "    words = line.split()\n",
        "    for word in words:\n",
        "        if word not in counts:\n",
        "           counts[word] = 1\n",
        "        else:\n",
        "             counts[word] += 1\n",
        "\n",
        "print(counts)"
      ],
      "metadata": {
        "id": "aM17I39BETOD"
      },
      "execution_count": null,
      "outputs": []
    },
    {
      "cell_type": "markdown",
      "source": [
        "#Advanced text parsing"
      ],
      "metadata": {
        "id": "LcCKu8_oH86j"
      }
    },
    {
      "cell_type": "markdown",
      "source": [
        "Python split function looks for spaces and treats words as tokens sep-\n",
        "arated by spaces."
      ],
      "metadata": {
        "id": "6IOALxPuJQKX"
      }
    },
    {
      "cell_type": "code",
      "source": [
        "import string\n",
        "fname = input('Enter the file name: ')\n",
        "try:\n",
        "    fhand = open(fname)\n",
        "except:\n",
        "    print('File cannot be opened:', fname)\n",
        "    exit()\n",
        "counts = dict()\n",
        "\n",
        "for line in fhand:\n",
        "  line = line.rstrip()\n",
        "  line = line.translate(line.maketrans('', '', string.punctuation))\n",
        "  line = line.lower()\n",
        "  words = line.split()\n",
        "  for word in words:\n",
        "    if word not in counts:\n",
        "        counts[word] = 1\n",
        "    else:\n",
        "        counts[word] += 1\n",
        "\n",
        "print(counts)\n"
      ],
      "metadata": {
        "id": "H6LyR-sjJkoH"
      },
      "execution_count": null,
      "outputs": []
    },
    {
      "cell_type": "markdown",
      "source": [
        "#Debugging\n",
        "As you work with bigger datasets it can become unwieldy to debug by printing and\n",
        "checking data by hand.\n",
        "\n",
        "**Scale down the input**   If possible, reduce the size of the dataset.For example if the program reads a text file, start with just the first 10 lines, or with the smallest example you can find.\n",
        "\n",
        "**Check summaries and types** Instead of printing and checking the entire\n",
        "dataset, consider printing summaries of the data: for example, the number\n",
        "of items in a dictionary or the total of a list of numbers.\n",
        "\n",
        "**Write self-checks**  Sometimes you can write code to check for errors automati-\n",
        "cally.\n",
        "\n",
        "**Pretty print the output**  Formatting debugging output can make it easier to\n",
        "spot an error."
      ],
      "metadata": {
        "id": "nUTv247pNCUE"
      }
    }
  ]
}