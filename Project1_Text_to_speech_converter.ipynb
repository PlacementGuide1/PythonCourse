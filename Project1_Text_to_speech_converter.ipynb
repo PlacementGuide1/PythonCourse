{
  "nbformat": 4,
  "nbformat_minor": 0,
  "metadata": {
    "colab": {
      "provenance": [],
      "include_colab_link": true
    },
    "kernelspec": {
      "name": "python3",
      "display_name": "Python 3"
    },
    "language_info": {
      "name": "python"
    }
  },
  "cells": [
    {
      "cell_type": "markdown",
      "metadata": {
        "id": "view-in-github",
        "colab_type": "text"
      },
      "source": [
        "<a href=\"https://colab.research.google.com/github/PlacementGuide1/PythonCourse/blob/main/Project1_Text_to_speech_converter.ipynb\" target=\"_parent\"><img src=\"https://colab.research.google.com/assets/colab-badge.svg\" alt=\"Open In Colab\"/></a>"
      ]
    },
    {
      "cell_type": "markdown",
      "source": [
        "Python is an incredibly strong and flexible language used for multi-purpose programming. There are a lot of things possible using Python one of them is Text to Speech conversion.\n",
        "\n",
        "In this tutorial, we will go through the conversion of text to speech using Python and Google's Text-To-Speech service. Google Cloud Text-to-Speech converts text into human-like speech in more than 100 voices across 20+ languages and variants."
      ],
      "metadata": {
        "id": "EduMM5k_tGzm"
      }
    },
    {
      "cell_type": "code",
      "source": [
        "!pip install pyttsx3"
      ],
      "metadata": {
        "id": "pzDGrr7vvb_i",
        "colab": {
          "base_uri": "https://localhost:8080/"
        },
        "outputId": "1fc78ac6-f93c-480c-b8f5-77d5fd47c2f0"
      },
      "execution_count": null,
      "outputs": [
        {
          "output_type": "stream",
          "name": "stdout",
          "text": [
            "Looking in indexes: https://pypi.org/simple, https://us-python.pkg.dev/colab-wheels/public/simple/\n",
            "Requirement already satisfied: pyttsx3 in /usr/local/lib/python3.7/dist-packages (2.90)\n"
          ]
        }
      ]
    },
    {
      "cell_type": "code",
      "source": [
        "from tkinter import *\n",
        "from tkinter.ttk import Combobox\n",
        "import pyttsx3\n",
        "\n",
        "# Initializing Window\n",
        "root = Tk()\n",
        "root.title(\"Placement Guide Text to Speech converter\")\n",
        "root.geometry(\"1000x580+200+80\")\n",
        "root.resizable(True, True)\n",
        "root.configure(bg = '#F7AC40')\n",
        "\n",
        "tts = pyttsx3.init()\n",
        "def speacknow() :\n",
        "    text = text_box.get(1.0, END)\n",
        "    gender = gender_box.get()\n",
        "    speed = speed_box.get()\n",
        "    voices = tts.getProperty('voices')\n",
        "\n",
        "    def setvoice():\n",
        "        if(gender == 'Male'):\n",
        "            tts.setProperty('voice', voices[0].id)\n",
        "        else:\n",
        "            tts.setProperty('voice', voices[1].id)\n",
        "\n",
        "    if(text):\n",
        "        if(speed == 'Fast'):\n",
        "            tts.setProperty('rate', 250)\n",
        "            setvoice()\n",
        "        elif(speed == 'Normal'):\n",
        "            tts.setProperty('rate', 120)\n",
        "            setvoice()\n",
        "        else:\n",
        "            tts.setProperty('rate', 60)\n",
        "            setvoice()\n",
        "    tts.say(text)\n",
        "    tts.runAndWait()\n",
        "\n",
        "text_box = Text(root, font=\"Calibri 20\", bg='white', relief = GROOVE, wrap=WORD, bd=0)\n",
        "text_box.place(relx=.03, rely=0.150, relwidth=0.940, relheight=0.180)\n",
        "\n",
        "gender_box = Combobox(root, values =['Male', 'Female'], font = 'Robote 12', state = 'r', width = 12)\n",
        "gender_box.place(relx=0.300, rely=0.400, relwidth=0.12)\n",
        "gender_box.set('Male')\n",
        "\n",
        "speed_box = Combobox(root, values=['Fast', 'Normal', 'Slow'], font = 'Robote 12', state='r', width= 12)\n",
        "speed_box.place(relx=0.570, rely=0.400, relwidth=0.12)\n",
        "speed_box.set('Normal')\n",
        "\n",
        "Label(root, text = \"Select Voice\", font = 'TimesNewRoman 15 bold', bg = '#F7AC40').place(relx= 0.300, rely=0.370, height=15)\n",
        "Label(root, text = \"Select Gender\", font = 'TimesNewRoman 15 bold', bg = '#F7AC40').place(relx= 0.570, rely=0.370, height=15)\n",
        "\n",
        "play_btn = Button(root, text='Play', compound=CENTER, bg='white', width=130, font='arial 14 bold', borderwidth='0.1c', command=speacknow)\n",
        "play_btn.place(relx=0.450, rely=0.450, relwidth=0.100)\n",
        "\n",
        "root.mainloop()"
      ],
      "metadata": {
        "colab": {
          "base_uri": "https://localhost:8080/",
          "height": 496
        },
        "id": "CcM-vlg4uwab",
        "outputId": "5c5d36a5-1312-4d43-c066-729dc191ba28"
      },
      "execution_count": null,
      "outputs": [
        {
          "output_type": "stream",
          "name": "stdout",
          "text": [
            "Reading package lists... Done\n",
            "Building dependency tree       \n",
            "Reading state information... Done\n",
            "xvfb is already the newest version (2:1.19.6-1ubuntu4.11).\n",
            "The following package was automatically installed and is no longer required:\n",
            "  libnvidia-common-460\n",
            "Use 'apt autoremove' to remove it.\n",
            "0 upgraded, 0 newly installed, 0 to remove and 12 not upgraded.\n"
          ]
        },
        {
          "output_type": "error",
          "ename": "TclError",
          "evalue": "ignored",
          "traceback": [
            "\u001b[0;31m---------------------------------------------------------------------------\u001b[0m",
            "\u001b[0;31mTclError\u001b[0m                                  Traceback (most recent call last)",
            "\u001b[0;32m<ipython-input-13-7c14bef791cd>\u001b[0m in \u001b[0;36m<module>\u001b[0;34m\u001b[0m\n\u001b[1;32m     10\u001b[0m \u001b[0;34m\u001b[0m\u001b[0m\n\u001b[1;32m     11\u001b[0m \u001b[0;31m# Initializing Window\u001b[0m\u001b[0;34m\u001b[0m\u001b[0;34m\u001b[0m\u001b[0;34m\u001b[0m\u001b[0m\n\u001b[0;32m---> 12\u001b[0;31m \u001b[0mroot\u001b[0m \u001b[0;34m=\u001b[0m \u001b[0mTk\u001b[0m\u001b[0;34m(\u001b[0m\u001b[0;34m)\u001b[0m\u001b[0;34m\u001b[0m\u001b[0;34m\u001b[0m\u001b[0m\n\u001b[0m\u001b[1;32m     13\u001b[0m \u001b[0mroot\u001b[0m\u001b[0;34m.\u001b[0m\u001b[0mtitle\u001b[0m\u001b[0;34m(\u001b[0m\u001b[0;34m\"Placement Guide Text to Speech converter\"\u001b[0m\u001b[0;34m)\u001b[0m\u001b[0;34m\u001b[0m\u001b[0;34m\u001b[0m\u001b[0m\n\u001b[1;32m     14\u001b[0m \u001b[0mroot\u001b[0m\u001b[0;34m.\u001b[0m\u001b[0mgeometry\u001b[0m\u001b[0;34m(\u001b[0m\u001b[0;34m\"1000x580+200+80\"\u001b[0m\u001b[0;34m)\u001b[0m\u001b[0;34m\u001b[0m\u001b[0;34m\u001b[0m\u001b[0m\n",
            "\u001b[0;32m/usr/lib/python3.7/tkinter/__init__.py\u001b[0m in \u001b[0;36m__init__\u001b[0;34m(self, screenName, baseName, className, useTk, sync, use)\u001b[0m\n\u001b[1;32m   2021\u001b[0m                 \u001b[0mbaseName\u001b[0m \u001b[0;34m=\u001b[0m \u001b[0mbaseName\u001b[0m \u001b[0;34m+\u001b[0m \u001b[0mext\u001b[0m\u001b[0;34m\u001b[0m\u001b[0;34m\u001b[0m\u001b[0m\n\u001b[1;32m   2022\u001b[0m         \u001b[0minteractive\u001b[0m \u001b[0;34m=\u001b[0m \u001b[0;36m0\u001b[0m\u001b[0;34m\u001b[0m\u001b[0;34m\u001b[0m\u001b[0m\n\u001b[0;32m-> 2023\u001b[0;31m         \u001b[0mself\u001b[0m\u001b[0;34m.\u001b[0m\u001b[0mtk\u001b[0m \u001b[0;34m=\u001b[0m \u001b[0m_tkinter\u001b[0m\u001b[0;34m.\u001b[0m\u001b[0mcreate\u001b[0m\u001b[0;34m(\u001b[0m\u001b[0mscreenName\u001b[0m\u001b[0;34m,\u001b[0m \u001b[0mbaseName\u001b[0m\u001b[0;34m,\u001b[0m \u001b[0mclassName\u001b[0m\u001b[0;34m,\u001b[0m \u001b[0minteractive\u001b[0m\u001b[0;34m,\u001b[0m \u001b[0mwantobjects\u001b[0m\u001b[0;34m,\u001b[0m \u001b[0museTk\u001b[0m\u001b[0;34m,\u001b[0m \u001b[0msync\u001b[0m\u001b[0;34m,\u001b[0m \u001b[0muse\u001b[0m\u001b[0;34m)\u001b[0m\u001b[0;34m\u001b[0m\u001b[0;34m\u001b[0m\u001b[0m\n\u001b[0m\u001b[1;32m   2024\u001b[0m         \u001b[0;32mif\u001b[0m \u001b[0museTk\u001b[0m\u001b[0;34m:\u001b[0m\u001b[0;34m\u001b[0m\u001b[0;34m\u001b[0m\u001b[0m\n\u001b[1;32m   2025\u001b[0m             \u001b[0mself\u001b[0m\u001b[0;34m.\u001b[0m\u001b[0m_loadtk\u001b[0m\u001b[0;34m(\u001b[0m\u001b[0;34m)\u001b[0m\u001b[0;34m\u001b[0m\u001b[0;34m\u001b[0m\u001b[0m\n",
            "\u001b[0;31mTclError\u001b[0m: couldn't connect to display \":1.0\""
          ]
        }
      ]
    },
    {
      "cell_type": "markdown",
      "source": [],
      "metadata": {
        "id": "yAhv8HYJuwBK"
      }
    }
  ]
}