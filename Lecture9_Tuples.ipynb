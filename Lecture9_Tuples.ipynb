{
  "nbformat": 4,
  "nbformat_minor": 0,
  "metadata": {
    "colab": {
      "provenance": [],
      "collapsed_sections": [],
      "include_colab_link": true
    },
    "kernelspec": {
      "name": "python3",
      "display_name": "Python 3"
    },
    "language_info": {
      "name": "python"
    }
  },
  "cells": [
    {
      "cell_type": "markdown",
      "metadata": {
        "id": "view-in-github",
        "colab_type": "text"
      },
      "source": [
        "<a href=\"https://colab.research.google.com/github/PlacementGuide1/PythonCourse/blob/main/Lecture9_Tuples.ipynb\" target=\"_parent\"><img src=\"https://colab.research.google.com/assets/colab-badge.svg\" alt=\"Open In Colab\"/></a>"
      ]
    },
    {
      "cell_type": "markdown",
      "source": [
        ">[Tuples are immutable](#updateTitle=true&folderId=173nvvHT3ObZZA5lIWN0KcIuPurKqeDcJ&scrollTo=YSPeFVHproAX)\n",
        "\n",
        ">[Comparing tuples](#updateTitle=true&folderId=173nvvHT3ObZZA5lIWN0KcIuPurKqeDcJ&scrollTo=K-alnfquzARA)\n",
        "\n",
        ">[Tuple assignment](#updateTitle=true&folderId=173nvvHT3ObZZA5lIWN0KcIuPurKqeDcJ&scrollTo=jYbmsgt0uaiH)\n",
        "\n",
        ">[Multiple assignment with dictionaries](#updateTitle=true&folderId=173nvvHT3ObZZA5lIWN0KcIuPurKqeDcJ&scrollTo=VdmFK52bE9Ut)\n",
        "\n",
        ">[The most common words](#updateTitle=true&folderId=173nvvHT3ObZZA5lIWN0KcIuPurKqeDcJ&scrollTo=UFMkfzbwJwWR)\n",
        "\n",
        ">>[Sort the dictionary by value](#updateTitle=true&folderId=173nvvHT3ObZZA5lIWN0KcIuPurKqeDcJ&scrollTo=I-cliwXS7owH)\n",
        "\n",
        ">[Using tuples as keys in dictionaries](#updateTitle=true&folderId=173nvvHT3ObZZA5lIWN0KcIuPurKqeDcJ&scrollTo=gNqcCveKKmta)\n",
        "\n",
        ">[Sequences: strings, lists, and tuples - Oh My!](#updateTitle=true&folderId=173nvvHT3ObZZA5lIWN0KcIuPurKqeDcJ&scrollTo=OcEoETyxNDGX)\n",
        "\n",
        ">[List comprehension](#updateTitle=true&folderId=173nvvHT3ObZZA5lIWN0KcIuPurKqeDcJ&scrollTo=8hPPrwCRcvhi)\n",
        "\n"
      ],
      "metadata": {
        "colab_type": "toc",
        "id": "5gZWU0LHgfGQ"
      }
    },
    {
      "cell_type": "markdown",
      "source": [
        "#Tuples are immutable\n",
        "\n",
        "A tuple\n",
        "is a sequence of values much like a list. The values stored in a tuple can\n",
        "be any type, and they are indexed by integers. The important difference is that\n",
        "tuples are immutable. Tuples are also comparable and hashable so we can sort lists\n",
        "of them and use tuples as key values in Python dictionaries.\n",
        "\n"
      ],
      "metadata": {
        "id": "YSPeFVHproAX"
      }
    },
    {
      "cell_type": "code",
      "source": [
        "#Syntactically, a tuple is a comma-separated list of values\n",
        "\n",
        "t = 'a', 'b', 'c', 'd', 'e'"
      ],
      "metadata": {
        "id": "R-rGFXCusEee"
      },
      "execution_count": null,
      "outputs": []
    },
    {
      "cell_type": "markdown",
      "source": [
        "Although it is not necessary, it is common to enclose tuples in parentheses to help\n",
        "us quickly identify tuples when we look at Python code:\n"
      ],
      "metadata": {
        "id": "Kf_D-K6vsgeH"
      }
    },
    {
      "cell_type": "code",
      "source": [
        "t = ('a', 'b', 'c', 'd', 'e')"
      ],
      "metadata": {
        "id": "CaKV0X0osj_F"
      },
      "execution_count": null,
      "outputs": []
    },
    {
      "cell_type": "markdown",
      "source": [
        "To create a tuple with a single element, you have to include the final comma:\n"
      ],
      "metadata": {
        "id": "L8VvvEpasrPC"
      }
    },
    {
      "cell_type": "code",
      "source": [
        "t1 = ('a',)\n",
        "type(t1)\n"
      ],
      "metadata": {
        "colab": {
          "base_uri": "https://localhost:8080/"
        },
        "id": "N_MzbQV0sxUf",
        "outputId": "3fcedc5d-057c-46f6-8229-0916468836ee"
      },
      "execution_count": null,
      "outputs": [
        {
          "output_type": "execute_result",
          "data": {
            "text/plain": [
              "tuple"
            ]
          },
          "metadata": {},
          "execution_count": 2
        }
      ]
    },
    {
      "cell_type": "markdown",
      "source": [
        "Without the comma Python treats ('a') as an expression with a string in parentheses that evaluates to a string:\n"
      ],
      "metadata": {
        "id": "RiRCnWWatEQ4"
      }
    },
    {
      "cell_type": "code",
      "source": [
        "t2 = ('a')\n",
        "type(t2)\n"
      ],
      "metadata": {
        "colab": {
          "base_uri": "https://localhost:8080/"
        },
        "id": "5j1h74yMtPXS",
        "outputId": "dbf8d36c-9c28-47fb-f249-460fd894ac22"
      },
      "execution_count": null,
      "outputs": [
        {
          "output_type": "execute_result",
          "data": {
            "text/plain": [
              "str"
            ]
          },
          "metadata": {},
          "execution_count": 3
        }
      ]
    },
    {
      "cell_type": "markdown",
      "source": [
        "Another way to construct a tuple is the built-in function tuple. With no argument,\n",
        "it creates an empty tuple:\n"
      ],
      "metadata": {
        "id": "vDOrksZDv6oN"
      }
    },
    {
      "cell_type": "code",
      "source": [
        "  = tuple()\n",
        " print(t)\n"
      ],
      "metadata": {
        "colab": {
          "base_uri": "https://localhost:8080/"
        },
        "id": "IlMQVlQgv9P9",
        "outputId": "066d2aa7-7c7e-45b1-8473-cf5fac99e904"
      },
      "execution_count": null,
      "outputs": [
        {
          "output_type": "stream",
          "name": "stdout",
          "text": [
            "()\n"
          ]
        }
      ]
    },
    {
      "cell_type": "markdown",
      "source": [
        "If the argument is a sequence (string, list, or tuple), the result of the call to tuple\n",
        "is a tuple with the elements of the sequence:\n"
      ],
      "metadata": {
        "id": "RFviQ66nxLPW"
      }
    },
    {
      "cell_type": "code",
      "source": [
        "t = tuple('lupins')\n",
        "print(t[0])\n",
        "\n"
      ],
      "metadata": {
        "colab": {
          "base_uri": "https://localhost:8080/"
        },
        "id": "KTwSGlicxMWj",
        "outputId": "35b8af2e-41ff-48d9-fa7b-0f1c1f1342e2"
      },
      "execution_count": null,
      "outputs": [
        {
          "output_type": "stream",
          "name": "stdout",
          "text": [
            "l\n"
          ]
        }
      ]
    },
    {
      "cell_type": "markdown",
      "source": [
        " The bracket operator indexes an element:\n",
        " "
      ],
      "metadata": {
        "id": "3_L1LjYgxhh2"
      }
    },
    {
      "cell_type": "code",
      "source": [
        "t = ('a', 'b', 'c', 'd', 'e')\n",
        "print(t[0])\n"
      ],
      "metadata": {
        "colab": {
          "base_uri": "https://localhost:8080/"
        },
        "id": "UHG5lfVzxpVY",
        "outputId": "464c05bd-a2b5-45d2-fc49-cf867137ff61"
      },
      "execution_count": null,
      "outputs": [
        {
          "output_type": "stream",
          "name": "stdout",
          "text": [
            "a\n"
          ]
        }
      ]
    },
    {
      "cell_type": "markdown",
      "source": [
        "And the slice operator selects a range of elements.\n"
      ],
      "metadata": {
        "id": "3uxiBrf_x5wj"
      }
    },
    {
      "cell_type": "code",
      "source": [
        "print(t[1:3])"
      ],
      "metadata": {
        "colab": {
          "base_uri": "https://localhost:8080/"
        },
        "id": "FQnNtiYGx-2B",
        "outputId": "cc9ee394-2670-4c98-acd7-75c54abe544a"
      },
      "execution_count": null,
      "outputs": [
        {
          "output_type": "stream",
          "name": "stdout",
          "text": [
            "('b', 'c')\n"
          ]
        }
      ]
    },
    {
      "cell_type": "markdown",
      "source": [
        "But if you try to modify one of the elements of the tuple, you get an error:\n"
      ],
      "metadata": {
        "id": "uYSoKlityVOk"
      }
    },
    {
      "cell_type": "code",
      "source": [
        "t[0] = 'A'\n"
      ],
      "metadata": {
        "colab": {
          "base_uri": "https://localhost:8080/",
          "height": 166
        },
        "id": "NX5xWLFZyWMn",
        "outputId": "82fe6dd5-9093-4879-a59b-337e1a24fbd0"
      },
      "execution_count": null,
      "outputs": [
        {
          "output_type": "error",
          "ename": "TypeError",
          "evalue": "ignored",
          "traceback": [
            "\u001b[0;31m---------------------------------------------------------------------------\u001b[0m",
            "\u001b[0;31mTypeError\u001b[0m                                 Traceback (most recent call last)",
            "\u001b[0;32m<ipython-input-26-7e674cdf20e6>\u001b[0m in \u001b[0;36m<module>\u001b[0;34m\u001b[0m\n\u001b[0;32m----> 1\u001b[0;31m \u001b[0mt\u001b[0m\u001b[0;34m[\u001b[0m\u001b[0;36m0\u001b[0m\u001b[0;34m]\u001b[0m \u001b[0;34m=\u001b[0m \u001b[0;34m'A'\u001b[0m\u001b[0;34m\u001b[0m\u001b[0;34m\u001b[0m\u001b[0m\n\u001b[0m",
            "\u001b[0;31mTypeError\u001b[0m: 'tuple' object does not support item assignment"
          ]
        }
      ]
    },
    {
      "cell_type": "markdown",
      "source": [
        "You can’t modify the elements of a tuple, but you can replace one tuple with\n",
        "another:\n"
      ],
      "metadata": {
        "id": "HLxCLMVPyb8A"
      }
    },
    {
      "cell_type": "code",
      "source": [
        "t = ('A',) + t[1:]\n",
        "print(t)\n"
      ],
      "metadata": {
        "colab": {
          "base_uri": "https://localhost:8080/"
        },
        "id": "GJpwALCKym2k",
        "outputId": "cea960e7-7ce4-4916-8df4-fddf0fbda847"
      },
      "execution_count": null,
      "outputs": [
        {
          "output_type": "stream",
          "name": "stdout",
          "text": [
            "('A', 'b', 'c', 'd', 'e')\n"
          ]
        }
      ]
    },
    {
      "cell_type": "markdown",
      "source": [
        "# Comparing tuples\n",
        "\n",
        "The comparison operators work with tuples and other sequences. Python starts by\n",
        "comparing the first element from each sequence. If they are equal, it goes on to the\n",
        "next element, and so on, until it finds elements that differ. Subsequent elements\n",
        "are not considered (even if they are really big).\n",
        "\n"
      ],
      "metadata": {
        "id": "K-alnfquzARA"
      }
    },
    {
      "cell_type": "code",
      "source": [
        "(0, 1, 2) < (0, 3, 4)"
      ],
      "metadata": {
        "colab": {
          "base_uri": "https://localhost:8080/"
        },
        "id": "Qi85oZ6uqeAx",
        "outputId": "b5f2da6d-18d7-4130-9a6f-45c738075f13"
      },
      "execution_count": null,
      "outputs": [
        {
          "output_type": "execute_result",
          "data": {
            "text/plain": [
              "True"
            ]
          },
          "metadata": {},
          "execution_count": 1
        }
      ]
    },
    {
      "cell_type": "code",
      "source": [
        "(0, 1, 2000000) < (0, 3, 4)\n"
      ],
      "metadata": {
        "id": "2Ny5D3b2qn_2"
      },
      "execution_count": null,
      "outputs": []
    },
    {
      "cell_type": "markdown",
      "source": [
        "##COMPARING TUPLES\n",
        "\n",
        "The sort function works the same way. It sorts primarily by first element, but in\n",
        "the case of a tie, it sorts by second element, and so on.\n",
        "This feature lends itself to a pattern called DSU.\n",
        "\n",
        "***Decorate*** a sequence by building a list of tuples with one or more sort keys\n",
        "preceding the elements from the sequence.\n",
        "***Sort*** the list of tuples using the Python built-in sort, and\n",
        "***Undecorate*** by extracting the sorted elements of the sequence.\n",
        "\n",
        "For example, suppose you have a list of words and you want to sort them from\n",
        "longest to shortest:\n"
      ],
      "metadata": {
        "id": "5PG6Ek4Kq9o4"
      }
    },
    {
      "cell_type": "code",
      "source": [
        "txt = 'but soft what light in yonder window breaks'\n",
        "words = txt.split()\n",
        "t = list()\n",
        "for word in words:\n",
        "  t.append((len(word), word))\n",
        "  t.sort(reverse=True)\n",
        "res = list()\n",
        "for length, word in t:\n",
        "  res.append(word)\n",
        "print(res)\n"
      ],
      "metadata": {
        "colab": {
          "base_uri": "https://localhost:8080/"
        },
        "id": "i1wWd1O9syto",
        "outputId": "172cf2cf-6b31-4921-9d7e-16c8e243b363"
      },
      "execution_count": null,
      "outputs": [
        {
          "output_type": "stream",
          "name": "stdout",
          "text": [
            "['yonder', 'window', 'breaks', 'light', 'what', 'soft', 'but', 'in']\n"
          ]
        }
      ]
    },
    {
      "cell_type": "markdown",
      "source": [
        "The first loop builds a list of tuples, where each tuple is a word preceded by its\n",
        "length.\n",
        "\n",
        "**Sort** compares the first element, length, first, and only considers the second element to break ties. The keyword argument *reverse*=**True** tells **sort** to go in\n",
        "decreasing order.\n",
        "\n",
        "The second loop traverses the list of tuples and builds a list of words in descending\n",
        "order of length. The four-character words are sorted in ***reverse*** alphabetical order,\n",
        "so **“what”** appears before **“soft”** in the following list.\n",
        "\n",
        "The output of the program is as follows:\n",
        "\n",
        "**['yonder', 'window', 'breaks', 'light', 'what',\n",
        "'soft', 'but', 'in']**\n"
      ],
      "metadata": {
        "id": "hSo0pm41tH2b"
      }
    },
    {
      "cell_type": "markdown",
      "source": [
        "#Tuple assignment\n",
        "\n",
        "One of the unique syntactic features of the Python language is the ability to have a\n",
        "tuple on the left side and a sequence on the right side of an assignment statement.\n",
        "This allows you to assign more than one variable at a time to the given sequence.\n",
        "\n",
        "In this example we have a two-element list (which is a sequence) and assign the first\n",
        "and second elements of the sequence to the variables x and y in a single statement.\n",
        "\n"
      ],
      "metadata": {
        "id": "jYbmsgt0uaiH"
      }
    },
    {
      "cell_type": "code",
      "source": [
        "m = [ 'have', 'fun' ]\n",
        "x, y = m\n",
        "print(x)\n",
        "print(y)\n"
      ],
      "metadata": {
        "colab": {
          "base_uri": "https://localhost:8080/"
        },
        "id": "_Nx3y05Ayjne",
        "outputId": "c9f2b3a5-2e4d-4fe9-dda5-430a9af26439"
      },
      "execution_count": null,
      "outputs": [
        {
          "output_type": "stream",
          "name": "stdout",
          "text": [
            "have\n",
            "fun\n"
          ]
        }
      ]
    },
    {
      "cell_type": "markdown",
      "source": [
        "Python roughly translates the tuple assignment syntax to be the\n",
        "following:"
      ],
      "metadata": {
        "id": "wyOklm5pzCpg"
      }
    },
    {
      "cell_type": "code",
      "source": [
        "m = [ 'have', 'fun' ]\n",
        "x = m[0]\n",
        "y = m[1]\n",
        "print(x)\n",
        "print(y)"
      ],
      "metadata": {
        "colab": {
          "base_uri": "https://localhost:8080/",
          "height": 35
        },
        "id": "wuueUa30zeuz",
        "outputId": "b09e6a70-dbf1-4852-9fb3-7914f541bf48"
      },
      "execution_count": null,
      "outputs": [
        {
          "output_type": "execute_result",
          "data": {
            "text/plain": [
              "'have'"
            ],
            "application/vnd.google.colaboratory.intrinsic+json": {
              "type": "string"
            }
          },
          "metadata": {},
          "execution_count": 8
        }
      ]
    },
    {
      "cell_type": "markdown",
      "source": [
        "Stylistically when we use a tuple on the left side of the assignment statement, we\n",
        "omit the parentheses, but the following is an equally valid syntax:\n",
        "\n"
      ],
      "metadata": {
        "id": "mk66DzSO0RWN"
      }
    },
    {
      "cell_type": "code",
      "source": [
        "m = [ 'have', 'fun' ]\n",
        "(x, y) = m\n",
        "print(x)\n",
        "print(y)\n"
      ],
      "metadata": {
        "colab": {
          "base_uri": "https://localhost:8080/"
        },
        "id": "PqIYE6wN0WZY",
        "outputId": "91433181-92c1-4ef0-bad5-0f770af24c1b"
      },
      "execution_count": null,
      "outputs": [
        {
          "output_type": "stream",
          "name": "stdout",
          "text": [
            "have\n",
            "fun\n"
          ]
        }
      ]
    },
    {
      "cell_type": "markdown",
      "source": [
        "A particularly clever application of tuple assignment allows us to swap the values\n",
        "of two variables in a single statement:"
      ],
      "metadata": {
        "id": "JlfaaG-28FFp"
      }
    },
    {
      "cell_type": "code",
      "source": [
        "a = 1\n",
        "b = 2\n",
        "print(\"a {0} b {1}\", a, b)\n",
        "a, b = b, a\n",
        "print(\"a {0} b {1}\", a, b)"
      ],
      "metadata": {
        "id": "l653nWB28Kp-",
        "colab": {
          "base_uri": "https://localhost:8080/"
        },
        "outputId": "36653d35-d936-434b-b141-d0a556dc5573"
      },
      "execution_count": null,
      "outputs": [
        {
          "output_type": "stream",
          "name": "stdout",
          "text": [
            "a {0} b {1} 1 2\n",
            "a {0} b {1} 2 1\n"
          ]
        }
      ]
    },
    {
      "cell_type": "markdown",
      "source": [
        "\n",
        "Both sides of this statement are tuples, but the left side is a tuple of variables;\n",
        "the right side is a tuple of expressions. Each value on the right side is assigned\n",
        "to its respective variable on the left side. All the expressions on the right side are\n",
        "evaluated before any of the assignments.\n",
        "\n",
        "The number of variables on the left and the number of values on the right must be\n",
        "the same:"
      ],
      "metadata": {
        "id": "SczvLLz98jzx"
      }
    },
    {
      "cell_type": "code",
      "source": [
        "a, b = 1, 2\n"
      ],
      "metadata": {
        "id": "m51mkcFc9Bkc"
      },
      "execution_count": null,
      "outputs": []
    },
    {
      "cell_type": "markdown",
      "source": [
        "The right side can be any kind of sequence (string, list, or tuple).\n",
        "\n",
        "For example, to split an email address into a user name and a domain, you could\n",
        "write:\n"
      ],
      "metadata": {
        "id": "TOMEW4e2-N1H"
      }
    },
    {
      "cell_type": "code",
      "source": [
        "addr = 'monty@python.org'\n",
        "uname, domain = addr.split('@')"
      ],
      "metadata": {
        "id": "TZBftO2x-nlQ"
      },
      "execution_count": null,
      "outputs": []
    },
    {
      "cell_type": "markdown",
      "source": [
        "The return value from split is a list with two elements; the first element is assigned\n",
        "to uname, the second to domain.\n",
        "\n"
      ],
      "metadata": {
        "id": "JjgPCKcd-wou"
      }
    },
    {
      "cell_type": "code",
      "source": [
        "print(uname)\n",
        "\n",
        "print(domain)\n"
      ],
      "metadata": {
        "colab": {
          "base_uri": "https://localhost:8080/"
        },
        "id": "-U1KwgZr-30k",
        "outputId": "dbd2049c-55b4-4faa-830e-d2cf2193d009"
      },
      "execution_count": null,
      "outputs": [
        {
          "output_type": "stream",
          "name": "stdout",
          "text": [
            "monty\n",
            "python.org\n"
          ]
        }
      ]
    },
    {
      "cell_type": "markdown",
      "source": [
        "#Dictionaries and Tuples\n",
        "\n",
        "Dictionaries have a method called items that returns a list of tuples, where each tuple is a key-value pair:"
      ],
      "metadata": {
        "id": "LcM9Gr7UAW1w"
      }
    },
    {
      "cell_type": "code",
      "source": [
        "d = {'a':10, 'b':1, 'c':22}\n",
        "t = list(d.items())\n",
        "print(t)\n"
      ],
      "metadata": {
        "colab": {
          "base_uri": "https://localhost:8080/"
        },
        "id": "P11vW5FNBRzU",
        "outputId": "de2ed603-60e7-4138-c182-7b46d033a4ce"
      },
      "execution_count": null,
      "outputs": [
        {
          "output_type": "stream",
          "name": "stdout",
          "text": [
            "[('a', 10), ('b', 1), ('c', 22)]\n"
          ]
        }
      ]
    },
    {
      "cell_type": "markdown",
      "source": [
        "However, since the list of tuples is a list, and tuples are comparable, we can now\n",
        "sort the list of tuples. Converting a dictionary to a list of tuples is a way for us to\n",
        "output the contents of a dictionary sorted by key:\n"
      ],
      "metadata": {
        "id": "SAxE7SiBCAxi"
      }
    },
    {
      "cell_type": "code",
      "source": [
        "d = {'a':10, 'b':1, 'c':22}\n",
        "t = list(d.items())\n",
        "t"
      ],
      "metadata": {
        "colab": {
          "base_uri": "https://localhost:8080/"
        },
        "id": "eRRZ90LWDVd5",
        "outputId": "a6044fc4-198d-487b-d65f-021c4483faaf"
      },
      "execution_count": null,
      "outputs": [
        {
          "output_type": "execute_result",
          "data": {
            "text/plain": [
              "[('a', 10), ('b', 1), ('c', 22)]"
            ]
          },
          "metadata": {},
          "execution_count": 17
        }
      ]
    },
    {
      "cell_type": "code",
      "source": [
        "t.sort()\n",
        "t"
      ],
      "metadata": {
        "colab": {
          "base_uri": "https://localhost:8080/"
        },
        "id": "t91cuu4iD1OZ",
        "outputId": "bb4b3fdc-666f-4776-a72f-88c147318fe7"
      },
      "execution_count": null,
      "outputs": [
        {
          "output_type": "execute_result",
          "data": {
            "text/plain": [
              "[('a', 10), ('b', 1), ('c', 22)]"
            ]
          },
          "metadata": {},
          "execution_count": 18
        }
      ]
    },
    {
      "cell_type": "markdown",
      "source": [
        "#Multiple assignment with dictionaries\n",
        "\n",
        "Combining **items**, tuple assignment, and **for**, you can see a nice code pattern for\n",
        "**traversing** the keys and values of a dictionary in a single loop:"
      ],
      "metadata": {
        "id": "VdmFK52bE9Ut"
      }
    },
    {
      "cell_type": "code",
      "source": [
        "d = {'a':10, 'b':1, 'c':22}\n",
        "for key, val in list(d.items()): \n",
        "  print(val, key)"
      ],
      "metadata": {
        "colab": {
          "base_uri": "https://localhost:8080/"
        },
        "id": "4TmT-GB8fqVX",
        "outputId": "912403c0-51dd-4254-b197-a27dc13b4aea"
      },
      "execution_count": null,
      "outputs": [
        {
          "output_type": "stream",
          "name": "stdout",
          "text": [
            "10 a\n",
            "1 b\n",
            "22 c\n"
          ]
        }
      ]
    },
    {
      "cell_type": "markdown",
      "source": [
        "This loop has two iteration variables because items returns a list of tuples and key,\n",
        "val is a tuple assignment that successively iterates through each of the key-value\n",
        "pairs in the dictionary.\n",
        "\n",
        "\n",
        "For each iteration through the loop, both key and value are advanced to the next\n",
        "key-value pair in the dictionary (still in hash order).\n"
      ],
      "metadata": {
        "id": "USKxBS6LF4tF"
      }
    },
    {
      "cell_type": "markdown",
      "source": [
        "If we combine these two techniques, we can print out the contents of a dictionary\n",
        "sorted by the value stored in each key-value pair.\n",
        "\n",
        "\n",
        "To do this, we first make a list of tuples where each tuple is (value, key. The\n",
        "items method would give us a list of (key, value) tuples, but this time we want to sort by value, not key. Once we have constructed the list with the value-key\n",
        "tuples, it is a simple matter to sort the list in reverse order and print out the new,\n",
        "sorted list.\n",
        "\n",
        "\n"
      ],
      "metadata": {
        "id": "HuUdbspVGLDw"
      }
    },
    {
      "cell_type": "code",
      "source": [
        "d = {'a':10, 'b':1, 'c':22}\n",
        "l = list()\n",
        "for key, val in d.items() :\n",
        "    l.append( (val, key) )\n",
        "l\n"
      ],
      "metadata": {
        "colab": {
          "base_uri": "https://localhost:8080/"
        },
        "id": "3RE8oocfGdMd",
        "outputId": "6a763a88-5aa6-4598-e983-f6a0ba1ca1c5"
      },
      "execution_count": null,
      "outputs": [
        {
          "output_type": "execute_result",
          "data": {
            "text/plain": [
              "[(10, 'a'), (1, 'b'), (22, 'c')]"
            ]
          },
          "metadata": {},
          "execution_count": 25
        }
      ]
    },
    {
      "cell_type": "code",
      "source": [
        "l.sort(reverse=True)\n",
        "l"
      ],
      "metadata": {
        "colab": {
          "base_uri": "https://localhost:8080/"
        },
        "id": "XJ0hZ_6oI2Kk",
        "outputId": "425c7247-bbd6-4d79-fc57-fc96393aff5a"
      },
      "execution_count": null,
      "outputs": [
        {
          "output_type": "execute_result",
          "data": {
            "text/plain": [
              "[(22, 'c'), (10, 'a'), (1, 'b')]"
            ]
          },
          "metadata": {},
          "execution_count": 26
        }
      ]
    },
    {
      "cell_type": "markdown",
      "source": [
        "#The most common words\n",
        "\n",
        "We can augment our program to use this technique to print the ten most\n",
        "common words in the text as follows:\n"
      ],
      "metadata": {
        "id": "UFMkfzbwJwWR"
      }
    },
    {
      "cell_type": "code",
      "source": [
        "import string\n",
        "   \n",
        "fhand = open('/content/sample_data/romeo-full.txt')\n",
        "counts = dict()\n",
        "for line in fhand:\n",
        "    line = line.translate(str.maketrans('', '', string.punctuation))\n",
        "    line = line.lower()\n",
        "    words = line.split()\n",
        "    for word in words:\n",
        "      if word not in counts:\n",
        "        counts[word] = 1\n",
        "    else:\n",
        "      counts[word] += 1 "
      ],
      "metadata": {
        "id": "oaFVPZJ3KGTF"
      },
      "execution_count": null,
      "outputs": []
    },
    {
      "cell_type": "markdown",
      "source": [
        "## *Sort* *the* *dictionary* *by* *value*"
      ],
      "metadata": {
        "id": "I-cliwXS7owH"
      }
    },
    {
      "cell_type": "code",
      "source": [
        "lst = list()\n",
        "for key, val in list(counts.items()):\n",
        " lst.append((val, key))\n",
        "lst.sort(reverse=True)\n",
        "for key, val in lst[:10]:\n",
        "  print(key, val)"
      ],
      "metadata": {
        "colab": {
          "base_uri": "https://localhost:8080/"
        },
        "id": "C5PpQ8gK70dn",
        "outputId": "6ef8d8f4-3c5b-42fd-a854-974df9b01621"
      },
      "execution_count": null,
      "outputs": [
        {
          "output_type": "stream",
          "name": "stdout",
          "text": [
            "2 into\n",
            "1 would\n",
            "1 where\n",
            "1 using\n",
            "1 turning\n",
            "1 to\n",
            "1 think\n",
            "1 them\n",
            "1 rarely\n",
            "1 of\n"
          ]
        }
      ]
    },
    {
      "cell_type": "markdown",
      "source": [
        "\n",
        "The first part of the program which reads the file and computes the dictionary\n",
        "that maps each word to the count of words in the document is unchanged. But\n",
        "instead of simply printing out **counts** and ending the program, we construct a **list**\n",
        "of (**val**, **key**) tuples and then sort the list in reverse order.\n",
        "\n",
        "\n",
        " If there is more than\n",
        "one tuple with the same value, it will look at the second element (the key), so\n",
        "tuples where the value is the same will be further sorted by the alphabetical order\n",
        "of the key.\n",
        "\n",
        "\n",
        "At the end we write a nice for loop which does a multiple assignment iteration\n",
        "and prints out the ten most common words by iterating through a slice of the list\n",
        "(lst[:10]).\n",
        "\n"
      ],
      "metadata": {
        "id": "3OSVqTSJ_AgP"
      }
    },
    {
      "cell_type": "markdown",
      "source": [
        "#Using tuples as keys in dictionaries\n",
        "\n",
        "Because tuples are *hashable* and lists are not, if we want to create a *composite* key\n",
        "to use in a dictionary we must use a tuple as the key.\n",
        "\n",
        "\n",
        "Assuming that\n",
        "we have defined the variables last, first, and number, we could write a dictionary\n",
        "assignment statement as follows:\n"
      ],
      "metadata": {
        "id": "gNqcCveKKmta"
      }
    },
    {
      "cell_type": "code",
      "source": [
        "directory={}\n",
        "first=\"asdf\"\n",
        "last=\"lkjhg\"\n",
        "number=1234567890\n",
        "directory[last,first] = number\n",
        "print(directory)"
      ],
      "metadata": {
        "colab": {
          "base_uri": "https://localhost:8080/"
        },
        "id": "snZSn6F0Mu5f",
        "outputId": "ae890142-69cb-479e-c291-9eee960296d0"
      },
      "execution_count": null,
      "outputs": [
        {
          "output_type": "stream",
          "name": "stdout",
          "text": [
            "{('lkjhg', 'asdf'): 1234567890}\n"
          ]
        }
      ]
    },
    {
      "cell_type": "markdown",
      "source": [
        "The expression in brackets is a tuple. We could use tuple assignment in a for loop\n",
        "to traverse this dictionary."
      ],
      "metadata": {
        "id": "SzUSwt8dM4Kj"
      }
    },
    {
      "cell_type": "code",
      "source": [
        "directory[last,first] = number\n",
        "for last, first in directory:\n",
        " print(first, last, directory[last,first])"
      ],
      "metadata": {
        "colab": {
          "base_uri": "https://localhost:8080/"
        },
        "id": "H9tUcseAM5CM",
        "outputId": "79918be4-dd01-42ce-97fd-fb72b5db7e82"
      },
      "execution_count": null,
      "outputs": [
        {
          "output_type": "stream",
          "name": "stdout",
          "text": [
            "asdf lkjhg 1234567890\n"
          ]
        }
      ]
    },
    {
      "cell_type": "markdown",
      "source": [
        "This loop traverses the keys in directory, which are tuples. It assigns the elements\n",
        "of each tuple to last and first, then prints the name and corresponding telephone\n",
        "number."
      ],
      "metadata": {
        "id": "MebbhR7BM8Hk"
      }
    },
    {
      "cell_type": "markdown",
      "source": [
        "#Sequences: strings, lists, and tuples - Oh My!\n",
        "\n",
        "*LIST* *COMPREHENSION*\n",
        "\n",
        "1. In some contexts, like a return statement, it is syntactically simpler to create\n",
        "a tuple than a list. In other contexts, you might prefer a list.\n",
        "2. If you want to use a sequence as a dictionary key, you have to use an immutable type like a tuple or string.\n",
        "3. If you are passing a sequence as an argument to a function, using tuples\n",
        "reduces the potential for unexpected behavior due to aliasing.\n",
        "\n",
        "\n",
        "Tuples are immutable, they don’t provide methods like sort and reverse,\n",
        "which modify existing lists. However Python provides the built-in functions sorted\n",
        "and reversed, which take any sequence as a parameter and return a new sequence\n",
        "with the same elements in a different order.\n",
        "\n"
      ],
      "metadata": {
        "id": "OcEoETyxNDGX"
      }
    },
    {
      "cell_type": "markdown",
      "source": [
        "#List comprehension\n",
        "\n",
        "You can achieve this by writing a for loop and appending one item at a time. \n",
        "For\n",
        "example, if you wanted to convert a list of strings – each string storing digits – into\n",
        "numbers that you can sum up, you would write:\n"
      ],
      "metadata": {
        "id": "8hPPrwCRcvhi"
      }
    },
    {
      "cell_type": "code",
      "source": [
        "list_of_ints_in_strings = ['42', '65', '12']\n",
        "list_of_ints = []\n",
        "for x in list_of_ints_in_strings:\n",
        "    list_of_ints.append(int(x))\n",
        "print(sum(list_of_ints))"
      ],
      "metadata": {
        "colab": {
          "base_uri": "https://localhost:8080/"
        },
        "id": "Z4byGcbLc74k",
        "outputId": "7ab87865-afc8-471c-83db-b15f92a23480"
      },
      "execution_count": null,
      "outputs": [
        {
          "output_type": "stream",
          "name": "stdout",
          "text": [
            "119\n"
          ]
        }
      ]
    },
    {
      "cell_type": "markdown",
      "source": [
        "With list comprehension, the above code can be written in a more compact manner:"
      ],
      "metadata": {
        "id": "k4ECpmNNeFv_"
      }
    },
    {
      "cell_type": "code",
      "source": [
        "list_of_ints_in_strings = ['42', '65', '12']\n",
        "list_of_ints = [ int(x) for x in list_of_ints_in_strings ]\n",
        "print(sum(list_of_ints))\n"
      ],
      "metadata": {
        "colab": {
          "base_uri": "https://localhost:8080/"
        },
        "id": "1_VNymKteHKd",
        "outputId": "0f203d95-4514-4736-fb9f-9d8b2cce594b"
      },
      "execution_count": null,
      "outputs": [
        {
          "output_type": "stream",
          "name": "stdout",
          "text": [
            "119\n"
          ]
        }
      ]
    }
  ]
}