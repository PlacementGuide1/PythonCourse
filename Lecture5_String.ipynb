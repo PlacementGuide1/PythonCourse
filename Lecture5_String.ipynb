{
  "nbformat": 4,
  "nbformat_minor": 0,
  "metadata": {
    "colab": {
      "provenance": [],
      "collapsed_sections": [
        "mRd68UtEPt60",
        "jas_-7SEOZiY",
        "RB9gR1FhMLfd",
        "hcN2ZnY5MOIJ",
        "Ot-TcBf4MZn8",
        "ghcV8hdsM6XN",
        "uHvp2lyiNHi0",
        "6qzbIVDxNTjV",
        "BjdWbGBUPKMI",
        "8qz_YlBlQSqo",
        "ks5WXA4SQpnY",
        "1EJFUBBqSChX",
        "JKOKwismVRJT",
        "LWBOPoHTVtel",
        "n-1L8j1TPUxm",
        "3ovavgyAPq7l"
      ],
      "include_colab_link": true
    },
    "kernelspec": {
      "name": "python3",
      "display_name": "Python 3"
    },
    "language_info": {
      "name": "python"
    }
  },
  "cells": [
    {
      "cell_type": "markdown",
      "metadata": {
        "id": "view-in-github",
        "colab_type": "text"
      },
      "source": [
        "<a href=\"https://colab.research.google.com/github/PlacementGuide1/PythonCourse/blob/main/Lecture5_String.ipynb\" target=\"_parent\"><img src=\"https://colab.research.google.com/assets/colab-badge.svg\" alt=\"Open In Colab\"/></a>"
      ]
    },
    {
      "cell_type": "markdown",
      "source": [
        ">[What is string?](#scrollTo=5Nxstp7JLlMT)\n",
        "\n",
        ">[Multiline Strings](#scrollTo=IhNGvi6bK9Bj)\n",
        "\n",
        ">[Getting the length of a string using len](#scrollTo=w9gGOGqUMdbj)\n",
        "\n",
        ">[String Iteration](#scrollTo=b1j_hicZNjn8)\n",
        "\n",
        ">[String slices](#scrollTo=jas_-7SEOZiY)\n",
        "\n",
        ">[Modify Strings](#scrollTo=RB9gR1FhMLfd)\n",
        "\n",
        ">>[Upper Case](#scrollTo=hcN2ZnY5MOIJ)\n",
        "\n",
        ">>[Lower Case](#scrollTo=Ot-TcBf4MZn8)\n",
        "\n",
        ">>[Replace String](#scrollTo=ghcV8hdsM6XN)\n",
        "\n",
        ">>[Split String](#scrollTo=uHvp2lyiNHi0)\n",
        "\n",
        ">[String Concatenation](#scrollTo=6qzbIVDxNTjV)\n",
        "\n",
        ">[Strings are immutable](#scrollTo=BjdWbGBUPKMI)\n",
        "\n",
        ">[Looping and counting](#scrollTo=mRd68UtEPt60)\n",
        "\n",
        ">[The in operator](#scrollTo=8qz_YlBlQSqo)\n",
        "\n",
        ">[String comparison](#scrollTo=ks5WXA4SQpnY)\n",
        "\n",
        ">[String methods](#scrollTo=1EJFUBBqSChX)\n",
        "\n",
        ">[Parsing strings](#scrollTo=JKOKwismVRJT)\n",
        "\n",
        ">[Format operator](#scrollTo=LWBOPoHTVtel)\n",
        "\n",
        ">[Escape Character](#scrollTo=n-1L8j1TPUxm)\n",
        "\n",
        ">>[Escape Characters](#scrollTo=3ovavgyAPq7l)\n",
        "\n"
      ],
      "metadata": {
        "colab_type": "toc",
        "id": "U5Z85Hp9WxzS"
      }
    },
    {
      "cell_type": "markdown",
      "source": [
        "#What is string?\n",
        "\n",
        "A string is a sequence of characters. You can access the characters one at a time with the bracket operator:\n",
        "\n",
        "So “b” is the 0th letter (“zero-th”) of “banana”, “a” is the 1th letter (“one-th”), and “n” is the 2th (“two-th”) letter.\n",
        "You can use any expression, including variables and operators, as an index, but the value of the index has to be an integer. Otherwise you get:"
      ],
      "metadata": {
        "id": "5Nxstp7JLlMT"
      }
    },
    {
      "cell_type": "code",
      "source": [
        "fruit = 'banana'\n",
        "letter=fruit[0]\n",
        "letter1 = fruit[1]\n",
        "print(letter)\n",
        "print(letter1)"
      ],
      "metadata": {
        "colab": {
          "base_uri": "https://localhost:8080/"
        },
        "id": "-TGo87k2Lxeq",
        "outputId": "1f78f146-73a4-4643-ce6a-322ce3d32a8f"
      },
      "execution_count": null,
      "outputs": [
        {
          "output_type": "stream",
          "name": "stdout",
          "text": [
            "b\n",
            "a\n"
          ]
        }
      ]
    },
    {
      "cell_type": "markdown",
      "source": [
        "##Multiline Strings\n",
        "\n",
        "You can assign a multiline string to a variable by using three quotes:\n",
        "\n"
      ],
      "metadata": {
        "id": "IhNGvi6bK9Bj"
      }
    },
    {
      "cell_type": "code",
      "source": [
        "a = \"\"\"Lorem ipsum dolor sit amet,\n",
        "consectetur adipiscing elit,\n",
        "sed do eiusmod tempor incididunt\n",
        "ut labore et dolore magna aliqua.\"\"\"\n",
        "print(a)"
      ],
      "metadata": {
        "colab": {
          "base_uri": "https://localhost:8080/"
        },
        "id": "IM_BuXDzLLpL",
        "outputId": "d6511345-c578-41e4-8538-66ec5bf5aa94"
      },
      "execution_count": null,
      "outputs": [
        {
          "output_type": "stream",
          "name": "stdout",
          "text": [
            "Lorem ipsum dolor sit amet,\n",
            "consectetur adipiscing elit,\n",
            "sed do eiusmod tempor incididunt\n",
            "ut labore et dolore magna aliqua.\n"
          ]
        }
      ]
    },
    {
      "cell_type": "code",
      "source": [
        "a = '''Lorem ipsum dolor sit amet,\n",
        "consectetur adipiscing elit,\n",
        "sed do eiusmod tempor incididunt\n",
        "ut labore et dolore magna aliqua.'''\n",
        "\n",
        "print(a)"
      ],
      "metadata": {
        "colab": {
          "base_uri": "https://localhost:8080/"
        },
        "id": "QDPcdkSVLTyI",
        "outputId": "1ea23168-c30b-45e9-873c-9ad10308d694"
      },
      "execution_count": null,
      "outputs": [
        {
          "output_type": "stream",
          "name": "stdout",
          "text": [
            "7\n"
          ]
        }
      ]
    },
    {
      "cell_type": "markdown",
      "source": [
        "#Getting the length of a string using len\n",
        "\n",
        "len is a built-in function that returns the number of characters in a string:"
      ],
      "metadata": {
        "id": "w9gGOGqUMdbj"
      }
    },
    {
      "cell_type": "code",
      "source": [
        "fruit = 'banana'\n",
        "len(fruit)"
      ],
      "metadata": {
        "colab": {
          "base_uri": "https://localhost:8080/"
        },
        "id": "gxXQQV2ONBMQ",
        "outputId": "9c9ad674-e800-48a0-e370-2ff1d1d1bdbf"
      },
      "execution_count": null,
      "outputs": [
        {
          "output_type": "execute_result",
          "data": {
            "text/plain": [
              "6"
            ]
          },
          "metadata": {},
          "execution_count": 2
        }
      ]
    },
    {
      "cell_type": "markdown",
      "source": [
        "\n",
        "To get the last letter of a string, you might be tempted to try something like this:"
      ],
      "metadata": {
        "id": "hvn7ovC5F-rr"
      }
    },
    {
      "cell_type": "code",
      "source": [
        "length = len(fruit)\n",
        "last = fruit[length]"
      ],
      "metadata": {
        "colab": {
          "base_uri": "https://localhost:8080/",
          "height": 183
        },
        "id": "z5_cMqyXNVEc",
        "outputId": "85b882fc-53e9-4884-fafd-0b1121b444e1"
      },
      "execution_count": null,
      "outputs": [
        {
          "output_type": "error",
          "ename": "IndexError",
          "evalue": "ignored",
          "traceback": [
            "\u001b[0;31m---------------------------------------------------------------------------\u001b[0m",
            "\u001b[0;31mIndexError\u001b[0m                                Traceback (most recent call last)",
            "\u001b[0;32m<ipython-input-9-4dd85e09c2d1>\u001b[0m in \u001b[0;36m<module>\u001b[0;34m\u001b[0m\n\u001b[1;32m      1\u001b[0m \u001b[0mlength\u001b[0m \u001b[0;34m=\u001b[0m \u001b[0mlen\u001b[0m\u001b[0;34m(\u001b[0m\u001b[0mfruit\u001b[0m\u001b[0;34m)\u001b[0m\u001b[0;34m\u001b[0m\u001b[0;34m\u001b[0m\u001b[0m\n\u001b[0;32m----> 2\u001b[0;31m \u001b[0mlast\u001b[0m \u001b[0;34m=\u001b[0m \u001b[0mfruit\u001b[0m\u001b[0;34m[\u001b[0m\u001b[0mlength\u001b[0m\u001b[0;34m]\u001b[0m\u001b[0;34m\u001b[0m\u001b[0;34m\u001b[0m\u001b[0m\n\u001b[0m",
            "\u001b[0;31mIndexError\u001b[0m: string index out of range"
          ]
        }
      ]
    },
    {
      "cell_type": "markdown",
      "source": [
        "The reason for the IndexError is that there is no letter in “banana” with the index.\n",
        "\n",
        "Since we started counting at zero, the six letters are numbered 0 to 5. To get the last character, you have to subtract 1 from length:"
      ],
      "metadata": {
        "id": "sjWOoDZFGCks"
      }
    },
    {
      "cell_type": "code",
      "source": [
        "last = fruit[length-1]\n",
        "print(last)"
      ],
      "metadata": {
        "colab": {
          "base_uri": "https://localhost:8080/"
        },
        "id": "PkZiBsjRNfMk",
        "outputId": "cceaf8fe-e56f-4a42-a934-810fdc9a15df"
      },
      "execution_count": null,
      "outputs": [
        {
          "output_type": "stream",
          "name": "stdout",
          "text": [
            "a\n"
          ]
        }
      ]
    },
    {
      "cell_type": "markdown",
      "source": [
        "**Q. Write you own len function for evaluating the string length?**"
      ],
      "metadata": {
        "id": "w7oehN-KGIOe"
      }
    },
    {
      "cell_type": "markdown",
      "source": [
        "#String Iteration \n",
        "\n",
        "A lot of computations involve processing a string one character at a time. Often they start at the beginning, select each character in turn, do something to it, and continue until the end. This pattern of processing is called a traversal. One way to write a traversal is with a while loop:"
      ],
      "metadata": {
        "id": "b1j_hicZNjn8"
      }
    },
    {
      "cell_type": "code",
      "source": [
        "fruit = 'banana'\n",
        "index = 0\n",
        "while index < len(fruit):\n",
        "  letter = fruit[index]\n",
        "  print(letter)\n",
        "  index =+ 1"
      ],
      "metadata": {
        "colab": {
          "base_uri": "https://localhost:8080/"
        },
        "id": "iRF_FYpeN4mg",
        "outputId": "317c90c1-4c5e-4025-8072-bba701c2c239"
      },
      "execution_count": null,
      "outputs": [
        {
          "output_type": "stream",
          "name": "stdout",
          "text": [
            "b\n",
            "a\n",
            "n\n",
            "a\n",
            "n\n",
            "a\n"
          ]
        }
      ]
    },
    {
      "cell_type": "code",
      "source": [
        "for char in fruit:\n",
        "  print(char)"
      ],
      "metadata": {
        "id": "u1idk27XGexR"
      },
      "execution_count": null,
      "outputs": []
    },
    {
      "cell_type": "markdown",
      "source": [
        "#Looping and counting\n",
        "\n",
        "The following program counts the number of times the letter “a” appears in a\n",
        "string:\n",
        "\n",
        "This program demonstrates another pattern of computation called a counter. The\n",
        "variable count is initialized to 0 and then incremented each time an “a” is found.\n",
        "When the loop exits, count contains the result: the total number of a’s.\n"
      ],
      "metadata": {
        "id": "mRd68UtEPt60"
      }
    },
    {
      "cell_type": "code",
      "source": [
        "word = 'banana'\n",
        "count = 0\n",
        "for letter in word:\n",
        "    if letter == 'a':\n",
        "      count = count + 1 #count += 1\n",
        "print(count)\n"
      ],
      "metadata": {
        "colab": {
          "base_uri": "https://localhost:8080/"
        },
        "id": "uta7u_AWP8Yw",
        "outputId": "d8fc8b64-5035-4f3f-eae7-37a33225e8b3"
      },
      "execution_count": null,
      "outputs": [
        {
          "output_type": "stream",
          "name": "stdout",
          "text": [
            "3\n"
          ]
        }
      ]
    },
    {
      "cell_type": "markdown",
      "source": [
        "#String slices\n",
        "\n",
        "A segment of a string is called a slice. Selecting a slice is similar to selecting a\n",
        "character:\n",
        "\n",
        "The operator [n:m] returns the part of the string from the “n-th” character to the “m-th” character, including the first but excluding the last. **[n:m)**\n",
        "If you omit the first index (before the colon), the slice starts at the beginning of the string. If you omit the second index, the slice goes to the end of the string:\n",
        "\n",
        "syntax : string[strat:end:step]"
      ],
      "metadata": {
        "id": "jas_-7SEOZiY"
      }
    },
    {
      "cell_type": "code",
      "source": [
        "s = 'Monty Python'\n",
        "print(s[0:5])\n",
        "print(s[6:12])"
      ],
      "metadata": {
        "colab": {
          "base_uri": "https://localhost:8080/"
        },
        "id": "LTjerajYOtvp",
        "outputId": "837e1649-fea1-44cc-8c1c-989c5af4ff8f"
      },
      "execution_count": null,
      "outputs": [
        {
          "output_type": "stream",
          "name": "stdout",
          "text": [
            "Monty\n",
            "Python\n"
          ]
        }
      ]
    },
    {
      "cell_type": "code",
      "source": [
        "fruit = 'banana'\n",
        "\n",
        "fruit[:3]\n",
        "\n",
        "fruit[3:]\n"
      ],
      "metadata": {
        "colab": {
          "base_uri": "https://localhost:8080/",
          "height": 36
        },
        "id": "ulPDE3KtO8Jn",
        "outputId": "4a552938-adf5-456b-e4bb-99567e7bc4bd"
      },
      "execution_count": null,
      "outputs": [
        {
          "output_type": "execute_result",
          "data": {
            "text/plain": [
              "'ana'"
            ],
            "application/vnd.google.colaboratory.intrinsic+json": {
              "type": "string"
            }
          },
          "metadata": {},
          "execution_count": 12
        }
      ]
    },
    {
      "cell_type": "markdown",
      "source": [
        "you can also define the step of slice as a 3rd paramenter :\n",
        "\n",
        "**syntax:** `string[start:end:step]`"
      ],
      "metadata": {
        "id": "TMdE6_jFHH0F"
      }
    },
    {
      "cell_type": "code",
      "source": [
        "fruit = 'banana'\n",
        "\n",
        "fruit[0:5:2]"
      ],
      "metadata": {
        "colab": {
          "base_uri": "https://localhost:8080/",
          "height": 35
        },
        "id": "UBzHzX4nHi0H",
        "outputId": "6b7d047d-1e5f-4f38-ad02-ac952315d2bd"
      },
      "execution_count": null,
      "outputs": [
        {
          "output_type": "execute_result",
          "data": {
            "text/plain": [
              "'bnn'"
            ],
            "application/vnd.google.colaboratory.intrinsic+json": {
              "type": "string"
            }
          },
          "metadata": {},
          "execution_count": 4
        }
      ]
    },
    {
      "cell_type": "markdown",
      "source": [
        "#Modify Strings\n"
      ],
      "metadata": {
        "id": "RB9gR1FhMLfd"
      }
    },
    {
      "cell_type": "markdown",
      "source": [
        "##Upper Case \n",
        "\n",
        "The upper() method returns the string in upper case:"
      ],
      "metadata": {
        "id": "hcN2ZnY5MOIJ"
      }
    },
    {
      "cell_type": "code",
      "source": [
        "a = \"Hello, World!\"\n",
        "print(a.upper())"
      ],
      "metadata": {
        "colab": {
          "base_uri": "https://localhost:8080/"
        },
        "id": "rY57zt7kMU7r",
        "outputId": "fd7c992f-80ca-48e1-d5ed-ab4a1afd0550"
      },
      "execution_count": null,
      "outputs": [
        {
          "output_type": "stream",
          "name": "stdout",
          "text": [
            "HELLO, WORLD!\n"
          ]
        }
      ]
    },
    {
      "cell_type": "markdown",
      "source": [
        "##Lower Case\n",
        "\n",
        "The lower() method returns the string in lower case:"
      ],
      "metadata": {
        "id": "Ot-TcBf4MZn8"
      }
    },
    {
      "cell_type": "code",
      "source": [
        "a = \"Hello, World!\"\n",
        "print(a.lower())"
      ],
      "metadata": {
        "id": "6scV9T3lMiiY",
        "colab": {
          "base_uri": "https://localhost:8080/"
        },
        "outputId": "616d9c1d-80ed-4f4f-a834-d740ce6d0237"
      },
      "execution_count": null,
      "outputs": [
        {
          "output_type": "stream",
          "name": "stdout",
          "text": [
            "hello, world!\n"
          ]
        }
      ]
    },
    {
      "cell_type": "markdown",
      "source": [
        "##Replace String\n",
        "\n",
        "The replace() method replaces a string with another string:"
      ],
      "metadata": {
        "id": "ghcV8hdsM6XN"
      }
    },
    {
      "cell_type": "code",
      "source": [
        "a = \"Hello, World!\"\n",
        "print(a.replace(\"l\", \"J\"))"
      ],
      "metadata": {
        "id": "uxH0fV5WNEs4",
        "colab": {
          "base_uri": "https://localhost:8080/"
        },
        "outputId": "f5f93b83-c933-47c8-aeb2-73a50cdb701a"
      },
      "execution_count": null,
      "outputs": [
        {
          "output_type": "stream",
          "name": "stdout",
          "text": [
            "HeJJo, WorJd!\n"
          ]
        }
      ]
    },
    {
      "cell_type": "markdown",
      "source": [
        "##Split String\n",
        "The split() method returns a list where the text between the specified separator becomes the list items.\n",
        "\n",
        "**Example**\n",
        "The split() method splits the string into substrings if it finds instances of the separator:"
      ],
      "metadata": {
        "id": "uHvp2lyiNHi0"
      }
    },
    {
      "cell_type": "code",
      "source": [
        "a = \"Hello World divanshu himani ila madhu harshul\"\n",
        "print(a.split(\" \")) # returns ['Hello', ' World!']"
      ],
      "metadata": {
        "id": "umHHM6hBNQ8T",
        "colab": {
          "base_uri": "https://localhost:8080/"
        },
        "outputId": "f9f09e5b-986e-48e7-a8bb-b470b0ef1b96"
      },
      "execution_count": null,
      "outputs": [
        {
          "output_type": "stream",
          "name": "stdout",
          "text": [
            "['Hello', 'World', 'divanshu', 'himani', 'ila', 'madhu', 'harshul']\n"
          ]
        }
      ]
    },
    {
      "cell_type": "markdown",
      "source": [
        "#String Concatenation\n",
        "\n",
        "To concatenate, or combine, two strings you can use the + operator.\n",
        "\n",
        "**Example**\n",
        "Merge variable a with variable b into variable c:"
      ],
      "metadata": {
        "id": "6qzbIVDxNTjV"
      }
    },
    {
      "cell_type": "code",
      "source": [
        "a = \"Hello\"\n",
        "b = \"World\"\n",
        "c = a + b\n",
        "print(c)"
      ],
      "metadata": {
        "id": "lG4WJFb7Nho4"
      },
      "execution_count": null,
      "outputs": []
    },
    {
      "cell_type": "markdown",
      "source": [
        "To add a space between them, add a \" \":"
      ],
      "metadata": {
        "id": "iWvUUo5YNt8X"
      }
    },
    {
      "cell_type": "code",
      "source": [
        "a = \"Hello\"\n",
        "b = \"World\"\n",
        "c = a + \" \" + b\n",
        "print(c)"
      ],
      "metadata": {
        "id": "Yldiuqy1NoaL"
      },
      "execution_count": null,
      "outputs": []
    },
    {
      "cell_type": "markdown",
      "source": [
        "#Strings are immutable\n",
        "\n",
        "It is tempting to use the operator on the left side of an assignment, with the\n",
        "intention of changing a character in a string. For example:\n",
        "\n",
        "The “object” in this case is the string and the “item” is the character you tried\n",
        "to assign. For now, an object is the same thing as a value, but we will refine that\n",
        "definition later. An item is one of the values in a sequence.\n",
        "\n",
        "The reason for the error is that strings are immutable, which means you can’t\n",
        "change an existing string. The best you can do is create a new string that is a\n",
        "variation on the original:"
      ],
      "metadata": {
        "id": "BjdWbGBUPKMI"
      }
    },
    {
      "cell_type": "code",
      "source": [
        "greeting = 'Hello, world!'\n",
        "greeting[0] = 'J'"
      ],
      "metadata": {
        "colab": {
          "base_uri": "https://localhost:8080/"
        },
        "id": "_N34j3ayPbo8",
        "outputId": "a8807e5b-0bce-4cb0-f569-6b10c22df4c9"
      },
      "execution_count": null,
      "outputs": [
        {
          "output_type": "stream",
          "name": "stdout",
          "text": [
            "[1, 2, 10, 4, 5]\n"
          ]
        }
      ]
    },
    {
      "cell_type": "code",
      "source": [
        "greeting = 'Hello, world!'\n",
        "new_greeting = 'J' + greeting[1:]\n",
        "print(new_greeting)"
      ],
      "metadata": {
        "colab": {
          "base_uri": "https://localhost:8080/"
        },
        "id": "0mLL9cbRPjxI",
        "outputId": "3160fc5d-e2c4-46c0-ac8e-e972e9715448"
      },
      "execution_count": null,
      "outputs": [
        {
          "output_type": "stream",
          "name": "stdout",
          "text": [
            "Jello, world!\n"
          ]
        }
      ]
    },
    {
      "cell_type": "markdown",
      "source": [
        "#The in operator\n",
        "\n",
        "The word in is a boolean operator that takes two strings and returns True if the\n",
        "first appears as a substring in the second:"
      ],
      "metadata": {
        "id": "8qz_YlBlQSqo"
      }
    },
    {
      "cell_type": "code",
      "source": [
        "'a' in 'banana'\n"
      ],
      "metadata": {
        "colab": {
          "base_uri": "https://localhost:8080/"
        },
        "id": "afaFXeM-QYNc",
        "outputId": "d2881924-36c6-4b5b-ed94-d7d1218fee71"
      },
      "execution_count": null,
      "outputs": [
        {
          "output_type": "execute_result",
          "data": {
            "text/plain": [
              "True"
            ]
          },
          "metadata": {},
          "execution_count": 17
        }
      ]
    },
    {
      "cell_type": "code",
      "source": [
        "'seed' in 'banana'"
      ],
      "metadata": {
        "colab": {
          "base_uri": "https://localhost:8080/"
        },
        "id": "h24YOWrTQhZx",
        "outputId": "ee3d5abc-0569-49f9-beb1-e8738f7d6545"
      },
      "execution_count": null,
      "outputs": [
        {
          "output_type": "execute_result",
          "data": {
            "text/plain": [
              "True"
            ]
          },
          "metadata": {},
          "execution_count": 18
        }
      ]
    },
    {
      "cell_type": "markdown",
      "source": [
        "#String comparison\n",
        "\n",
        "The comparison operators work on strings. To see if two strings are equal"
      ],
      "metadata": {
        "id": "ks5WXA4SQpnY"
      }
    },
    {
      "cell_type": "code",
      "source": [
        "word = 'banana'\n",
        "if word == 'banana':\n",
        "      print('All right, bananas.')"
      ],
      "metadata": {
        "id": "a8XxyfeWRCfK",
        "colab": {
          "base_uri": "https://localhost:8080/"
        },
        "outputId": "48be60df-a139-4f33-da11-7bf0e9a4ed14"
      },
      "execution_count": null,
      "outputs": [
        {
          "output_type": "stream",
          "name": "stdout",
          "text": [
            "All right, bananas.\n"
          ]
        }
      ]
    },
    {
      "cell_type": "markdown",
      "source": [
        "Other comparison operations are useful for putting words in alphabetical order:\n",
        "\n",
        "Python does not handle uppercase and lowercase letters the same way that people\n",
        "do. All the uppercase letters come before all the lowercase letters, so:\n",
        "Your word, Pineapple, comes before banana.\n",
        "\n",
        "A common way to address this problem is to convert strings to a standard format,\n",
        "such as all lowercase, before performing the comparison. Keep that in mind in case\n",
        "\n",
        "you have to defend yourself against a man armed with a Pineapple."
      ],
      "metadata": {
        "id": "3AxSw7nTRgx9"
      }
    },
    {
      "cell_type": "code",
      "source": [
        "word = 'Y'\n",
        "if word < 'banana':\n",
        "    print('Your word,' + word + ', comes before banana.')\n",
        "elif word > 'banana':\n",
        "    print('Your word,' + word + ', comes after banana.')\n",
        "else:\n",
        "    print('All right, bananas.')"
      ],
      "metadata": {
        "colab": {
          "base_uri": "https://localhost:8080/"
        },
        "id": "yHZYkegSRquT",
        "outputId": "d1a298bc-c65a-4a0f-8415-079f1c438fa4"
      },
      "execution_count": null,
      "outputs": [
        {
          "output_type": "stream",
          "name": "stdout",
          "text": [
            "Your word,Y, comes before banana.\n"
          ]
        }
      ]
    },
    {
      "cell_type": "markdown",
      "source": [
        "#String methods\n",
        "\n",
        "Strings are an example of Python objects. An object contains both data (the actual\n",
        "string itself) and methods, which are effectively functions that are built into the\n",
        "object and are available to any instance of the object.\n",
        "\n",
        "Python has a function called dir which lists the methods available for an object.\n",
        "The type function shows the type of an object and the dir function shows the\n",
        "available methods."
      ],
      "metadata": {
        "id": "1EJFUBBqSChX"
      }
    },
    {
      "cell_type": "code",
      "source": [
        "stuff = 'Hello world'\n",
        "type(stuff)"
      ],
      "metadata": {
        "colab": {
          "base_uri": "https://localhost:8080/"
        },
        "id": "lmfwDlQRSPEk",
        "outputId": "18bd1e7d-ad35-4e42-cc13-16db18745123"
      },
      "execution_count": null,
      "outputs": [
        {
          "output_type": "execute_result",
          "data": {
            "text/plain": [
              "str"
            ]
          },
          "metadata": {},
          "execution_count": 20
        }
      ]
    },
    {
      "cell_type": "markdown",
      "source": [
        "While the dir function lists the methods, and you can use help to get some simple\n",
        "documentation on a method, a better source of documentation for string methods\n",
        "would be https://docs.python.org/library/stdtypes.html#string-methods.\n",
        "\n",
        "Calling a method is similar to calling a function (it takes arguments and returns\n",
        "a value) but the syntax is different. We call a method by appending the method\n",
        "name to the variable name using the period as a delimiter."
      ],
      "metadata": {
        "id": "StsswL_CTYMa"
      }
    },
    {
      "cell_type": "code",
      "source": [
        "dir(stuff)"
      ],
      "metadata": {
        "id": "TFzDp1Z0SXdB"
      },
      "execution_count": null,
      "outputs": []
    },
    {
      "cell_type": "markdown",
      "source": [
        "For example, the method upper takes a string and returns a new string with all\n",
        "uppercase letters:\n",
        "\n",
        "Instead of the function syntax upper(word), it uses the method syntax\n",
        "word.upper()."
      ],
      "metadata": {
        "id": "zj8VVNeQTkby"
      }
    },
    {
      "cell_type": "code",
      "source": [
        "help(str.capitalize)"
      ],
      "metadata": {
        "colab": {
          "base_uri": "https://localhost:8080/"
        },
        "id": "5I9KNBZXTQUP",
        "outputId": "42297ccc-f5c1-4259-b436-c6f74b4febc6"
      },
      "execution_count": null,
      "outputs": [
        {
          "output_type": "stream",
          "name": "stdout",
          "text": [
            "Help on method_descriptor:\n",
            "\n",
            "capitalize(self, /)\n",
            "    Return a capitalized version of the string.\n",
            "    \n",
            "    More specifically, make the first character have upper case and the rest lower\n",
            "    case.\n",
            "\n"
          ]
        }
      ]
    },
    {
      "cell_type": "code",
      "source": [
        "word = 'banana'\n",
        "new_word = word.upper()\n",
        "print(new_word)\n"
      ],
      "metadata": {
        "colab": {
          "base_uri": "https://localhost:8080/"
        },
        "id": "BPWbLheHTx9I",
        "outputId": "3072f8cd-02ce-4272-99f5-7e5111f61ca3"
      },
      "execution_count": null,
      "outputs": [
        {
          "output_type": "stream",
          "name": "stdout",
          "text": [
            "BANANA\n"
          ]
        }
      ]
    },
    {
      "cell_type": "markdown",
      "source": [
        "A method call is called an invocation; in this case, we would say that we are\n",
        "invoking upper on the word.\n",
        "\n",
        "**For example**, there is a string method named find that searches for the position\n",
        "of one string within another:"
      ],
      "metadata": {
        "id": "i_KrSPktT9dK"
      }
    },
    {
      "cell_type": "code",
      "source": [
        "word = 'banana'\n",
        "index = word.find('a')\n",
        "print(index)\n",
        "word.find('na')\n"
      ],
      "metadata": {
        "colab": {
          "base_uri": "https://localhost:8080/"
        },
        "id": "0bYMJcGXULz6",
        "outputId": "b36ab39a-194b-4f7d-de96-04e1eef2dc46"
      },
      "execution_count": null,
      "outputs": [
        {
          "output_type": "stream",
          "name": "stdout",
          "text": [
            "1\n"
          ]
        },
        {
          "output_type": "execute_result",
          "data": {
            "text/plain": [
              "2"
            ]
          },
          "metadata": {},
          "execution_count": 25
        }
      ]
    },
    {
      "cell_type": "markdown",
      "source": [
        "One common task is to remove white space (spaces, tabs, or newlines) from the\n",
        "beginning and end of a string using the strip method:\n"
      ],
      "metadata": {
        "id": "_NNAVQGTUn4j"
      }
    },
    {
      "cell_type": "code",
      "source": [
        "line = ' Here we go '\n",
        "line.strip()\n"
      ],
      "metadata": {
        "colab": {
          "base_uri": "https://localhost:8080/",
          "height": 36
        },
        "id": "CIqYzMrtUps5",
        "outputId": "e1594d99-9d38-4950-abaf-862fd3841edc"
      },
      "execution_count": null,
      "outputs": [
        {
          "output_type": "execute_result",
          "data": {
            "text/plain": [
              "'Here we go'"
            ],
            "application/vnd.google.colaboratory.intrinsic+json": {
              "type": "string"
            }
          },
          "metadata": {},
          "execution_count": 26
        }
      ]
    },
    {
      "cell_type": "markdown",
      "source": [
        "Some methods such as startswith return boolean values\n",
        "\n",
        "You will note that startswith requires case to match, so sometimes we take a line"
      ],
      "metadata": {
        "id": "NJaG2pxUU3pR"
      }
    },
    {
      "cell_type": "code",
      "source": [
        "line = 'Have a nice day'\n",
        "print(line.startswith('Have'))\n",
        "line.startswith('h')"
      ],
      "metadata": {
        "colab": {
          "base_uri": "https://localhost:8080/"
        },
        "id": "KhylNd8AU-XI",
        "outputId": "fb7b9818-350f-4876-c877-b0f204a70442"
      },
      "execution_count": null,
      "outputs": [
        {
          "output_type": "stream",
          "name": "stdout",
          "text": [
            "True\n"
          ]
        },
        {
          "output_type": "execute_result",
          "data": {
            "text/plain": [
              "False"
            ]
          },
          "metadata": {},
          "execution_count": 27
        }
      ]
    },
    {
      "cell_type": "markdown",
      "source": [
        "#Parsing strings\n",
        "\n",
        "Often, we want to look into a string and find a substring. \n",
        "\n",
        "For example if we were presented a series of lines formatted as follows:\n",
        "\n",
        "From stephen.marquard@uct.ac.za Sat Jan 5 09:14:16 2008\n",
        "\n",
        "and we wanted to pull out only the second half of the address (i.e., uct.ac.za) from each line, we can do this by using the find method and string slicing.\n",
        "\n",
        "First, we will find the position of the at-sign in the string. Then we will find the position of the first space after the at-sign. And then we will use string slicing to extract the portion of the string which we are looking for.\n"
      ],
      "metadata": {
        "id": "JKOKwismVRJT"
      }
    },
    {
      "cell_type": "code",
      "source": [
        "data = 'From stephen.marquard@uct.ac.za Sat Jan 5 09:14:16 2008'\n",
        "atpos = data.find('@')\n",
        "print(atpos)\n",
        "\n",
        "sppos = data.find(' ',atpos)\n",
        "print(sppos)\n",
        "\n",
        "host = data[atpos+1:sppos]\n",
        "print(host)\n"
      ],
      "metadata": {
        "colab": {
          "base_uri": "https://localhost:8080/"
        },
        "id": "B5q2y8fUVd5R",
        "outputId": "96fe2855-32b6-4310-a70d-425442d565fe"
      },
      "execution_count": null,
      "outputs": [
        {
          "output_type": "stream",
          "name": "stdout",
          "text": [
            "21\n",
            "31\n",
            "uct.ac.za\n"
          ]
        }
      ]
    },
    {
      "cell_type": "markdown",
      "source": [
        "#Format operator\n",
        "\n",
        "The format() method takes the passed arguments, formats them, and places them in the string where the placeholders {} are:\n",
        "\n",
        "**Example**\n",
        "Use the format() method to insert numbers into strings:\n",
        "\n"
      ],
      "metadata": {
        "id": "LWBOPoHTVtel"
      }
    },
    {
      "cell_type": "code",
      "source": [
        "age = 36\n",
        "name = 'Jhon'\n",
        "txt = \"My name is {}, and I am {}\"\n",
        "print(txt.format(name, age))"
      ],
      "metadata": {
        "id": "nX6yHD-sORGf",
        "colab": {
          "base_uri": "https://localhost:8080/"
        },
        "outputId": "ab0ca26e-13da-4429-8719-f9f6cfbaf616"
      },
      "execution_count": null,
      "outputs": [
        {
          "output_type": "stream",
          "name": "stdout",
          "text": [
            "My name is Jhon, and I am 36\n"
          ]
        }
      ]
    },
    {
      "cell_type": "markdown",
      "source": [
        "The format() method takes unlimited number of arguments, and are placed into the respective placeholders:"
      ],
      "metadata": {
        "id": "73rOx1kgOZdj"
      }
    },
    {
      "cell_type": "code",
      "source": [
        "quantity = 3\n",
        "itemno = 567\n",
        "price = 49.95\n",
        "myorder = \"I want {} pieces of item {} for {} dollars.\"\n",
        "print(myorder.format(quantity, itemno, price))"
      ],
      "metadata": {
        "id": "bPurhuW7ObVf"
      },
      "execution_count": null,
      "outputs": []
    },
    {
      "cell_type": "markdown",
      "source": [
        "You can use index numbers {0} to be sure the arguments are placed in the correct placeholders:"
      ],
      "metadata": {
        "id": "henr3uGyOpO1"
      }
    },
    {
      "cell_type": "code",
      "source": [
        "quantity = 3\n",
        "itemno = 567\n",
        "price = 49.95\n",
        "myorder = \"I want to pay {2} dollars for {0} pieces of item {1}.\"\n",
        "print(myorder.format(quantity, itemno, price))"
      ],
      "metadata": {
        "id": "Xk7oiwsXOrcJ",
        "colab": {
          "base_uri": "https://localhost:8080/"
        },
        "outputId": "1fc02ce6-30d4-4998-f084-7e88254e5417"
      },
      "execution_count": null,
      "outputs": [
        {
          "output_type": "stream",
          "name": "stdout",
          "text": [
            "I want to pay 49.95 dollars for 3 pieces of item 567.\n"
          ]
        }
      ]
    },
    {
      "cell_type": "markdown",
      "source": [
        "The format operator, % allows us to construct strings, replacing parts of the strings\n",
        "with the data stored in variables. When applied to integers, % is the modulus\n",
        "operator. But when the first operand is a string, % is the format operator.\n",
        "\n",
        "The first operand is the format string, which contains one or more format sequences\n",
        "that specify how the second operand is formatted. The result is a string\n",
        "\n",
        "**For example**, the format sequence %d means that the second operand should be formatted as an integer (“d” stands for “decimal”):"
      ],
      "metadata": {
        "id": "DxiXYxz6OOzz"
      }
    },
    {
      "cell_type": "code",
      "source": [
        "camels = 42\n",
        "'%d' % camels"
      ],
      "metadata": {
        "colab": {
          "base_uri": "https://localhost:8080/",
          "height": 183
        },
        "id": "uwkVf9rMV8AZ",
        "outputId": "81b7a5d2-828c-433b-e84e-329cd52b6150"
      },
      "execution_count": null,
      "outputs": [
        {
          "output_type": "error",
          "ename": "TypeError",
          "evalue": "ignored",
          "traceback": [
            "\u001b[0;31m---------------------------------------------------------------------------\u001b[0m",
            "\u001b[0;31mTypeError\u001b[0m                                 Traceback (most recent call last)",
            "\u001b[0;32m<ipython-input-36-bc342f4aa7f5>\u001b[0m in \u001b[0;36m<module>\u001b[0;34m\u001b[0m\n\u001b[1;32m      1\u001b[0m \u001b[0mcamels\u001b[0m \u001b[0;34m=\u001b[0m \u001b[0;34m'42'\u001b[0m\u001b[0;34m\u001b[0m\u001b[0;34m\u001b[0m\u001b[0m\n\u001b[0;32m----> 2\u001b[0;31m \u001b[0;34m'%d'\u001b[0m \u001b[0;34m%\u001b[0m \u001b[0mcamels\u001b[0m\u001b[0;34m\u001b[0m\u001b[0;34m\u001b[0m\u001b[0m\n\u001b[0m",
            "\u001b[0;31mTypeError\u001b[0m: %d format: a number is required, not str"
          ]
        }
      ]
    },
    {
      "cell_type": "markdown",
      "source": [
        "The result is the string ‘42’, which is not to be confused with the integer value 42.\n",
        "\n",
        "A format sequence can appear anywhere in the string, so you can embed a value\n",
        "in a sentence:\n",
        "\n",
        "If there is more than one format sequence in the string, the second argument has\n",
        "to be a tuple1\n",
        ". Each format sequence is matched with an element of the tuple, in\n",
        "order.\n",
        "\n",
        "The following example uses %d to format an integer, %g to format a floating-point\n",
        "number (don’t ask why), and %s to format a string:"
      ],
      "metadata": {
        "id": "p5pmGImNWIIz"
      }
    },
    {
      "cell_type": "code",
      "source": [
        "camels = 42\n",
        "'I have spotted %d camels.' % camels"
      ],
      "metadata": {
        "colab": {
          "base_uri": "https://localhost:8080/",
          "height": 36
        },
        "id": "hO7kO6X6WRBw",
        "outputId": "c15079e2-4000-4f1f-bfaa-e74805388609"
      },
      "execution_count": null,
      "outputs": [
        {
          "output_type": "execute_result",
          "data": {
            "text/plain": [
              "'I have spotted 42 camels.'"
            ],
            "application/vnd.google.colaboratory.intrinsic+json": {
              "type": "string"
            }
          },
          "metadata": {},
          "execution_count": 30
        }
      ]
    },
    {
      "cell_type": "code",
      "source": [
        "'In %d years I have spotted %g %s.' % (3, 0.1, 'camels')"
      ],
      "metadata": {
        "colab": {
          "base_uri": "https://localhost:8080/",
          "height": 35
        },
        "id": "8AkTCaKwWc3O",
        "outputId": "4b788eb8-460a-4911-83e5-a81aca14c435"
      },
      "execution_count": null,
      "outputs": [
        {
          "output_type": "execute_result",
          "data": {
            "text/plain": [
              "'In 3 years I have spotted 0.1 camels.'"
            ],
            "application/vnd.google.colaboratory.intrinsic+json": {
              "type": "string"
            }
          },
          "metadata": {},
          "execution_count": 37
        }
      ]
    },
    {
      "cell_type": "markdown",
      "source": [
        "The number of elements in the tuple must match the number of format sequences\n",
        "in the string. The types of the elements also must match the format sequences:"
      ],
      "metadata": {
        "id": "4hM6bhiFWk_h"
      }
    },
    {
      "cell_type": "code",
      "source": [
        "'%d %d %d' % (1, 2)\n"
      ],
      "metadata": {
        "colab": {
          "base_uri": "https://localhost:8080/",
          "height": 166
        },
        "id": "y6XOO24LWnSb",
        "outputId": "c3338e9c-99e0-42fa-c797-20442e429574"
      },
      "execution_count": null,
      "outputs": [
        {
          "output_type": "error",
          "ename": "TypeError",
          "evalue": "ignored",
          "traceback": [
            "\u001b[0;31m---------------------------------------------------------------------------\u001b[0m",
            "\u001b[0;31mTypeError\u001b[0m                                 Traceback (most recent call last)",
            "\u001b[0;32m<ipython-input-39-4a97654d37a9>\u001b[0m in \u001b[0;36m<module>\u001b[0;34m\u001b[0m\n\u001b[0;32m----> 1\u001b[0;31m \u001b[0;34m'%d %d %d'\u001b[0m \u001b[0;34m%\u001b[0m \u001b[0;34m(\u001b[0m\u001b[0;36m1\u001b[0m\u001b[0;34m,\u001b[0m \u001b[0;36m2\u001b[0m\u001b[0;34m)\u001b[0m\u001b[0;34m\u001b[0m\u001b[0;34m\u001b[0m\u001b[0m\n\u001b[0m",
            "\u001b[0;31mTypeError\u001b[0m: not enough arguments for format string"
          ]
        }
      ]
    },
    {
      "cell_type": "code",
      "source": [
        "'%d' % 'dollars'\n"
      ],
      "metadata": {
        "colab": {
          "base_uri": "https://localhost:8080/",
          "height": 166
        },
        "id": "_hLwWWgAWrjl",
        "outputId": "80d8b32c-5af8-4e7c-f4ea-c80db5172fe7"
      },
      "execution_count": null,
      "outputs": [
        {
          "output_type": "error",
          "ename": "TypeError",
          "evalue": "ignored",
          "traceback": [
            "\u001b[0;31m---------------------------------------------------------------------------\u001b[0m",
            "\u001b[0;31mTypeError\u001b[0m                                 Traceback (most recent call last)",
            "\u001b[0;32m<ipython-input-33-f60b471c8eff>\u001b[0m in \u001b[0;36m<module>\u001b[0;34m\u001b[0m\n\u001b[0;32m----> 1\u001b[0;31m \u001b[0;34m'%d'\u001b[0m \u001b[0;34m%\u001b[0m \u001b[0;34m'dollars'\u001b[0m\u001b[0;34m\u001b[0m\u001b[0;34m\u001b[0m\u001b[0m\n\u001b[0m",
            "\u001b[0;31mTypeError\u001b[0m: %d format: a number is required, not str"
          ]
        }
      ]
    },
    {
      "cell_type": "markdown",
      "source": [
        "#Escape Character\n",
        "\n",
        "The escape character allows you to use double quotes when you normally would not be allowed:"
      ],
      "metadata": {
        "id": "n-1L8j1TPUxm"
      }
    },
    {
      "cell_type": "code",
      "source": [
        "txt = \"We are the so-called \\\\\\\"Vikings\\\\\\\" from the north.\"\n",
        "print(txt)"
      ],
      "metadata": {
        "id": "Y7yHnjzoPmVQ",
        "colab": {
          "base_uri": "https://localhost:8080/"
        },
        "outputId": "41ef42e1-08ce-4f50-b9cb-92be90f7c057"
      },
      "execution_count": null,
      "outputs": [
        {
          "output_type": "stream",
          "name": "stdout",
          "text": [
            "We are the so-called \\\"Vikings\\\" from the north.\n"
          ]
        }
      ]
    },
    {
      "cell_type": "markdown",
      "source": [
        "\n",
        "##Escape Characters\n",
        "\n",
        "```\n",
        "Other escape characters used in Python:\n",
        "\n",
        "Code\tResult\n",
        "\\'\tSingle Quote\t\n",
        "\\\\\tBackslash\t\n",
        "\\n\tNew Line\t\n",
        "\\r\tCarriage Return\t\n",
        "\\t\tTab\t\n",
        "\\b\tBackspace\t\n",
        "\\f\tForm Feed\t\n",
        "\\ooo\tOctal value\t\n",
        "\\xhh\tHex value\n",
        "```\n",
        "\n"
      ],
      "metadata": {
        "id": "3ovavgyAPq7l"
      }
    }
  ]
}